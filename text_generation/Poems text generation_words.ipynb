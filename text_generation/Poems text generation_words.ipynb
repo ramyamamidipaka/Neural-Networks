{
 "cells": [
  {
   "cell_type": "code",
   "execution_count": 1,
   "metadata": {
    "colab": {},
    "colab_type": "code",
    "id": "BOwsuGQQY9OL"
   },
   "outputs": [],
   "source": [
    "import tensorflow as tf\n",
    "\n",
    "from tensorflow.keras.preprocessing.sequence import pad_sequences\n",
    "from tensorflow.keras.layers import Embedding, LSTM, Dense, Bidirectional\n",
    "from tensorflow.keras.preprocessing.text import Tokenizer\n",
    "from tensorflow.keras.models import Sequential\n",
    "from tensorflow.keras.optimizers import Adam\n",
    "import numpy as np "
   ]
  },
  {
   "cell_type": "code",
   "execution_count": 45,
   "metadata": {
    "colab": {
     "base_uri": "https://localhost:8080/",
     "height": 34
    },
    "colab_type": "code",
    "id": "PRnDnCW-Z7qv",
    "outputId": "21482e4f-1592-41a7-8f18-dd801c468ebd"
   },
   "outputs": [
    {
     "name": "stdout",
     "output_type": "stream",
     "text": [
      "2691\n"
     ]
    }
   ],
   "source": [
    "data = open('/content/poems.txt').read()\n",
    "\n",
    "corpus = data.lower().split(\"\\n\")\n",
    "\n",
    "tokenizer.fit_on_texts(corpus)\n",
    "total_words = len(tokenizer.word_index) + 1\n",
    "\n",
    "#print(tokenizer.word_index)\n",
    "print(total_words)\n"
   ]
  },
  {
   "cell_type": "code",
   "execution_count": 44,
   "metadata": {
    "colab": {
     "base_uri": "https://localhost:8080/",
     "height": 34
    },
    "colab_type": "code",
    "id": "ye97Tf8aV_4x",
    "outputId": "4182a3ae-4fbe-4b21-dc29-d3c803c817e9"
   },
   "outputs": [
    {
     "data": {
      "text/plain": [
       "2690"
      ]
     },
     "execution_count": 44,
     "metadata": {
      "tags": []
     },
     "output_type": "execute_result"
    }
   ],
   "source": [
    "len(tokenizer.word_index)"
   ]
  },
  {
   "cell_type": "code",
   "execution_count": 46,
   "metadata": {
    "colab": {
     "base_uri": "https://localhost:8080/",
     "height": 35
    },
    "colab_type": "code",
    "id": "Bsc9p08hWnmZ",
    "outputId": "9b31403d-e1da-46f1-9278-9b09cfe34377"
   },
   "outputs": [
    {
     "data": {
      "application/vnd.google.colaboratory.intrinsic+json": {
       "type": "string"
      },
      "text/plain": [
       "'come all ye maidens young and fair'"
      ]
     },
     "execution_count": 46,
     "metadata": {
      "tags": []
     },
     "output_type": "execute_result"
    }
   ],
   "source": [
    "corpus[0]"
   ]
  },
  {
   "cell_type": "code",
   "execution_count": 47,
   "metadata": {
    "colab": {
     "base_uri": "https://localhost:8080/",
     "height": 34
    },
    "colab_type": "code",
    "id": "ZNJ_C4WJWgM8",
    "outputId": "8454d00e-89e4-4565-c497-3cfc08f9b72a"
   },
   "outputs": [
    {
     "data": {
      "text/plain": [
       "[51, 12, 99, 1311, 48, 2, 70]"
      ]
     },
     "execution_count": 47,
     "metadata": {
      "tags": []
     },
     "output_type": "execute_result"
    }
   ],
   "source": [
    "tokenizer.texts_to_sequences([corpus[0]])[0]"
   ]
  },
  {
   "cell_type": "code",
   "execution_count": 48,
   "metadata": {
    "colab": {},
    "colab_type": "code",
    "id": "soPGVheskaQP"
   },
   "outputs": [],
   "source": [
    "input_sequences = []\n",
    "for line in corpus:\n",
    "\ttoken_list = tokenizer.texts_to_sequences([line])[0]\n",
    "\tfor i in range(1, len(token_list)):\n",
    "\t\tn_gram_sequence = token_list[:i+1]\n",
    "\t\tinput_sequences.append(n_gram_sequence)\n",
    "\n"
   ]
  },
  {
   "cell_type": "code",
   "execution_count": 50,
   "metadata": {
    "colab": {
     "base_uri": "https://localhost:8080/",
     "height": 34
    },
    "colab_type": "code",
    "id": "UYM3x5qJXnmE",
    "outputId": "7af844ee-fc31-42fc-8952-4d9d4edfb0f4"
   },
   "outputs": [
    {
     "data": {
      "text/plain": [
       "12038"
      ]
     },
     "execution_count": 50,
     "metadata": {
      "tags": []
     },
     "output_type": "execute_result"
    }
   ],
   "source": [
    "len(input_sequences)"
   ]
  },
  {
   "cell_type": "code",
   "execution_count": 51,
   "metadata": {
    "colab": {},
    "colab_type": "code",
    "id": "RyyiQvFjWQTM"
   },
   "outputs": [],
   "source": [
    "# pad sequences \n",
    "max_sequence_len = max([len(x) for x in input_sequences])\n",
    "input_sequences = np.array(pad_sequences(input_sequences, maxlen=max_sequence_len, padding='pre'))\n",
    "\n",
    "# create predictors and label\n",
    "\n",
    "# here for every sequence in the input sequence X is all but last token and Y is last token, in this way we can predict the next word in the given input sequence\n",
    "xs, labels = input_sequences[:,:-1],input_sequences[:,-1]\n",
    "\n",
    "#OHE for last word, example in sequence [4, 2, 66, 8, 67, 68, 69, 70], X is [4, 2, 66, 8, 67, 68, 69] Y is [70]\n",
    "ys = tf.keras.utils.to_categorical(labels, num_classes=total_words)"
   ]
  },
  {
   "cell_type": "code",
   "execution_count": 52,
   "metadata": {
    "colab": {
     "base_uri": "https://localhost:8080/",
     "height": 150
    },
    "colab_type": "code",
    "id": "pJtwVB2NbOAP",
    "outputId": "b57a66c2-e38d-477f-9d65-9919d7079ab3"
   },
   "outputs": [
    {
     "name": "stdout",
     "output_type": "stream",
     "text": [
      "8\n",
      "1\n",
      "69\n",
      "6\n",
      "583\n",
      "39\n",
      "1218\n",
      "1219\n"
     ]
    }
   ],
   "source": [
    "print(tokenizer.word_index['in'])\n",
    "print(tokenizer.word_index['the'])\n",
    "print(tokenizer.word_index['town'])\n",
    "print(tokenizer.word_index['of'])\n",
    "print(tokenizer.word_index['athy'])\n",
    "print(tokenizer.word_index['one'])\n",
    "print(tokenizer.word_index['jeremy'])\n",
    "print(tokenizer.word_index['lanigan'])"
   ]
  },
  {
   "cell_type": "code",
   "execution_count": 53,
   "metadata": {
    "colab": {
     "base_uri": "https://localhost:8080/",
     "height": 34
    },
    "colab_type": "code",
    "id": "49Cv68JOakwv",
    "outputId": "44e5c706-05ff-4a88-bc2f-c87c1dc7f773"
   },
   "outputs": [
    {
     "name": "stdout",
     "output_type": "stream",
     "text": [
      "[0 0 0 0 0 0 0 0 0 0 0 0 0 0 2]\n"
     ]
    }
   ],
   "source": [
    "print(xs[6])"
   ]
  },
  {
   "cell_type": "code",
   "execution_count": 54,
   "metadata": {
    "colab": {
     "base_uri": "https://localhost:8080/",
     "height": 34
    },
    "colab_type": "code",
    "id": "iY-jwvfgbEF8",
    "outputId": "90a86148-7c91-4a4f-d1b8-98d25095c060"
   },
   "outputs": [
    {
     "name": "stdout",
     "output_type": "stream",
     "text": [
      "[0. 0. 0. ... 0. 0. 0.]\n"
     ]
    }
   ],
   "source": [
    "print(ys[6])"
   ]
  },
  {
   "cell_type": "code",
   "execution_count": 55,
   "metadata": {
    "colab": {
     "base_uri": "https://localhost:8080/",
     "height": 67
    },
    "colab_type": "code",
    "id": "wtzlUMYadhKt",
    "outputId": "1e0d2497-0347-45dc-9d03-44ca653f754f"
   },
   "outputs": [
    {
     "name": "stdout",
     "output_type": "stream",
     "text": [
      "[   0    0    0    0    0    0    0    0    0   51   12   99 1311   48\n",
      "    2]\n",
      "[0. 0. 0. ... 0. 0. 0.]\n"
     ]
    }
   ],
   "source": [
    "print(xs[5])\n",
    "print(ys[5])"
   ]
  },
  {
   "cell_type": "code",
   "execution_count": 56,
   "metadata": {
    "colab": {
     "base_uri": "https://localhost:8080/",
     "height": 1000
    },
    "colab_type": "code",
    "id": "w9vH8Y59ajYL",
    "outputId": "d92c42ac-d0ed-4449-ac2f-16c12fd6e824"
   },
   "outputs": [
    {
     "name": "stdout",
     "output_type": "stream",
     "text": [
      "Epoch 1/100\n",
      "377/377 [==============================] - 3s 9ms/step - loss: 6.6344 - accuracy: 0.0752\n",
      "Epoch 2/100\n",
      "377/377 [==============================] - 3s 9ms/step - loss: 5.7472 - accuracy: 0.1138\n",
      "Epoch 3/100\n",
      "377/377 [==============================] - 3s 9ms/step - loss: 4.8924 - accuracy: 0.1587\n",
      "Epoch 4/100\n",
      "377/377 [==============================] - 3s 9ms/step - loss: 3.9698 - accuracy: 0.2358\n",
      "Epoch 5/100\n",
      "377/377 [==============================] - 3s 9ms/step - loss: 3.1054 - accuracy: 0.3393\n",
      "Epoch 6/100\n",
      "377/377 [==============================] - 3s 9ms/step - loss: 2.4161 - accuracy: 0.4539\n",
      "Epoch 7/100\n",
      "377/377 [==============================] - 3s 9ms/step - loss: 1.9217 - accuracy: 0.5466\n",
      "Epoch 8/100\n",
      "377/377 [==============================] - 3s 9ms/step - loss: 1.5857 - accuracy: 0.6179\n",
      "Epoch 9/100\n",
      "377/377 [==============================] - 3s 9ms/step - loss: 1.3260 - accuracy: 0.6782\n",
      "Epoch 10/100\n",
      "377/377 [==============================] - 3s 9ms/step - loss: 1.1198 - accuracy: 0.7309\n",
      "Epoch 11/100\n",
      "377/377 [==============================] - 3s 9ms/step - loss: 1.0189 - accuracy: 0.7564\n",
      "Epoch 12/100\n",
      "377/377 [==============================] - 3s 9ms/step - loss: 0.9925 - accuracy: 0.7591\n",
      "Epoch 13/100\n",
      "377/377 [==============================] - 3s 9ms/step - loss: 0.9482 - accuracy: 0.7617\n",
      "Epoch 14/100\n",
      "377/377 [==============================] - 3s 9ms/step - loss: 1.0261 - accuracy: 0.7417\n",
      "Epoch 15/100\n",
      "377/377 [==============================] - 3s 9ms/step - loss: 1.1481 - accuracy: 0.7066\n",
      "Epoch 16/100\n",
      "377/377 [==============================] - 3s 9ms/step - loss: 1.1468 - accuracy: 0.7049\n",
      "Epoch 17/100\n",
      "377/377 [==============================] - 3s 9ms/step - loss: 1.0565 - accuracy: 0.7266\n",
      "Epoch 18/100\n",
      "377/377 [==============================] - 3s 9ms/step - loss: 0.9512 - accuracy: 0.7549\n",
      "Epoch 19/100\n",
      "377/377 [==============================] - 3s 9ms/step - loss: 0.8817 - accuracy: 0.7694\n",
      "Epoch 20/100\n",
      "377/377 [==============================] - 3s 9ms/step - loss: 0.8718 - accuracy: 0.7758\n",
      "Epoch 21/100\n",
      "377/377 [==============================] - 3s 9ms/step - loss: 0.8760 - accuracy: 0.7738\n",
      "Epoch 22/100\n",
      "377/377 [==============================] - 3s 9ms/step - loss: 0.8769 - accuracy: 0.7695\n",
      "Epoch 23/100\n",
      "377/377 [==============================] - 3s 9ms/step - loss: 0.9174 - accuracy: 0.7632\n",
      "Epoch 24/100\n",
      "377/377 [==============================] - 3s 9ms/step - loss: 0.9414 - accuracy: 0.7510\n",
      "Epoch 25/100\n",
      "377/377 [==============================] - 3s 9ms/step - loss: 0.9544 - accuracy: 0.7462\n",
      "Epoch 26/100\n",
      "377/377 [==============================] - 3s 9ms/step - loss: 0.9351 - accuracy: 0.7532\n",
      "Epoch 27/100\n",
      "377/377 [==============================] - 3s 9ms/step - loss: 0.8918 - accuracy: 0.7657\n",
      "Epoch 28/100\n",
      "377/377 [==============================] - 3s 9ms/step - loss: 0.8459 - accuracy: 0.7768\n",
      "Epoch 29/100\n",
      "377/377 [==============================] - 3s 9ms/step - loss: 0.8882 - accuracy: 0.7689\n",
      "Epoch 30/100\n",
      "377/377 [==============================] - 3s 9ms/step - loss: 0.9885 - accuracy: 0.7392\n",
      "Epoch 31/100\n",
      "377/377 [==============================] - 3s 9ms/step - loss: 0.9787 - accuracy: 0.7394\n",
      "Epoch 32/100\n",
      "377/377 [==============================] - 3s 9ms/step - loss: 0.9243 - accuracy: 0.7531\n",
      "Epoch 33/100\n",
      "377/377 [==============================] - 3s 9ms/step - loss: 0.8872 - accuracy: 0.7637\n",
      "Epoch 34/100\n",
      "377/377 [==============================] - 3s 9ms/step - loss: 0.8445 - accuracy: 0.7760\n",
      "Epoch 35/100\n",
      "377/377 [==============================] - 3s 9ms/step - loss: 0.8191 - accuracy: 0.7829\n",
      "Epoch 36/100\n",
      "377/377 [==============================] - 3s 9ms/step - loss: 0.7472 - accuracy: 0.8026\n",
      "Epoch 37/100\n",
      "377/377 [==============================] - 3s 9ms/step - loss: 0.7671 - accuracy: 0.7954\n",
      "Epoch 38/100\n",
      "377/377 [==============================] - 3s 9ms/step - loss: 0.8568 - accuracy: 0.7740\n",
      "Epoch 39/100\n",
      "377/377 [==============================] - 3s 9ms/step - loss: 0.9445 - accuracy: 0.7488\n",
      "Epoch 40/100\n",
      "377/377 [==============================] - 3s 9ms/step - loss: 0.9811 - accuracy: 0.7363\n",
      "Epoch 41/100\n",
      "377/377 [==============================] - 3s 9ms/step - loss: 0.9335 - accuracy: 0.7513\n",
      "Epoch 42/100\n",
      "377/377 [==============================] - 3s 9ms/step - loss: 0.8504 - accuracy: 0.7736\n",
      "Epoch 43/100\n",
      "377/377 [==============================] - 3s 9ms/step - loss: 0.8479 - accuracy: 0.7707\n",
      "Epoch 44/100\n",
      "377/377 [==============================] - 3s 9ms/step - loss: 0.8333 - accuracy: 0.7768\n",
      "Epoch 45/100\n",
      "377/377 [==============================] - 3s 9ms/step - loss: 0.8013 - accuracy: 0.7850\n",
      "Epoch 46/100\n",
      "377/377 [==============================] - 3s 9ms/step - loss: 0.8148 - accuracy: 0.7814\n",
      "Epoch 47/100\n",
      "377/377 [==============================] - 3s 9ms/step - loss: 0.8251 - accuracy: 0.7805\n",
      "Epoch 48/100\n",
      "377/377 [==============================] - 3s 9ms/step - loss: 0.9010 - accuracy: 0.7578\n",
      "Epoch 49/100\n",
      "377/377 [==============================] - 3s 9ms/step - loss: 0.9023 - accuracy: 0.7592\n",
      "Epoch 50/100\n",
      "377/377 [==============================] - 3s 9ms/step - loss: 0.8639 - accuracy: 0.7672\n",
      "Epoch 51/100\n",
      "377/377 [==============================] - 3s 9ms/step - loss: 0.8725 - accuracy: 0.7641\n",
      "Epoch 52/100\n",
      "377/377 [==============================] - 3s 9ms/step - loss: 0.8337 - accuracy: 0.7745\n",
      "Epoch 53/100\n",
      "377/377 [==============================] - 3s 9ms/step - loss: 0.8064 - accuracy: 0.7853\n",
      "Epoch 54/100\n",
      "377/377 [==============================] - 3s 9ms/step - loss: 0.7876 - accuracy: 0.7896\n",
      "Epoch 55/100\n",
      "377/377 [==============================] - 3s 9ms/step - loss: 0.7805 - accuracy: 0.7884\n",
      "Epoch 56/100\n",
      "377/377 [==============================] - 3s 9ms/step - loss: 0.7858 - accuracy: 0.7903\n",
      "Epoch 57/100\n",
      "377/377 [==============================] - 3s 9ms/step - loss: 0.8359 - accuracy: 0.7769\n",
      "Epoch 58/100\n",
      "377/377 [==============================] - 3s 9ms/step - loss: 0.8531 - accuracy: 0.7669\n",
      "Epoch 59/100\n",
      "377/377 [==============================] - 3s 9ms/step - loss: 0.8763 - accuracy: 0.7622\n",
      "Epoch 60/100\n",
      "377/377 [==============================] - 3s 9ms/step - loss: 0.8659 - accuracy: 0.7672\n",
      "Epoch 61/100\n",
      "377/377 [==============================] - 3s 9ms/step - loss: 0.8788 - accuracy: 0.7645\n",
      "Epoch 62/100\n",
      "377/377 [==============================] - 3s 9ms/step - loss: 0.8871 - accuracy: 0.7623\n",
      "Epoch 63/100\n",
      "377/377 [==============================] - 3s 9ms/step - loss: 0.8384 - accuracy: 0.7760\n",
      "Epoch 64/100\n",
      "377/377 [==============================] - 3s 9ms/step - loss: 0.8030 - accuracy: 0.7813\n",
      "Epoch 65/100\n",
      "377/377 [==============================] - 3s 9ms/step - loss: 0.7618 - accuracy: 0.7937\n",
      "Epoch 66/100\n",
      "377/377 [==============================] - 3s 9ms/step - loss: 0.7361 - accuracy: 0.8039\n",
      "Epoch 67/100\n",
      "377/377 [==============================] - 3s 9ms/step - loss: 0.7263 - accuracy: 0.8050\n",
      "Epoch 68/100\n",
      "377/377 [==============================] - 3s 9ms/step - loss: 0.7540 - accuracy: 0.7979\n",
      "Epoch 69/100\n",
      "377/377 [==============================] - 3s 9ms/step - loss: 0.7882 - accuracy: 0.7878\n",
      "Epoch 70/100\n",
      "377/377 [==============================] - 3s 9ms/step - loss: 0.8766 - accuracy: 0.7657\n",
      "Epoch 71/100\n",
      "377/377 [==============================] - 3s 9ms/step - loss: 0.9007 - accuracy: 0.7580\n",
      "Epoch 72/100\n",
      "377/377 [==============================] - 3s 9ms/step - loss: 0.8808 - accuracy: 0.7629\n",
      "Epoch 73/100\n",
      "377/377 [==============================] - 3s 9ms/step - loss: 0.8244 - accuracy: 0.7811\n",
      "Epoch 74/100\n",
      "377/377 [==============================] - 3s 9ms/step - loss: 0.7965 - accuracy: 0.7839\n",
      "Epoch 75/100\n",
      "377/377 [==============================] - 3s 9ms/step - loss: 0.7731 - accuracy: 0.7945\n",
      "Epoch 76/100\n",
      "377/377 [==============================] - 3s 9ms/step - loss: 0.7486 - accuracy: 0.7987\n",
      "Epoch 77/100\n",
      "377/377 [==============================] - 3s 9ms/step - loss: 0.7212 - accuracy: 0.8064\n",
      "Epoch 78/100\n",
      "377/377 [==============================] - 3s 9ms/step - loss: 0.7376 - accuracy: 0.8000\n",
      "Epoch 79/100\n",
      "377/377 [==============================] - 3s 9ms/step - loss: 0.7589 - accuracy: 0.7937\n",
      "Epoch 80/100\n",
      "377/377 [==============================] - 3s 9ms/step - loss: 0.8421 - accuracy: 0.7753\n",
      "Epoch 81/100\n",
      "377/377 [==============================] - 3s 9ms/step - loss: 0.9065 - accuracy: 0.7584\n",
      "Epoch 82/100\n",
      "377/377 [==============================] - 3s 9ms/step - loss: 0.9094 - accuracy: 0.7574\n",
      "Epoch 83/100\n",
      "377/377 [==============================] - 3s 9ms/step - loss: 0.8556 - accuracy: 0.7716\n",
      "Epoch 84/100\n",
      "377/377 [==============================] - 3s 9ms/step - loss: 0.8160 - accuracy: 0.7825\n",
      "Epoch 85/100\n",
      "377/377 [==============================] - 3s 9ms/step - loss: 0.7739 - accuracy: 0.7907\n",
      "Epoch 86/100\n",
      "377/377 [==============================] - 3s 9ms/step - loss: 0.7983 - accuracy: 0.7848\n",
      "Epoch 87/100\n",
      "377/377 [==============================] - 3s 9ms/step - loss: 0.7991 - accuracy: 0.7880\n",
      "Epoch 88/100\n",
      "377/377 [==============================] - 3s 9ms/step - loss: 0.7585 - accuracy: 0.7917\n",
      "Epoch 89/100\n",
      "377/377 [==============================] - 3s 8ms/step - loss: 0.7711 - accuracy: 0.7917\n",
      "Epoch 90/100\n",
      "377/377 [==============================] - 3s 9ms/step - loss: 0.7761 - accuracy: 0.7917\n",
      "Epoch 91/100\n",
      "377/377 [==============================] - 3s 9ms/step - loss: 0.7801 - accuracy: 0.7920\n",
      "Epoch 92/100\n",
      "377/377 [==============================] - 3s 9ms/step - loss: 0.7972 - accuracy: 0.7877\n",
      "Epoch 93/100\n",
      "377/377 [==============================] - 3s 9ms/step - loss: 0.8050 - accuracy: 0.7851\n",
      "Epoch 94/100\n",
      "377/377 [==============================] - 3s 9ms/step - loss: 0.8323 - accuracy: 0.7785\n",
      "Epoch 95/100\n",
      "377/377 [==============================] - 3s 9ms/step - loss: 0.8700 - accuracy: 0.7675\n",
      "Epoch 96/100\n",
      "377/377 [==============================] - 3s 9ms/step - loss: 0.8571 - accuracy: 0.7712\n",
      "Epoch 97/100\n",
      "377/377 [==============================] - 3s 9ms/step - loss: 0.8658 - accuracy: 0.7722\n",
      "Epoch 98/100\n",
      "377/377 [==============================] - 3s 9ms/step - loss: 0.8227 - accuracy: 0.7829\n",
      "Epoch 99/100\n",
      "377/377 [==============================] - 3s 9ms/step - loss: 0.7878 - accuracy: 0.7887\n",
      "Epoch 100/100\n",
      "377/377 [==============================] - 3s 9ms/step - loss: 0.8074 - accuracy: 0.7834\n",
      "<tensorflow.python.keras.engine.sequential.Sequential object at 0x7f9974d15fd0>\n"
     ]
    }
   ],
   "source": [
    " model = Sequential()\n",
    "model.add(Embedding(total_words, 100, input_length=max_sequence_len-1))\n",
    "model.add(Bidirectional(LSTM(150)))\n",
    "model.add(Dense(total_words, activation='softmax'))\n",
    "adam = Adam(lr=0.01)\n",
    "model.compile(loss='categorical_crossentropy', optimizer=adam, metrics=['accuracy'])\n",
    "#earlystop = EarlyStopping(monitor='val_loss', min_delta=0, patience=5, verbose=0, mode='auto')\n",
    "history = model.fit(xs, ys, epochs=100, verbose=1)\n",
    "#print model.summary()\n",
    "print(model)\n"
   ]
  },
  {
   "cell_type": "code",
   "execution_count": 57,
   "metadata": {
    "colab": {},
    "colab_type": "code",
    "id": "3YXGelKThoTT"
   },
   "outputs": [],
   "source": [
    "import matplotlib.pyplot as plt\n",
    "\n",
    "\n",
    "def plot_graphs(history, string):\n",
    "  plt.plot(history.history[string])\n",
    "  plt.xlabel(\"Epochs\")\n",
    "  plt.ylabel(string)\n",
    "  plt.show()"
   ]
  },
  {
   "cell_type": "code",
   "execution_count": 58,
   "metadata": {
    "colab": {
     "base_uri": "https://localhost:8080/",
     "height": 279
    },
    "colab_type": "code",
    "id": "poeprYK8h-c7",
    "outputId": "9525a32e-eb16-4940-e29c-d3e17c4dc260"
   },
   "outputs": [
    {
     "data": {
      "image/png": "[encoded data removed]",
      "text/plain": [
       "<Figure size 432x288 with 1 Axes>"
      ]
     },
     "metadata": {
      "needs_background": "light",
      "tags": []
     },
     "output_type": "display_data"
    }
   ],
   "source": [
    "plot_graphs(history, 'accuracy')\n"
   ]
  },
  {
   "cell_type": "code",
   "execution_count": 59,
   "metadata": {
    "colab": {
     "base_uri": "https://localhost:8080/",
     "height": 54
    },
    "colab_type": "code",
    "id": "6Vc6PHgxa6Hm",
    "outputId": "b8aa3c72-8734-4928-d2ce-4e14b240ec6d"
   },
   "outputs": [
    {
     "name": "stdout",
     "output_type": "stream",
     "text": [
      "I've got a bad feeling about this daylight the bed is free troubles to your eyes gone alas is wouldst gone by rocky gone on sea and sea holds my hear a her gear gone her on my barley on your gone and rocky gone and gone and i hear someone tapping gone and i love gone and white with love gone the gone where high side i love i love gone gone without train i gone gone alas gone and i was walking gone and gone and then i love a gone her gone and gone her gear gone and gone and then gone alas gone\n"
     ]
    }
   ],
   "source": [
    "seed_text = \"I've got a bad feeling about this\"\n",
    "next_words = 100\n",
    "  \n",
    "for _ in range(next_words):\n",
    "\ttoken_list = tokenizer.texts_to_sequences([seed_text])[0]\n",
    "\ttoken_list = pad_sequences([token_list], maxlen=max_sequence_len-1, padding='pre')\n",
    "\tpredicted = model.predict_classes(token_list, verbose=0)\n",
    "\toutput_word = \"\"\n",
    "\tfor word, index in tokenizer.word_index.items():\n",
    "\t\tif index == predicted:\n",
    "\t\t\toutput_word = word\n",
    "\t\t\tbreak\n",
    "\tseed_text += \" \" + output_word\n",
    "print(seed_text)"
   ]
  },
  {
   "cell_type": "code",
   "execution_count": 60,
   "metadata": {
    "colab": {
     "base_uri": "https://localhost:8080/",
     "height": 34
    },
    "colab_type": "code",
    "id": "0zMN2PNMei_9",
    "outputId": "767a336d-a382-49e0-8cc4-3f9d26956985"
   },
   "outputs": [
    {
     "name": "stdout",
     "output_type": "stream",
     "text": [
      "[1082]\n"
     ]
    }
   ],
   "source": [
    "# the bigger the input text better is our text generation\n",
    "\n",
    "seed_text = \"I've got a bad feeling about this\"\n",
    "token_list = tokenizer.texts_to_sequences([seed_text])[0]\n",
    "token_list = pad_sequences([token_list], maxlen=max_sequence_len-1, padding='pre')\n",
    "predicted=np.argmax(model.predict([token_list]), axis=-1)\n",
    "print (predicted)"
   ]
  },
  {
   "cell_type": "code",
   "execution_count": 61,
   "metadata": {
    "colab": {
     "base_uri": "https://localhost:8080/",
     "height": 34
    },
    "colab_type": "code",
    "id": "-uQanasUdU4-",
    "outputId": "eb17500c-260f-41c5-c9a4-bd2615e4ebe1"
   },
   "outputs": [
    {
     "name": "stdout",
     "output_type": "stream",
     "text": [
      "daylight\n"
     ]
    }
   ],
   "source": [
    "for word, index in tokenizer.word_index.items():\n",
    "\t\tif index == predicted[0]:\n",
    "\t\t\tprint (word)"
   ]
  },
  {
   "cell_type": "code",
   "execution_count": 1,
   "metadata": {
    "colab": {},
    "colab_type": "code",
    "id": "mhNnhQSge1_D"
   },
   "outputs": [],
   "source": [
    "# here we see as the number of words increase the embedding matrix increases in size, so instead of words char text generation is better wrt to computation"
   ]
  },
  {
   "cell_type": "code",
   "execution_count": null,
   "metadata": {},
   "outputs": [],
   "source": []
  }
 ],
 "metadata": {
  "accelerator": "GPU",
  "colab": {
   "collapsed_sections": [],
   "name": "Course 3 - Week 4 - Lesson 1 - Notebook.ipynb",
   "provenance": [],
   "toc_visible": true
  },
  "kernelspec": {
   "display_name": "Python 3",
   "language": "python",
   "name": "python3"
  },
  "language_info": {
   "codemirror_mode": {
    "name": "ipython",
    "version": 3
   },
   "file_extension": ".py",
   "mimetype": "text/x-python",
   "name": "python",
   "nbconvert_exporter": "python",
   "pygments_lexer": "ipython3",
   "version": "3.7.3"
  }
 },
 "nbformat": 4,
 "nbformat_minor": 1
}
