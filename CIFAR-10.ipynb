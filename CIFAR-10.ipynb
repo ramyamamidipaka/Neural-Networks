{
 "cells": [
  {
   "cell_type": "markdown",
   "metadata": {
    "colab_type": "text",
    "id": "aQ5-1FBgGe1B"
   },
   "source": [
    "## 1. Loading and preparing the Dataset"
   ]
  },
  {
   "cell_type": "code",
   "execution_count": 1,
   "metadata": {
    "colab": {
     "base_uri": "https://localhost:8080/",
     "height": 395,
     "referenced_widgets": [
      "d57b327ce03f4d9c9beb3e965bff439c",
      "86e0caccdd9d421d956781ffc0c5a884",
      "614be1f842b245a28ca8f09f9f99379f",
      "4aa5708f489444a19f91f8011a66e195",
      "480c4ba40afa4a928201277a4f4499af",
      "330743015f7540f6ae373bde60f30d93",
      "8e3fc72451454244a8b96bcaac8ad728",
      "9d5a33e4cd0b456185596ba3df720917",
      "3ca24f6807a940b09f59f99a0e385718",
      "8bd5c13695164fbebc22dbb2609f119c",
      "c30ff4aca20e40d1bde3afa198d7001a",
      "9d6b1b121e9d49099cbb75237ac0eec6",
      "244a15f5fc10413bbc862047e850a9e6",
      "c46e881b520d45c78bc0df7273012d41",
      "b7e7e5e5ec0740669cbb9e6b8d61b018",
      "dd67845e7a824d47b7b696d9a50a7a4a",
      "c0385b6c4c0a4056b530dcc2c115f3dc",
      "971ac2480b164ec7bdd3843fbe5edcdb",
      "fb8e4b00355540fbbea9a52d41f3ac58",
      "e469142cffbb41fca088db681fc35c12",
      "2eb350bbd4d14d94aff8ce87db17e67e",
      "11960020a7064722a01056a6186e5411",
      "0621cfa6e310468c9ae7e2ddf42d8469",
      "5a76c44255a84cfb980fcc146dd1dd37",
      "15e34b305b144411a9b13f8f6abff4ff",
      "2566e24f264242b98171130fff740f12",
      "4998531c01d7493ea37364bc3dd5a32c",
      "de26eecc972f48a09cab1a45ef423879",
      "8b4cab80bbb644c5ad009b49ab59233d",
      "293666e25ba24e0fa9cdfb84731fc6e6",
      "6391713d5cc542f6b0c9bf8f06771c09",
      "098dfad291ac460c94e97ac9c0b6e7d5",
      "e8a4893701f84c549b9a6293588d37bc",
      "852a08b0441c4b14a92ee51e60923933",
      "f473f55284284cb7a70e79252caa5caa",
      "b612f983b542465188a493492aa211ee",
      "2e61b6204b1943aaabc2a86806617554",
      "6a90e7f842054a4493c30f8343b9cc5c",
      "48c9d7d74fd642b2be68b69da48f3e32",
      "b8923a3185f24ccf92c2b61b42dfa843",
      "24a39c593d1948b6af9a54f1f6a05853",
      "61fb7f6928e548d7b37053d606855fad",
      "fbe74a7b0db747d39d0211d453c0a0c4",
      "5489a9368e9846e7946bbb2e2258e8dd",
      "dc7c29e4634d4c0c8ba81f054e9ab47f",
      "b342afbffb0f438eb59987835ccb28b0",
      "d44d26ac511d470495331bfa386afe50",
      "8575c428a0234c7f939f3f32e4e0a21d",
      "04a8e7d6534b4271bf823200ae4256ca",
      "2fb48f17e2ea41459739fc7d992be40c",
      "45c9e406da7b41ccbbef56561440095b",
      "b8d26535743048d2b844b0bdca7155f9",
      "7202d0f805454d1d849defcbdb3f6ebd",
      "c868e2d6b1ed47fcb88d83505e1dd081",
      "cef4438a6b6845598ba50a5391b3f771",
      "f76f299f237f480cb6f6bdcb0b82e2f1"
     ]
    },
    "colab_type": "code",
    "executionInfo": {
     "elapsed": 56115,
     "status": "ok",
     "timestamp": 1597330995168,
     "user": {
      "displayName": "Ramya M",
      "photoUrl": "https://lh3.googleusercontent.com/a-/AOh14GheD7xDJjilSTs07ps8JBlfTMUd0HfGasTP_st1VA=s64",
      "userId": "03685800952685311499"
     },
     "user_tz": 420
    },
    "id": "IRqdj9XiFJJM",
    "outputId": "1f14b2b0-44dc-4f85-d9e4-db3a1a3d607f"
   },
   "outputs": [
    {
     "name": "stderr",
     "output_type": "stream",
     "text": [
      "C:\\Users\\ramya\\Anaconda3\\envs\\py3tf2\\lib\\site-packages\\ipykernel\\parentpoller.py:116: UserWarning: Parent poll failed.  If the frontend dies,\n",
      "                the kernel may be left running.  Please let us know\n",
      "                about your system (bitness, Python, etc.) at\n",
      "                ipython-dev@scipy.org\n",
      "  ipython-dev@scipy.org\"\"\")\n",
      "Using TensorFlow backend.\n"
     ]
    }
   ],
   "source": [
    "import tensorflow_datasets as tfds\n",
    "import tensorflow as tf\n",
    "import matplotlib.pyplot as plt\n",
    "import numpy as np\n",
    "import os\n",
    "import PIL\n",
    "import PIL.Image\n",
    "import tensorflow_datasets as tfds\n",
    "from tensorflow.keras.preprocessing.image import ImageDataGenerator\n",
    "import tensorflow.keras.backend as K\n",
    "from tensorflow.keras.applications import *\n",
    "from tensorflow.keras.layers import *\n",
    "from tensorflow.keras.models import *\n",
    "import keras\n",
    "\n",
    "import warnings\n",
    "warnings.filterwarnings(\"ignore\")\n",
    "\n",
    "#ref https://www.kaggle.com/roblexnana/cifar10-with-cnn-for-beginer"
   ]
  },
  {
   "cell_type": "code",
   "execution_count": 2,
   "metadata": {},
   "outputs": [],
   "source": [
    "\n",
    "dataset,info = tfds.load('cifar10', as_supervised = True, with_info = True, batch_size = -1)\n",
    "dataset_test, dataset_train = dataset['test'], dataset['train']\n"
   ]
  },
  {
   "cell_type": "code",
   "execution_count": 3,
   "metadata": {
    "colab": {
     "base_uri": "https://localhost:8080/",
     "height": 34
    },
    "colab_type": "code",
    "executionInfo": {
     "elapsed": 55626,
     "status": "ok",
     "timestamp": 1597330995170,
     "user": {
      "displayName": "Ramya M",
      "photoUrl": "https://lh3.googleusercontent.com/a-/AOh14GheD7xDJjilSTs07ps8JBlfTMUd0HfGasTP_st1VA=s64",
      "userId": "03685800952685311499"
     },
     "user_tz": 420
    },
    "id": "IMZVbxy4FTTR",
    "outputId": "2985acb8-9791-4337-8186-779fdb4616e6"
   },
   "outputs": [
    {
     "data": {
      "text/plain": [
       "dict"
      ]
     },
     "execution_count": 3,
     "metadata": {},
     "output_type": "execute_result"
    }
   ],
   "source": [
    "type(dataset)"
   ]
  },
  {
   "cell_type": "code",
   "execution_count": 4,
   "metadata": {
    "colab": {
     "base_uri": "https://localhost:8080/",
     "height": 34
    },
    "colab_type": "code",
    "executionInfo": {
     "elapsed": 55283,
     "status": "ok",
     "timestamp": 1597330995171,
     "user": {
      "displayName": "Ramya M",
      "photoUrl": "https://lh3.googleusercontent.com/a-/AOh14GheD7xDJjilSTs07ps8JBlfTMUd0HfGasTP_st1VA=s64",
      "userId": "03685800952685311499"
     },
     "user_tz": 420
    },
    "id": "3mDQjCDUFvGu",
    "outputId": "df65b903-e105-4ba6-be1f-67bd31dbcd22"
   },
   "outputs": [
    {
     "data": {
      "text/plain": [
       "TensorShape([32, 32, 3])"
      ]
     },
     "execution_count": 4,
     "metadata": {},
     "output_type": "execute_result"
    }
   ],
   "source": [
    "dataset_train[0][0].shape"
   ]
  },
  {
   "cell_type": "code",
   "execution_count": 5,
   "metadata": {
    "colab": {
     "base_uri": "https://localhost:8080/",
     "height": 34
    },
    "colab_type": "code",
    "executionInfo": {
     "elapsed": 54942,
     "status": "ok",
     "timestamp": 1597330995172,
     "user": {
      "displayName": "Ramya M",
      "photoUrl": "https://lh3.googleusercontent.com/a-/AOh14GheD7xDJjilSTs07ps8JBlfTMUd0HfGasTP_st1VA=s64",
      "userId": "03685800952685311499"
     },
     "user_tz": 420
    },
    "id": "teGxmnulFopP",
    "outputId": "17a7fbbb-ce9c-43fc-9c3f-322cd6adc324"
   },
   "outputs": [
    {
     "data": {
      "text/plain": [
       "TensorShape([50000])"
      ]
     },
     "execution_count": 5,
     "metadata": {},
     "output_type": "execute_result"
    }
   ],
   "source": [
    "dataset_train[1].shape"
   ]
  },
  {
   "cell_type": "code",
   "execution_count": 6,
   "metadata": {
    "colab": {
     "base_uri": "https://localhost:8080/",
     "height": 34
    },
    "colab_type": "code",
    "executionInfo": {
     "elapsed": 54609,
     "status": "ok",
     "timestamp": 1597330995174,
     "user": {
      "displayName": "Ramya M",
      "photoUrl": "https://lh3.googleusercontent.com/a-/AOh14GheD7xDJjilSTs07ps8JBlfTMUd0HfGasTP_st1VA=s64",
      "userId": "03685800952685311499"
     },
     "user_tz": 420
    },
    "id": "1Ms58I3fGFLD",
    "outputId": "c6508a7b-e879-4d94-9caa-1811702da6ed"
   },
   "outputs": [
    {
     "data": {
      "text/plain": [
       "TensorShape([10000, 32, 32, 3])"
      ]
     },
     "execution_count": 6,
     "metadata": {},
     "output_type": "execute_result"
    }
   ],
   "source": [
    "dataset_test[0].shape"
   ]
  },
  {
   "cell_type": "code",
   "execution_count": 7,
   "metadata": {
    "colab": {
     "base_uri": "https://localhost:8080/",
     "height": 34
    },
    "colab_type": "code",
    "executionInfo": {
     "elapsed": 54241,
     "status": "ok",
     "timestamp": 1597330995175,
     "user": {
      "displayName": "Ramya M",
      "photoUrl": "https://lh3.googleusercontent.com/a-/AOh14GheD7xDJjilSTs07ps8JBlfTMUd0HfGasTP_st1VA=s64",
      "userId": "03685800952685311499"
     },
     "user_tz": 420
    },
    "id": "nZnQvrFZGNsQ",
    "outputId": "c66a9ec1-018c-4eba-ce73-02383aa63d5d"
   },
   "outputs": [
    {
     "data": {
      "text/plain": [
       "TensorShape([10000])"
      ]
     },
     "execution_count": 7,
     "metadata": {},
     "output_type": "execute_result"
    }
   ],
   "source": [
    "dataset_test[1].shape"
   ]
  },
  {
   "cell_type": "code",
   "execution_count": 8,
   "metadata": {
    "colab": {
     "base_uri": "https://localhost:8080/",
     "height": 34
    },
    "colab_type": "code",
    "executionInfo": {
     "elapsed": 53893,
     "status": "ok",
     "timestamp": 1597330995175,
     "user": {
      "displayName": "Ramya M",
      "photoUrl": "https://lh3.googleusercontent.com/a-/AOh14GheD7xDJjilSTs07ps8JBlfTMUd0HfGasTP_st1VA=s64",
      "userId": "03685800952685311499"
     },
     "user_tz": 420
    },
    "id": "0fIFnJ5PGz_x",
    "outputId": "0eea7997-b6fb-455f-d5d0-ec96fcdd70f3"
   },
   "outputs": [
    {
     "data": {
      "text/plain": [
       "<tf.Tensor: shape=(3,), dtype=uint8, numpy=array([143,  96,  70], dtype=uint8)>"
      ]
     },
     "execution_count": 8,
     "metadata": {},
     "output_type": "execute_result"
    }
   ],
   "source": [
    "dataset_train[0][0][0][0]"
   ]
  },
  {
   "cell_type": "code",
   "execution_count": 9,
   "metadata": {
    "colab": {},
    "colab_type": "code",
    "executionInfo": {
     "elapsed": 54828,
     "status": "ok",
     "timestamp": 1597330996453,
     "user": {
      "displayName": "Ramya M",
      "photoUrl": "https://lh3.googleusercontent.com/a-/AOh14GheD7xDJjilSTs07ps8JBlfTMUd0HfGasTP_st1VA=s64",
      "userId": "03685800952685311499"
     },
     "user_tz": 420
    },
    "id": "d5kPz6ASGSwg"
   },
   "outputs": [],
   "source": [
    "## check Data normalization\n",
    "\n",
    "import numpy as np\n",
    "\n",
    "train_x = dataset_train[0] / 255\n",
    "train_y = dataset_train[1]\n",
    "test_x = dataset_test[0] / 255\n",
    "test_y = dataset_test[1]"
   ]
  },
  {
   "cell_type": "code",
   "execution_count": 10,
   "metadata": {
    "colab": {
     "base_uri": "https://localhost:8080/",
     "height": 34
    },
    "colab_type": "code",
    "executionInfo": {
     "elapsed": 54487,
     "status": "ok",
     "timestamp": 1597330996458,
     "user": {
      "displayName": "Ramya M",
      "photoUrl": "https://lh3.googleusercontent.com/a-/AOh14GheD7xDJjilSTs07ps8JBlfTMUd0HfGasTP_st1VA=s64",
      "userId": "03685800952685311499"
     },
     "user_tz": 420
    },
    "id": "8PRB0gq5GrHO",
    "outputId": "3869b78b-6344-4220-f811-fc370696053c"
   },
   "outputs": [
    {
     "data": {
      "text/plain": [
       "<tf.Tensor: shape=(3,), dtype=float32, numpy=array([0.56078434, 0.3764706 , 0.27450982], dtype=float32)>"
      ]
     },
     "execution_count": 10,
     "metadata": {},
     "output_type": "execute_result"
    }
   ],
   "source": [
    "train_x[0][0][0]"
   ]
  },
  {
   "cell_type": "markdown",
   "metadata": {
    "colab_type": "text",
    "id": "KysNOIp7HYme"
   },
   "source": [
    "## Method -1, PrefetchDataset\n",
    "Data Augmentation, Shuffling"
   ]
  },
  {
   "cell_type": "code",
   "execution_count": 11,
   "metadata": {
    "colab": {
     "base_uri": "https://localhost:8080/",
     "height": 283
    },
    "colab_type": "code",
    "executionInfo": {
     "elapsed": 53079,
     "status": "ok",
     "timestamp": 1597330996607,
     "user": {
      "displayName": "Ramya M",
      "photoUrl": "https://lh3.googleusercontent.com/a-/AOh14GheD7xDJjilSTs07ps8JBlfTMUd0HfGasTP_st1VA=s64",
      "userId": "03685800952685311499"
     },
     "user_tz": 420
    },
    "id": "S5YfEgmdGroB",
    "outputId": "8011f202-f1c9-403f-ec96-aa91cf1f6855"
   },
   "outputs": [
    {
     "data": {
      "text/plain": [
       "<matplotlib.image.AxesImage at 0x272f8399388>"
      ]
     },
     "execution_count": 11,
     "metadata": {},
     "output_type": "execute_result"
    },
    {
     "data": {
      "image/png": "[encoded data removed]",
      "text/plain": [
       "<Figure size 432x288 with 1 Axes>"
      ]
     },
     "metadata": {
      "needs_background": "light"
     },
     "output_type": "display_data"
    }
   ],
   "source": [
    "plt.imshow(train_x[100])"
   ]
  },
  {
   "cell_type": "code",
   "execution_count": 28,
   "metadata": {
    "colab": {},
    "colab_type": "code",
    "executionInfo": {
     "elapsed": 52236,
     "status": "ok",
     "timestamp": 1597330996610,
     "user": {
      "displayName": "Ramya M",
      "photoUrl": "https://lh3.googleusercontent.com/a-/AOh14GheD7xDJjilSTs07ps8JBlfTMUd0HfGasTP_st1VA=s64",
      "userId": "03685800952685311499"
     },
     "user_tz": 420
    },
    "id": "IK1cuCVgGrlV"
   },
   "outputs": [],
   "source": [
    "def augment(image,label):\n",
    "    image = tf.image.random_flip_left_right(image)\n",
    "\n",
    "    image = tf.image.random_brightness(image, 0.2)\n",
    "\n",
    "    image = tf.image.random_contrast(image, 1 / 1.3, 1.3)\n",
    "\n",
    "    image = tf.image.random_hue(image, 0.1)\n",
    "\n",
    "    image = tf.image.random_saturation(image, 1 / 1.2, 1.2)\n",
    "\n",
    "    # Randomly increase the size of the image slightly to then randomly crop a part out of it.\n",
    "    # This is a way to get random scales + translations\n",
    "    random_height = tf.random.uniform((), minval=32, maxval=40, dtype=tf.int32)\n",
    "    random_width = tf.random.uniform((), minval=32, maxval=40, dtype=tf.int32)\n",
    "    image = tf.image.resize(image, (random_height, random_width))\n",
    "    image = tf.image.random_crop(image, (32, 32, 3))\n",
    "\n",
    "    return image,label"
   ]
  },
  {
   "cell_type": "code",
   "execution_count": 13,
   "metadata": {
    "colab": {
     "base_uri": "https://localhost:8080/",
     "height": 301
    },
    "colab_type": "code",
    "executionInfo": {
     "elapsed": 51875,
     "status": "ok",
     "timestamp": 1597330997046,
     "user": {
      "displayName": "Ramya M",
      "photoUrl": "https://lh3.googleusercontent.com/a-/AOh14GheD7xDJjilSTs07ps8JBlfTMUd0HfGasTP_st1VA=s64",
      "userId": "03685800952685311499"
     },
     "user_tz": 420
    },
    "id": "i0PkdsUAGrjk",
    "outputId": "b1774a69-11fa-4598-e9c9-a077acfe649c"
   },
   "outputs": [
    {
     "name": "stderr",
     "output_type": "stream",
     "text": [
      "WARNING:matplotlib.image:Clipping input data to the valid range for imshow with RGB data ([0..1] for floats or [0..255] for integers).\n"
     ]
    },
    {
     "data": {
      "text/plain": [
       "<matplotlib.image.AxesImage at 0x2729234c9c8>"
      ]
     },
     "execution_count": 13,
     "metadata": {},
     "output_type": "execute_result"
    },
    {
     "data": {
      "image/png": "[encoded data removed]",
      "text/plain": [
       "<Figure size 432x288 with 1 Axes>"
      ]
     },
     "metadata": {
      "needs_background": "light"
     },
     "output_type": "display_data"
    }
   ],
   "source": [
    "plt.imshow(augment(train_x[100],1)[0])"
   ]
  },
  {
   "cell_type": "code",
   "execution_count": 14,
   "metadata": {
    "colab": {},
    "colab_type": "code",
    "executionInfo": {
     "elapsed": 50912,
     "status": "ok",
     "timestamp": 1597330997048,
     "user": {
      "displayName": "Ramya M",
      "photoUrl": "https://lh3.googleusercontent.com/a-/AOh14GheD7xDJjilSTs07ps8JBlfTMUd0HfGasTP_st1VA=s64",
      "userId": "03685800952685311499"
     },
     "user_tz": 420
    },
    "id": "ParggqCdgKi9"
   },
   "outputs": [],
   "source": [
    "def normalize(image, label):\n",
    "    \"\"\" Apply per image standardisation to normalize the image \"\"\"\n",
    "    return tf.image.per_image_standardization(image), label\n",
    "\n"
   ]
  },
  {
   "cell_type": "code",
   "execution_count": 15,
   "metadata": {
    "colab": {},
    "colab_type": "code",
    "executionInfo": {
     "elapsed": 50123,
     "status": "ok",
     "timestamp": 1597330997051,
     "user": {
      "displayName": "Ramya M",
      "photoUrl": "https://lh3.googleusercontent.com/a-/AOh14GheD7xDJjilSTs07ps8JBlfTMUd0HfGasTP_st1VA=s64",
      "userId": "03685800952685311499"
     },
     "user_tz": 420
    },
    "id": "KbDBuGdeGrYU"
   },
   "outputs": [],
   "source": [
    "def prepare_dataset(dataset, train=False, batch_size=512):\n",
    "    \"\"\" Applies shuffling and augmentation (if train==True) + normalization and batching to the given dataset. \"\"\"\n",
    "\n",
    "    if train:\n",
    "        # Shuffle the dataset with a buffer of 2048 and apply the augmentation\n",
    "        # Prefetching adds an output buffer for the 16 augmentation threads\n",
    "        dataset = dataset.shuffle(buffer_size=2048)\n",
    "        dataset = dataset.map(augment, num_parallel_calls=16).prefetch(buffer_size=128)\n",
    "\n",
    "    # normalize the images and batch them. Again add a buffer to prevent\n",
    "    # unnecessary stopping of the batching or starvation of the GPU\n",
    "    dataset = dataset.map(normalize, num_parallel_calls=8) \\\n",
    "        .batch(batch_size) \\\n",
    "        .prefetch(buffer_size=8)\n",
    "\n",
    "    return dataset"
   ]
  },
  {
   "cell_type": "code",
   "execution_count": 16,
   "metadata": {
    "colab": {},
    "colab_type": "code",
    "executionInfo": {
     "elapsed": 45444,
     "status": "ok",
     "timestamp": 1597330997493,
     "user": {
      "displayName": "Ramya M",
      "photoUrl": "https://lh3.googleusercontent.com/a-/AOh14GheD7xDJjilSTs07ps8JBlfTMUd0HfGasTP_st1VA=s64",
      "userId": "03685800952685311499"
     },
     "user_tz": 420
    },
    "id": "qte3DtEeXCX1"
   },
   "outputs": [],
   "source": [
    "\n",
    "# Load the test and training data as datasets with tensorflow_datasets\n",
    "train_dataset = prepare_dataset(tfds.load(name=\"cifar10\", split=tfds.Split.TRAIN, as_supervised=True), True)\n",
    "test_dataset = prepare_dataset(tfds.load(name=\"cifar10\", split=tfds.Split.TEST, as_supervised=True), False)\n"
   ]
  },
  {
   "cell_type": "code",
   "execution_count": 17,
   "metadata": {},
   "outputs": [
    {
     "data": {
      "text/plain": [
       "tensorflow.python.data.ops.dataset_ops.PrefetchDataset"
      ]
     },
     "execution_count": 17,
     "metadata": {},
     "output_type": "execute_result"
    }
   ],
   "source": [
    "type(train_dataset)"
   ]
  },
  {
   "cell_type": "code",
   "execution_count": 18,
   "metadata": {},
   "outputs": [
    {
     "data": {
      "text/plain": [
       "<PrefetchDataset shapes: ((None, 32, 32, 3), (None,)), types: (tf.float32, tf.int64)>"
      ]
     },
     "execution_count": 18,
     "metadata": {},
     "output_type": "execute_result"
    }
   ],
   "source": [
    "train_dataset.prefetch(100)"
   ]
  },
  {
   "cell_type": "code",
   "execution_count": 16,
   "metadata": {
    "colab": {
     "base_uri": "https://localhost:8080/",
     "height": 1000
    },
    "colab_type": "code",
    "executionInfo": {
     "elapsed": 827,
     "status": "ok",
     "timestamp": 1597373862231,
     "user": {
      "displayName": "Ramya M",
      "photoUrl": "https://lh3.googleusercontent.com/a-/AOh14GheD7xDJjilSTs07ps8JBlfTMUd0HfGasTP_st1VA=s64",
      "userId": "03685800952685311499"
     },
     "user_tz": 420
    },
    "id": "3PACZYPIgWfq",
    "outputId": "52c269b1-28c6-47c6-d67e-8ee3fe74df5c"
   },
   "outputs": [
    {
     "name": "stdout",
     "output_type": "stream",
     "text": [
      "Model: \"sequential\"\n",
      "_________________________________________________________________\n",
      "Layer (type)                 Output Shape              Param #   \n",
      "=================================================================\n",
      "dropout (Dropout)            (None, 32, 32, 3)         0         \n",
      "_________________________________________________________________\n",
      "conv2d (Conv2D)              (None, 32, 32, 96)        2688      \n",
      "_________________________________________________________________\n",
      "conv2d_1 (Conv2D)            (None, 32, 32, 96)        83040     \n",
      "_________________________________________________________________\n",
      "conv2d_2 (Conv2D)            (None, 16, 16, 96)        83040     \n",
      "_________________________________________________________________\n",
      "dropout_1 (Dropout)          (None, 16, 16, 96)        0         \n",
      "_________________________________________________________________\n",
      "conv2d_3 (Conv2D)            (None, 16, 16, 192)       166080    \n",
      "_________________________________________________________________\n",
      "conv2d_4 (Conv2D)            (None, 16, 16, 192)       331968    \n",
      "_________________________________________________________________\n",
      "conv2d_5 (Conv2D)            (None, 8, 8, 192)         331968    \n",
      "_________________________________________________________________\n",
      "dropout_2 (Dropout)          (None, 8, 8, 192)         0         \n",
      "_________________________________________________________________\n",
      "conv2d_6 (Conv2D)            (None, 8, 8, 192)         331968    \n",
      "_________________________________________________________________\n",
      "conv2d_7 (Conv2D)            (None, 8, 8, 192)         37056     \n",
      "_________________________________________________________________\n",
      "conv2d_8 (Conv2D)            (None, 4, 4, 192)         331968    \n",
      "_________________________________________________________________\n",
      "dropout_3 (Dropout)          (None, 4, 4, 192)         0         \n",
      "_________________________________________________________________\n",
      "conv2d_9 (Conv2D)            (None, 4, 4, 10)          1930      \n",
      "_________________________________________________________________\n",
      "average_pooling2d (AveragePo (None, 1, 1, 10)          0         \n",
      "_________________________________________________________________\n",
      "flatten (Flatten)            (None, 10)                0         \n",
      "_________________________________________________________________\n",
      "activation (Activation)      (None, 10)                0         \n",
      "=================================================================\n",
      "Total params: 1,701,706\n",
      "Trainable params: 1,701,706\n",
      "Non-trainable params: 0\n",
      "_________________________________________________________________\n",
      "Epoch 1/20\n",
      "      1/Unknown - 0s 262us/step - loss: 2.3027 - accuracy: 0.1016WARNING:tensorflow:From /usr/local/lib/python3.6/dist-packages/tensorflow/python/ops/summary_ops_v2.py:1277: stop (from tensorflow.python.eager.profiler) is deprecated and will be removed after 2020-07-01.\n",
      "Instructions for updating:\n",
      "use `tf.profiler.experimental.stop` instead.\n"
     ]
    },
    {
     "name": "stderr",
     "output_type": "stream",
     "text": [
      "WARNING:tensorflow:From /usr/local/lib/python3.6/dist-packages/tensorflow/python/ops/summary_ops_v2.py:1277: stop (from tensorflow.python.eager.profiler) is deprecated and will be removed after 2020-07-01.\n",
      "Instructions for updating:\n",
      "use `tf.profiler.experimental.stop` instead.\n"
     ]
    },
    {
     "name": "stdout",
     "output_type": "stream",
     "text": [
      "     98/Unknown - 1879s 19s/step - loss: 2.2432 - accuracy: 0.1598\n",
      "Epoch 00001: saving model to checkpoint.hdf5\n",
      "98/98 [==============================] - 1978s 20s/step - loss: 2.2432 - accuracy: 0.1598 - val_loss: 45.5115 - val_accuracy: 0.1914\n",
      "Epoch 2/20\n",
      "98/98 [==============================] - ETA: 0s - loss: 1.9900 - accuracy: 0.2712 \n",
      "Epoch 00002: saving model to checkpoint.hdf5\n",
      "98/98 [==============================] - 1964s 20s/step - loss: 1.9900 - accuracy: 0.2712 - val_loss: 82.0819 - val_accuracy: 0.3006\n",
      "Epoch 3/20\n",
      "98/98 [==============================] - ETA: 0s - loss: 1.6433 - accuracy: 0.3957 \n",
      "Epoch 00003: saving model to checkpoint.hdf5\n",
      "98/98 [==============================] - 1961s 20s/step - loss: 1.6433 - accuracy: 0.3957 - val_loss: 82.6176 - val_accuracy: 0.3256\n",
      "Epoch 4/20\n",
      "98/98 [==============================] - ETA: 0s - loss: 1.4459 - accuracy: 0.4727 \n",
      "Epoch 00004: saving model to checkpoint.hdf5\n",
      "98/98 [==============================] - 1983s 20s/step - loss: 1.4459 - accuracy: 0.4727 - val_loss: 72.8973 - val_accuracy: 0.3949\n",
      "Epoch 5/20\n",
      "98/98 [==============================] - ETA: 0s - loss: 1.2894 - accuracy: 0.5357 \n",
      "Epoch 00005: saving model to checkpoint.hdf5\n",
      "98/98 [==============================] - 1945s 20s/step - loss: 1.2894 - accuracy: 0.5357 - val_loss: 98.7233 - val_accuracy: 0.3628\n",
      "Epoch 6/20\n",
      "98/98 [==============================] - ETA: 0s - loss: 1.1674 - accuracy: 0.5816 \n",
      "Epoch 00006: saving model to checkpoint.hdf5\n",
      "98/98 [==============================] - 1941s 20s/step - loss: 1.1674 - accuracy: 0.5816 - val_loss: 82.4112 - val_accuracy: 0.4208\n",
      "Epoch 7/20\n",
      "98/98 [==============================] - ETA: 0s - loss: 1.0699 - accuracy: 0.6191 \n",
      "Epoch 00007: saving model to checkpoint.hdf5\n",
      "98/98 [==============================] - 1933s 20s/step - loss: 1.0699 - accuracy: 0.6191 - val_loss: 83.5856 - val_accuracy: 0.4541\n",
      "Epoch 8/20\n",
      "98/98 [==============================] - ETA: 0s - loss: 0.9746 - accuracy: 0.6572 \n",
      "Epoch 00008: saving model to checkpoint.hdf5\n",
      "98/98 [==============================] - 1942s 20s/step - loss: 0.9746 - accuracy: 0.6572 - val_loss: 90.5717 - val_accuracy: 0.4541\n",
      "Epoch 9/20\n",
      "98/98 [==============================] - ETA: 0s - loss: 0.9078 - accuracy: 0.6832 \n",
      "Epoch 00009: saving model to checkpoint.hdf5\n",
      "98/98 [==============================] - 1948s 20s/step - loss: 0.9078 - accuracy: 0.6832 - val_loss: 95.2837 - val_accuracy: 0.4662\n",
      "Epoch 10/20\n",
      "98/98 [==============================] - ETA: 0s - loss: 0.8459 - accuracy: 0.7043 \n",
      "Epoch 00010: saving model to checkpoint.hdf5\n",
      "98/98 [==============================] - 1940s 20s/step - loss: 0.8459 - accuracy: 0.7043 - val_loss: 82.7268 - val_accuracy: 0.5029\n",
      "Epoch 11/20\n",
      "98/98 [==============================] - ETA: 0s - loss: 0.8054 - accuracy: 0.7189 \n",
      "Epoch 00011: saving model to checkpoint.hdf5\n",
      "98/98 [==============================] - 1939s 20s/step - loss: 0.8054 - accuracy: 0.7189 - val_loss: 92.1953 - val_accuracy: 0.4483\n",
      "Epoch 12/20\n",
      "98/98 [==============================] - ETA: 0s - loss: 0.7627 - accuracy: 0.7359 \n",
      "Epoch 00012: saving model to checkpoint.hdf5\n",
      "98/98 [==============================] - 2001s 20s/step - loss: 0.7627 - accuracy: 0.7359 - val_loss: 70.9926 - val_accuracy: 0.5382\n",
      "Epoch 13/20\n",
      "98/98 [==============================] - ETA: 0s - loss: 0.7369 - accuracy: 0.7441 \n",
      "Epoch 00013: saving model to checkpoint.hdf5\n",
      "98/98 [==============================] - 1994s 20s/step - loss: 0.7369 - accuracy: 0.7441 - val_loss: 74.3568 - val_accuracy: 0.5288\n",
      "Epoch 14/20\n",
      "98/98 [==============================] - ETA: 0s - loss: 0.7089 - accuracy: 0.7543 \n",
      "Epoch 00014: saving model to checkpoint.hdf5\n",
      "98/98 [==============================] - 1978s 20s/step - loss: 0.7089 - accuracy: 0.7543 - val_loss: 76.6923 - val_accuracy: 0.5285\n",
      "Epoch 15/20\n",
      "98/98 [==============================] - ETA: 0s - loss: 0.6872 - accuracy: 0.7620 \n",
      "Epoch 00015: saving model to checkpoint.hdf5\n",
      "98/98 [==============================] - 1940s 20s/step - loss: 0.6872 - accuracy: 0.7620 - val_loss: 78.6896 - val_accuracy: 0.5356\n",
      "Epoch 16/20\n",
      "98/98 [==============================] - ETA: 0s - loss: 0.6582 - accuracy: 0.7699 \n",
      "Epoch 00016: saving model to checkpoint.hdf5\n",
      "98/98 [==============================] - 1957s 20s/step - loss: 0.6582 - accuracy: 0.7699 - val_loss: 76.2088 - val_accuracy: 0.5434\n",
      "Epoch 17/20\n",
      "98/98 [==============================] - ETA: 0s - loss: 0.6305 - accuracy: 0.7815 \n",
      "Epoch 00017: saving model to checkpoint.hdf5\n",
      "98/98 [==============================] - 1960s 20s/step - loss: 0.6305 - accuracy: 0.7815 - val_loss: 81.6047 - val_accuracy: 0.5351\n",
      "Epoch 18/20\n",
      "98/98 [==============================] - ETA: 0s - loss: 0.6142 - accuracy: 0.7876 \n",
      "Epoch 00018: saving model to checkpoint.hdf5\n",
      "98/98 [==============================] - 1963s 20s/step - loss: 0.6142 - accuracy: 0.7876 - val_loss: 85.0034 - val_accuracy: 0.5256\n",
      "Epoch 19/20\n",
      "98/98 [==============================] - ETA: 0s - loss: 0.6071 - accuracy: 0.7889 \n",
      "Epoch 00019: saving model to checkpoint.hdf5\n",
      "98/98 [==============================] - 1953s 20s/step - loss: 0.6071 - accuracy: 0.7889 - val_loss: 63.2525 - val_accuracy: 0.5781\n",
      "Epoch 20/20\n",
      "98/98 [==============================] - ETA: 0s - loss: 0.5768 - accuracy: 0.7997 \n",
      "Epoch 00020: saving model to checkpoint.hdf5\n",
      "98/98 [==============================] - 1958s 20s/step - loss: 0.5768 - accuracy: 0.7997 - val_loss: 72.6748 - val_accuracy: 0.5382\n"
     ]
    },
    {
     "data": {
      "text/plain": [
       "<tensorflow.python.keras.callbacks.History at 0x7f0f9382b908>"
      ]
     },
     "execution_count": 16,
     "metadata": {
      "tags": []
     },
     "output_type": "execute_result"
    }
   ],
   "source": [
    "# Define the model\n",
    "model = tf.keras.models.Sequential([\n",
    "    # As a further augmentation, apply a dropout\n",
    "    tf.keras.layers.Dropout(0.1, input_shape=(32, 32, 3)),\n",
    "\n",
    "    tf.keras.layers.Conv2D(filters=96, kernel_size=3, activation='relu', padding='same'),  # (32, 32, 96)\n",
    "    tf.keras.layers.Conv2D(filters=96, kernel_size=3, activation='relu', padding='same'),  # (32, 32, 96)\n",
    "    tf.keras.layers.Conv2D(filters=96, kernel_size=3, strides=2, activation='relu', padding='same'),  # (16, 16, 96)\n",
    "    tf.keras.layers.Dropout(0.1),\n",
    "\n",
    "    tf.keras.layers.Conv2D(filters=192, kernel_size=3, activation='relu', padding='same'),  # (16, 16, 192)\n",
    "    tf.keras.layers.Conv2D(filters=192, kernel_size=3, activation='relu', padding='same'),  # (16, 16, 192)\n",
    "    tf.keras.layers.Conv2D(filters=192, kernel_size=3, strides=2, activation='relu', padding='same'),  # (8, 8, 192)\n",
    "    tf.keras.layers.Dropout(0.1),\n",
    "\n",
    "    tf.keras.layers.Conv2D(filters=192, kernel_size=3, activation='relu', padding='same'),  # (8, 8, 192)\n",
    "    tf.keras.layers.Conv2D(filters=192, kernel_size=1, activation='relu', padding='same'),  # (8, 8, 192)\n",
    "    tf.keras.layers.Conv2D(filters=192, kernel_size=3, strides=2, activation='relu', padding='same'),  # (8, 8, 192)\n",
    "\n",
    "    tf.keras.layers.Dropout(0.1),\n",
    "    tf.keras.layers.Conv2D(filters=10, kernel_size=1, activation='relu', padding='same'),  # (8, 8, 10)\n",
    "\n",
    "    tf.keras.layers.AveragePooling2D(pool_size=4, strides=4, padding='valid'),\n",
    "    tf.keras.layers.Flatten(),\n",
    "    tf.keras.layers.Activation('softmax')\n",
    "])\n",
    "# Print model summary\n",
    "model.summary()\n",
    "\n",
    "# Create callbacks for model saving and TensorBoard\n",
    "cp_callback = tf.keras.callbacks.ModelCheckpoint('checkpoint.hdf5', verbose=1, save_weights_only=False)\n",
    "tb_callback = tf.keras.callbacks.TensorBoard(log_dir=\"logs\")\n",
    "\n",
    "# Compile and run the model for 50 epochs\n",
    "model.compile(optimizer='adam', loss='sparse_categorical_crossentropy', metrics=['accuracy'])\n",
    "model.fit(train_dataset, epochs=20, validation_data=test_dataset, callbacks=[cp_callback, tb_callback])"
   ]
  },
  {
   "cell_type": "markdown",
   "metadata": {
    "colab_type": "text",
    "id": "J706LdSXcrxr"
   },
   "source": [
    "## Method-2, EagerTensor"
   ]
  },
  {
   "cell_type": "code",
   "execution_count": 19,
   "metadata": {
    "colab": {
     "base_uri": "https://localhost:8080/",
     "height": 236
    },
    "colab_type": "code",
    "executionInfo": {
     "elapsed": 653,
     "status": "error",
     "timestamp": 1597374186556,
     "user": {
      "displayName": "Ramya M",
      "photoUrl": "https://lh3.googleusercontent.com/a-/AOh14GheD7xDJjilSTs07ps8JBlfTMUd0HfGasTP_st1VA=s64",
      "userId": "03685800952685311499"
     },
     "user_tz": 420
    },
    "id": "3xkQN1iCgWdJ",
    "outputId": "ed3863ed-f606-4f80-8632-741743dce55b"
   },
   "outputs": [],
   "source": [
    "## check Data normalization\n",
    "\n",
    "import numpy as np\n",
    "\n",
    "train_x = dataset_train[0] / 255\n",
    "train_y = dataset_train[1]\n",
    "test_x = dataset_test[0] / 255\n",
    "test_y = dataset_test[1]"
   ]
  },
  {
   "cell_type": "code",
   "execution_count": 20,
   "metadata": {
    "colab": {},
    "colab_type": "code",
    "executionInfo": {
     "elapsed": 915,
     "status": "aborted",
     "timestamp": 1597374181086,
     "user": {
      "displayName": "Ramya M",
      "photoUrl": "https://lh3.googleusercontent.com/a-/AOh14GheD7xDJjilSTs07ps8JBlfTMUd0HfGasTP_st1VA=s64",
      "userId": "03685800952685311499"
     },
     "user_tz": 420
    },
    "id": "Qj83alLKcRGq"
   },
   "outputs": [
    {
     "data": {
      "text/plain": [
       "TensorShape([32, 32, 3])"
      ]
     },
     "execution_count": 20,
     "metadata": {},
     "output_type": "execute_result"
    }
   ],
   "source": [
    "train_x.shape[1:]"
   ]
  },
  {
   "cell_type": "code",
   "execution_count": 21,
   "metadata": {
    "colab": {},
    "colab_type": "code",
    "executionInfo": {
     "elapsed": 11026,
     "status": "aborted",
     "timestamp": 1597296466744,
     "user": {
      "displayName": "Ramya M",
      "photoUrl": "https://lh3.googleusercontent.com/a-/AOh14GheD7xDJjilSTs07ps8JBlfTMUd0HfGasTP_st1VA=s64",
      "userId": "03685800952685311499"
     },
     "user_tz": 420
    },
    "id": "TUbiTUe9GrV3"
   },
   "outputs": [
    {
     "data": {
      "text/plain": [
       "tensorflow.python.framework.ops.EagerTensor"
      ]
     },
     "execution_count": 21,
     "metadata": {},
     "output_type": "execute_result"
    }
   ],
   "source": [
    "type(train_x)"
   ]
  },
  {
   "cell_type": "code",
   "execution_count": 22,
   "metadata": {},
   "outputs": [],
   "source": [
    "batch_size = 64  # The default batch size of keras.\n",
    "num_classes = 10  # Number of class for the dataset\n",
    "epochs = 50\n"
   ]
  },
  {
   "cell_type": "markdown",
   "metadata": {},
   "source": [
    "### MODEL LAYOUT"
   ]
  },
  {
   "cell_type": "code",
   "execution_count": 23,
   "metadata": {},
   "outputs": [],
   "source": [
    "model=Sequential()\n",
    "model.add(Conv2D(32,(3,3),padding=\"same\",input_shape=train_x.shape[1:]))\n",
    "\n",
    "# CONV => RELU => CONV => RELU => POOL => DROPOUT\n",
    "model.add(Activation('relu'))\n",
    "model.add(Conv2D(32, (3, 3)))\n",
    "model.add(Activation('relu'))\n",
    "model.add(MaxPooling2D(pool_size=(2, 2)))\n",
    "model.add(Dropout(0.25))\n",
    "\n",
    "# CONV => RELU => CONV => RELU => POOL => DROPOUT\n",
    "model.add(Conv2D(64, (3, 3), padding='same'))\n",
    "model.add(Activation('relu'))\n",
    "model.add(Conv2D(64, (3, 3)))\n",
    "model.add(Activation('relu'))\n",
    "model.add(Conv2D(128, (3, 3)))\n",
    "model.add(Activation('relu'))\n",
    "\n",
    "model.add(MaxPooling2D(pool_size=(2, 2)))\n",
    "model.add(Dropout(0.25))\n",
    "\n",
    "# FLATTERN => DENSE => RELU => DROPOUT\n",
    "model.add(Flatten())\n",
    "model.add(Dense(512))\n",
    "model.add(Activation('relu'))\n",
    "model.add(Dropout(0.5))\n",
    "# a softmax classifier\n",
    "model.add(Dense(num_classes))\n",
    "model.add(Activation('softmax'))\n"
   ]
  },
  {
   "cell_type": "code",
   "execution_count": 24,
   "metadata": {
    "scrolled": false
   },
   "outputs": [
    {
     "name": "stdout",
     "output_type": "stream",
     "text": [
      "Model: \"sequential\"\n",
      "_________________________________________________________________\n",
      "Layer (type)                 Output Shape              Param #   \n",
      "=================================================================\n",
      "conv2d (Conv2D)              (None, 32, 32, 32)        896       \n",
      "_________________________________________________________________\n",
      "activation (Activation)      (None, 32, 32, 32)        0         \n",
      "_________________________________________________________________\n",
      "conv2d_1 (Conv2D)            (None, 30, 30, 32)        9248      \n",
      "_________________________________________________________________\n",
      "activation_1 (Activation)    (None, 30, 30, 32)        0         \n",
      "_________________________________________________________________\n",
      "max_pooling2d (MaxPooling2D) (None, 15, 15, 32)        0         \n",
      "_________________________________________________________________\n",
      "dropout (Dropout)            (None, 15, 15, 32)        0         \n",
      "_________________________________________________________________\n",
      "conv2d_2 (Conv2D)            (None, 15, 15, 64)        18496     \n",
      "_________________________________________________________________\n",
      "activation_2 (Activation)    (None, 15, 15, 64)        0         \n",
      "_________________________________________________________________\n",
      "conv2d_3 (Conv2D)            (None, 13, 13, 64)        36928     \n",
      "_________________________________________________________________\n",
      "activation_3 (Activation)    (None, 13, 13, 64)        0         \n",
      "_________________________________________________________________\n",
      "conv2d_4 (Conv2D)            (None, 11, 11, 128)       73856     \n",
      "_________________________________________________________________\n",
      "activation_4 (Activation)    (None, 11, 11, 128)       0         \n",
      "_________________________________________________________________\n",
      "max_pooling2d_1 (MaxPooling2 (None, 5, 5, 128)         0         \n",
      "_________________________________________________________________\n",
      "dropout_1 (Dropout)          (None, 5, 5, 128)         0         \n",
      "_________________________________________________________________\n",
      "flatten (Flatten)            (None, 3200)              0         \n",
      "_________________________________________________________________\n",
      "dense (Dense)                (None, 512)               1638912   \n",
      "_________________________________________________________________\n",
      "activation_5 (Activation)    (None, 512)               0         \n",
      "_________________________________________________________________\n",
      "dropout_2 (Dropout)          (None, 512)               0         \n",
      "_________________________________________________________________\n",
      "dense_1 (Dense)              (None, 10)                5130      \n",
      "_________________________________________________________________\n",
      "activation_6 (Activation)    (None, 10)                0         \n",
      "=================================================================\n",
      "Total params: 1,783,466\n",
      "Trainable params: 1,783,466\n",
      "Non-trainable params: 0\n",
      "_________________________________________________________________\n"
     ]
    }
   ],
   "source": [
    "model.summary()"
   ]
  },
  {
   "cell_type": "markdown",
   "metadata": {},
   "source": [
    "If your targets are one-hot encoded, use categorical_crossentropy.\n",
    "Examples of one-hot encodings:\n",
    "[1,0,0]\n",
    "[0,1,0]\n",
    "[0,0,1]\n",
    "But if your targets are integers, use sparse_categorical_crossentropy.\n",
    "Examples of integer encodings (for the sake of completion):\n",
    "1\n",
    "2\n",
    "3"
   ]
  },
  {
   "cell_type": "code",
   "execution_count": 25,
   "metadata": {},
   "outputs": [],
   "source": [
    "# initiate RMSprop optimizer\n",
    "opt = tf.keras.optimizers.RMSprop(learning_rate=0.0001, decay=1e-6)\n",
    "\n",
    "# Let's train the model using RMSprop\n",
    "# ref https://jovianlin.io/cat-crossentropy-vs-sparse-cat-crossentropy/\n",
    "model.compile(optimizer=opt,\n",
    "              loss='sparse_categorical_crossentropy',\n",
    "              metrics=['accuracy'])"
   ]
  },
  {
   "cell_type": "code",
   "execution_count": 26,
   "metadata": {
    "scrolled": false
   },
   "outputs": [
    {
     "name": "stdout",
     "output_type": "stream",
     "text": [
      "Epoch 1/50\n",
      "1563/1562 [==============================] - 401s 256ms/step - loss: 1.8884 - accuracy: 0.2980 - val_loss: 2.1613 - val_accuracy: 0.1890\n",
      "Epoch 2/50\n",
      "1563/1562 [==============================] - 416s 266ms/step - loss: 1.6250 - accuracy: 0.4058 - val_loss: 2.5192 - val_accuracy: 0.1944\n",
      "Epoch 3/50\n",
      "1563/1562 [==============================] - 482s 309ms/step - loss: 1.5137 - accuracy: 0.4497 - val_loss: 2.7854 - val_accuracy: 0.1792\n",
      "Epoch 4/50\n",
      "1563/1562 [==============================] - 554s 354ms/step - loss: 1.4289 - accuracy: 0.4830 - val_loss: 2.6397 - val_accuracy: 0.1807\n",
      "Epoch 5/50\n",
      "1563/1562 [==============================] - 537s 343ms/step - loss: 1.3590 - accuracy: 0.5147 - val_loss: 2.4344 - val_accuracy: 0.2283\n",
      "Epoch 6/50\n",
      "1563/1562 [==============================] - 623s 399ms/step - loss: 1.3062 - accuracy: 0.5324 - val_loss: 2.7461 - val_accuracy: 0.2012\n",
      "Epoch 7/50\n",
      "1563/1562 [==============================] - 615s 394ms/step - loss: 1.2617 - accuracy: 0.5488 - val_loss: 2.6083 - val_accuracy: 0.2355\n",
      "Epoch 8/50\n",
      "1563/1562 [==============================] - 548s 351ms/step - loss: 1.2182 - accuracy: 0.5687 - val_loss: 2.3560 - val_accuracy: 0.2611\n",
      "Epoch 9/50\n",
      "1563/1562 [==============================] - 4304s 3s/step - loss: 1.1864 - accuracy: 0.5798 - val_loss: 2.3478 - val_accuracy: 0.2600\n",
      "Epoch 10/50\n",
      "1563/1562 [==============================] - 286s 183ms/step - loss: 1.1534 - accuracy: 0.5939 - val_loss: 2.2848 - val_accuracy: 0.2975\n",
      "Epoch 11/50\n",
      "1563/1562 [==============================] - 368s 236ms/step - loss: 1.1336 - accuracy: 0.6020 - val_loss: 2.2640 - val_accuracy: 0.2961\n",
      "Epoch 12/50\n",
      "1563/1562 [==============================] - 612s 392ms/step - loss: 1.1119 - accuracy: 0.6078 - val_loss: 2.3895 - val_accuracy: 0.2633\n",
      "Epoch 13/50\n",
      "1563/1562 [==============================] - 1471s 941ms/step - loss: 1.0912 - accuracy: 0.6177 - val_loss: 2.6243 - val_accuracy: 0.2585\n",
      "Epoch 14/50\n",
      "1563/1562 [==============================] - 900s 576ms/step - loss: 1.0721 - accuracy: 0.6235 - val_loss: 2.9585 - val_accuracy: 0.2521\n",
      "Epoch 15/50\n",
      "1563/1562 [==============================] - 565s 361ms/step - loss: 1.0615 - accuracy: 0.6310 - val_loss: 2.2978 - val_accuracy: 0.2935\n",
      "Epoch 16/50\n",
      "1563/1562 [==============================] - 431s 276ms/step - loss: 1.0486 - accuracy: 0.6317 - val_loss: 2.5481 - val_accuracy: 0.3080\n",
      "Epoch 17/50\n",
      "1563/1562 [==============================] - 576s 368ms/step - loss: 1.0389 - accuracy: 0.6394 - val_loss: 2.6544 - val_accuracy: 0.2790\n",
      "Epoch 18/50\n",
      "1563/1562 [==============================] - 30895s 20s/step - loss: 1.0303 - accuracy: 0.6444 - val_loss: 2.7080 - val_accuracy: 0.2621\n",
      "Epoch 19/50\n",
      "1563/1562 [==============================] - 401s 257ms/step - loss: 1.0235 - accuracy: 0.6451 - val_loss: 2.7451 - val_accuracy: 0.2530\n",
      "Epoch 20/50\n",
      "1563/1562 [==============================] - 396s 253ms/step - loss: 1.0160 - accuracy: 0.6479 - val_loss: 3.1106 - val_accuracy: 0.2139\n",
      "Epoch 21/50\n",
      "1563/1562 [==============================] - 395s 253ms/step - loss: 1.0072 - accuracy: 0.6522 - val_loss: 3.0410 - val_accuracy: 0.2594\n",
      "Epoch 22/50\n",
      "1563/1562 [==============================] - 396s 253ms/step - loss: 1.0156 - accuracy: 0.6514 - val_loss: 2.1980 - val_accuracy: 0.3059\n",
      "Epoch 23/50\n",
      "1563/1562 [==============================] - 397s 254ms/step - loss: 1.0034 - accuracy: 0.6563 - val_loss: 2.5660 - val_accuracy: 0.2531\n",
      "Epoch 24/50\n",
      "1563/1562 [==============================] - 396s 254ms/step - loss: 0.9936 - accuracy: 0.6576 - val_loss: 2.5293 - val_accuracy: 0.2821\n",
      "Epoch 25/50\n",
      "1563/1562 [==============================] - 9893s 6s/step - loss: 0.9887 - accuracy: 0.6612 - val_loss: 2.5544 - val_accuracy: 0.2930\n",
      "Epoch 26/50\n",
      "1563/1562 [==============================] - 402s 257ms/step - loss: 0.9929 - accuracy: 0.6616 - val_loss: 1.9811 - val_accuracy: 0.3426\n",
      "Epoch 27/50\n",
      "1563/1562 [==============================] - 415s 266ms/step - loss: 0.9885 - accuracy: 0.6653 - val_loss: 2.3217 - val_accuracy: 0.2797\n",
      "Epoch 28/50\n",
      "1563/1562 [==============================] - 414s 265ms/step - loss: 0.9848 - accuracy: 0.6673 - val_loss: 2.4208 - val_accuracy: 0.2897\n",
      "Epoch 29/50\n",
      "1563/1562 [==============================] - 413s 264ms/step - loss: 0.9889 - accuracy: 0.6653 - val_loss: 2.4465 - val_accuracy: 0.2746\n",
      "Epoch 30/50\n",
      "1563/1562 [==============================] - 429s 274ms/step - loss: 0.9828 - accuracy: 0.6648 - val_loss: 2.6286 - val_accuracy: 0.2777\n",
      "Epoch 31/50\n",
      "1563/1562 [==============================] - 513s 328ms/step - loss: 0.9903 - accuracy: 0.6637 - val_loss: 2.5623 - val_accuracy: 0.2246\n",
      "Epoch 32/50\n",
      "1563/1562 [==============================] - 426s 272ms/step - loss: 0.9929 - accuracy: 0.6638 - val_loss: 2.3311 - val_accuracy: 0.3056\n",
      "Epoch 33/50\n",
      "1563/1562 [==============================] - 425s 272ms/step - loss: 0.9911 - accuracy: 0.6656 - val_loss: 3.0571 - val_accuracy: 0.2393\n",
      "Epoch 34/50\n",
      "1563/1562 [==============================] - 428s 274ms/step - loss: 0.9930 - accuracy: 0.6639 - val_loss: 1.8534 - val_accuracy: 0.3565\n",
      "Epoch 35/50\n",
      "1563/1562 [==============================] - 435s 278ms/step - loss: 0.9928 - accuracy: 0.6684 - val_loss: 2.5741 - val_accuracy: 0.2948\n",
      "Epoch 36/50\n",
      "1563/1562 [==============================] - 1317s 842ms/step - loss: 0.9962 - accuracy: 0.6680 - val_loss: 2.2818 - val_accuracy: 0.3281\n",
      "Epoch 37/50\n",
      "1563/1562 [==============================] - 419s 268ms/step - loss: 0.9951 - accuracy: 0.6654 - val_loss: 2.6804 - val_accuracy: 0.2396\n",
      "Epoch 38/50\n",
      "1563/1562 [==============================] - 507s 324ms/step - loss: 0.9939 - accuracy: 0.6664 - val_loss: 2.1818 - val_accuracy: 0.2887\n",
      "Epoch 39/50\n",
      "1563/1562 [==============================] - 539s 345ms/step - loss: 0.9993 - accuracy: 0.6650 - val_loss: 1.9756 - val_accuracy: 0.3512\n",
      "Epoch 40/50\n",
      "1563/1562 [==============================] - 675s 432ms/step - loss: 1.0064 - accuracy: 0.6605 - val_loss: 1.9507 - val_accuracy: 0.3111\n",
      "Epoch 41/50\n",
      "1563/1562 [==============================] - 557s 357ms/step - loss: 1.0141 - accuracy: 0.6658 - val_loss: 2.5219 - val_accuracy: 0.2920\n",
      "Epoch 42/50\n",
      "1563/1562 [==============================] - 777s 497ms/step - loss: 1.0218 - accuracy: 0.6569 - val_loss: 2.0160 - val_accuracy: 0.3310\n",
      "Epoch 43/50\n",
      "1563/1562 [==============================] - 577s 369ms/step - loss: 1.0166 - accuracy: 0.6588 - val_loss: 2.0636 - val_accuracy: 0.3094\n",
      "Epoch 44/50\n",
      "1563/1562 [==============================] - 595s 381ms/step - loss: 1.0232 - accuracy: 0.6614 - val_loss: 2.7546 - val_accuracy: 0.2602\n",
      "Epoch 45/50\n",
      "1563/1562 [==============================] - 646s 414ms/step - loss: 1.0309 - accuracy: 0.6568 - val_loss: 3.0721 - val_accuracy: 0.2408\n",
      "Epoch 46/50\n",
      "1563/1562 [==============================] - 480s 307ms/step - loss: 1.0411 - accuracy: 0.6563 - val_loss: 2.8709 - val_accuracy: 0.2606\n",
      "Epoch 47/50\n",
      "1563/1562 [==============================] - 309s 198ms/step - loss: 1.0509 - accuracy: 0.6520 - val_loss: 2.7323 - val_accuracy: 0.2494\n",
      "Epoch 48/50\n",
      "1563/1562 [==============================] - 307s 196ms/step - loss: 1.0557 - accuracy: 0.6503 - val_loss: 3.2011 - val_accuracy: 0.2513\n",
      "Epoch 49/50\n",
      "1563/1562 [==============================] - 321s 205ms/step - loss: 1.0644 - accuracy: 0.6481 - val_loss: 2.5189 - val_accuracy: 0.3100\n",
      "Epoch 50/50\n",
      "1563/1562 [==============================] - 360s 230ms/step - loss: 1.0573 - accuracy: 0.6516 - val_loss: 2.3750 - val_accuracy: 0.2807\n"
     ]
    }
   ],
   "source": [
    "datagen = ImageDataGenerator(\n",
    "    featurewise_center=True,\n",
    "    featurewise_std_normalization=True,\n",
    "    rotation_range=20,\n",
    "    width_shift_range=0.2,\n",
    "    height_shift_range=0.2,\n",
    "    horizontal_flip=True)\n",
    "\n",
    "    # Compute quantities required for feature-wise normalization\n",
    "    # (std, mean, and principal components if ZCA whitening is applied).\n",
    "datagen.fit(train_x)\n",
    "\n",
    "\n",
    "#ref https://keras.io/api/preprocessing/image/\n",
    "#ref https://www.kaggle.com/roblexnana/cifar10-with-cnn-for-beginer\n",
    "# Fit the model on the batches generated by datagen.flow().\n",
    "history = model.fit(datagen.flow(train_x, train_y, batch_size=32),validation_data=(test_x, test_y),\n",
    "          steps_per_epoch=len(train_x) / 32, epochs=50)\n",
    "                                                               \n",
    "\n",
    "\n",
    "#or\n",
    "\n",
    "# here's a more \"manual\" example\n",
    "# for e in range(epochs):\n",
    "#     print('Epoch', e)\n",
    "#     batches = 0\n",
    "#     for x_batch, y_batch in datagen.flow(x_train, y_train, batch_size=32):\n",
    "#         model.fit(x_batch, y_batch)\n",
    "#         batches += 1\n",
    "#         if batches >= len(x_train) / 32:\n",
    "#             # we need to break the loop by hand because\n",
    "#             # the generator loops indefinitely\n",
    "#             break"
   ]
  },
  {
   "cell_type": "code",
   "execution_count": 27,
   "metadata": {},
   "outputs": [],
   "source": [
    "model.save(\"model.h5\")"
   ]
  },
  {
   "cell_type": "code",
   "execution_count": 29,
   "metadata": {},
   "outputs": [
    {
     "name": "stdout",
     "output_type": "stream",
     "text": [
      "dict_keys(['loss', 'accuracy', 'val_loss', 'val_accuracy'])\n"
     ]
    },
    {
     "data": {
      "image/png": "[encoded data removed]",
      "text/plain": [
       "<Figure size 1080x360 with 2 Axes>"
      ]
     },
     "metadata": {
      "needs_background": "light"
     },
     "output_type": "display_data"
    }
   ],
   "source": [
    "def plotmodelhistory(history): \n",
    "    fig, axs = plt.subplots(1,2,figsize=(15,5)) \n",
    "    # summarize history for accuracy\n",
    "    axs[0].plot(history.history['accuracy']) \n",
    "    axs[0].plot(history.history['val_accuracy']) \n",
    "    axs[0].set_title('Model Accuracy')\n",
    "    axs[0].set_ylabel('Accuracy') \n",
    "    axs[0].set_xlabel('Epoch')\n",
    "    axs[0].legend(['train', 'validate'], loc='upper left')\n",
    "    # summarize history for loss\n",
    "    axs[1].plot(history.history['loss']) \n",
    "    axs[1].plot(history.history['val_loss']) \n",
    "    axs[1].set_title('Model Loss')\n",
    "    axs[1].set_ylabel('Loss') \n",
    "    axs[1].set_xlabel('Epoch')\n",
    "    axs[1].legend(['train', 'validate'], loc='upper left')\n",
    "    plt.show()\n",
    "\n",
    "# list all data in history\n",
    "\n",
    "\n",
    "plotmodelhistory(history)"
   ]
  },
  {
   "cell_type": "code",
   "execution_count": 30,
   "metadata": {},
   "outputs": [
    {
     "data": {
      "text/plain": [
       "tensorflow.python.keras.callbacks.History"
      ]
     },
     "execution_count": 30,
     "metadata": {},
     "output_type": "execute_result"
    }
   ],
   "source": [
    "type(history)"
   ]
  },
  {
   "cell_type": "code",
   "execution_count": 33,
   "metadata": {},
   "outputs": [
    {
     "name": "stdout",
     "output_type": "stream",
     "text": [
      "dict_keys(['loss', 'accuracy', 'val_loss', 'val_accuracy'])\n"
     ]
    }
   ],
   "source": [
    "print(history.history.keys())"
   ]
  },
  {
   "cell_type": "code",
   "execution_count": 35,
   "metadata": {},
   "outputs": [
    {
     "name": "stdout",
     "output_type": "stream",
     "text": [
      "313/313 [==============================] - 10s 33ms/step - loss: 2.3750 - accuracy: 0.2807\n",
      "Test loss: 2.374985456466675\n",
      "Test accuracy: 0.2806999981403351\n"
     ]
    }
   ],
   "source": [
    "scores = model.evaluate(test_x, test_y, verbose=1)\n",
    "print('Test loss:', scores[0])\n",
    "print('Test accuracy:', scores[1])\n",
    "\n",
    "# make prediction.\n",
    "pred = model.predict(test_x)"
   ]
  },
  {
   "cell_type": "code",
   "execution_count": 42,
   "metadata": {},
   "outputs": [
    {
     "data": {
      "text/plain": [
       "array([[0.15476131, 0.00240449, 0.5460079 , ..., 0.02380045, 0.0352175 ,\n",
       "        0.00305145],\n",
       "       [0.31655544, 0.0100426 , 0.21729004, ..., 0.06430921, 0.08141937,\n",
       "        0.01400317],\n",
       "       [0.01274054, 0.00078051, 0.32110888, ..., 0.02225094, 0.00474727,\n",
       "        0.00177248],\n",
       "       ...,\n",
       "       [0.34647998, 0.00452078, 0.4013217 , ..., 0.00621199, 0.14343648,\n",
       "        0.00532561],\n",
       "       [0.10823467, 0.00456275, 0.48535433, ..., 0.02630161, 0.03599333,\n",
       "        0.00645009],\n",
       "       [0.23932311, 0.00750717, 0.347513  , ..., 0.02661885, 0.11748518,\n",
       "        0.00938427]], dtype=float32)"
      ]
     },
     "execution_count": 42,
     "metadata": {},
     "output_type": "execute_result"
    }
   ],
   "source": [
    "pred"
   ]
  },
  {
   "cell_type": "code",
   "execution_count": 43,
   "metadata": {},
   "outputs": [],
   "source": [
    "labels = ['Airplane', 'Automobile', 'Bird', 'Cat', 'Deer', 'Dog', 'Frog', 'Horse', 'Ship', 'Truck']\n",
    "\n",
    "# Convert predictions classes to one hot vectors \n",
    "Y_pred_classes = np.argmax(pred, axis=1) \n",
    "\n"
   ]
  },
  {
   "cell_type": "code",
   "execution_count": 56,
   "metadata": {},
   "outputs": [
    {
     "data": {
      "image/png": "[encoded data removed]",
      "text/plain": [
       "<Figure size 864x576 with 15 Axes>"
      ]
     },
     "metadata": {
      "needs_background": "light"
     },
     "output_type": "display_data"
    }
   ],
   "source": [
    "# Convert validation observations to one hot vectors\n",
    "Y_true = test_y\n",
    "# Errors are difference between predicted labels and true labels\n",
    "errors = (Y_pred_classes - Y_true != 0)\n",
    "\n",
    "\n",
    "\n",
    "Y_pred_classes_errors = Y_pred_classes[errors]\n",
    "Y_pred_errors = pred[errors]\n",
    "Y_true_errors = Y_true[errors]\n",
    "X_test_errors = test_x[errors]\n",
    "\n",
    "R = 3\n",
    "C = 5\n",
    "fig, axes = plt.subplots(R, C, figsize=(12,8))\n",
    "axes = axes.ravel()\n",
    "\n",
    "misclassified_idx = np.where(Y_pred_classes != Y_true)[0]\n",
    "for i in np.arange(0, R*C):\n",
    "    axes[i].imshow(test_x[misclassified_idx[i]])\n",
    "    axes[i].set_title(\"True: %s \\nPredicted: %s\" % (labels[Y_true[misclassified_idx[i]]], \n",
    "                                                  labels[Y_pred_classes[misclassified_idx[i]]]))\n",
    "    axes[i].axis('off')\n",
    "    plt.subplots_adjust(wspace=1)"
   ]
  },
  {
   "cell_type": "code",
   "execution_count": null,
   "metadata": {},
   "outputs": [],
   "source": []
  }
 ],
 "metadata": {
  "colab": {
   "authorship_tag": "ABX9TyPTNY/mWLcCJwOTK2Bi7PSh",
   "collapsed_sections": [],
   "name": "CIFAR-10.ipynb",
   "provenance": []
  },
  "kernelspec": {
   "display_name": "Python [conda env:py3tf2]",
   "language": "python",
   "name": "conda-env-py3tf2-py"
  },
  "language_info": {
   "codemirror_mode": {
    "name": "ipython",
    "version": 3
   },
   "file_extension": ".py",
   "mimetype": "text/x-python",
   "name": "python",
   "nbconvert_exporter": "python",
   "pygments_lexer": "ipython3",
   "version": "3.7.7"
  },
  "widgets": {
   "application/vnd.jupyter.widget-state+json": {
    "04a8e7d6534b4271bf823200ae4256ca": {
     "model_module": "@jupyter-widgets/controls",
     "model_name": "HBoxModel",
     "state": {
      "_dom_classes": [],
      "_model_module": "@jupyter-widgets/controls",
      "_model_module_version": "1.5.0",
      "_model_name": "HBoxModel",
      "_view_count": null,
      "_view_module": "@jupyter-widgets/controls",
      "_view_module_version": "1.5.0",
      "_view_name": "HBoxView",
      "box_style": "",
      "children": [
       "IPY_MODEL_45c9e406da7b41ccbbef56561440095b",
       "IPY_MODEL_b8d26535743048d2b844b0bdca7155f9"
      ],
      "layout": "IPY_MODEL_2fb48f17e2ea41459739fc7d992be40c"
     }
    },
    "0621cfa6e310468c9ae7e2ddf42d8469": {
     "model_module": "@jupyter-widgets/controls",
     "model_name": "DescriptionStyleModel",
     "state": {
      "_model_module": "@jupyter-widgets/controls",
      "_model_module_version": "1.5.0",
      "_model_name": "DescriptionStyleModel",
      "_view_count": null,
      "_view_module": "@jupyter-widgets/base",
      "_view_module_version": "1.2.0",
      "_view_name": "StyleView",
      "description_width": ""
     }
    },
    "098dfad291ac460c94e97ac9c0b6e7d5": {
     "model_module": "@jupyter-widgets/base",
     "model_name": "LayoutModel",
     "state": {
      "_model_module": "@jupyter-widgets/base",
      "_model_module_version": "1.2.0",
      "_model_name": "LayoutModel",
      "_view_count": null,
      "_view_module": "@jupyter-widgets/base",
      "_view_module_version": "1.2.0",
      "_view_name": "LayoutView",
      "align_content": null,
      "align_items": null,
      "align_self": null,
      "border": null,
      "bottom": null,
      "display": null,
      "flex": null,
      "flex_flow": null,
      "grid_area": null,
      "grid_auto_columns": null,
      "grid_auto_flow": null,
      "grid_auto_rows": null,
      "grid_column": null,
      "grid_gap": null,
      "grid_row": null,
      "grid_template_areas": null,
      "grid_template_columns": null,
      "grid_template_rows": null,
      "height": null,
      "justify_content": null,
      "justify_items": null,
      "left": null,
      "margin": null,
      "max_height": null,
      "max_width": null,
      "min_height": null,
      "min_width": null,
      "object_fit": null,
      "object_position": null,
      "order": null,
      "overflow": null,
      "overflow_x": null,
      "overflow_y": null,
      "padding": null,
      "right": null,
      "top": null,
      "visibility": null,
      "width": null
     }
    },
    "11960020a7064722a01056a6186e5411": {
     "model_module": "@jupyter-widgets/base",
     "model_name": "LayoutModel",
     "state": {
      "_model_module": "@jupyter-widgets/base",
      "_model_module_version": "1.2.0",
      "_model_name": "LayoutModel",
      "_view_count": null,
      "_view_module": "@jupyter-widgets/base",
      "_view_module_version": "1.2.0",
      "_view_name": "LayoutView",
      "align_content": null,
      "align_items": null,
      "align_self": null,
      "border": null,
      "bottom": null,
      "display": null,
      "flex": null,
      "flex_flow": null,
      "grid_area": null,
      "grid_auto_columns": null,
      "grid_auto_flow": null,
      "grid_auto_rows": null,
      "grid_column": null,
      "grid_gap": null,
      "grid_row": null,
      "grid_template_areas": null,
      "grid_template_columns": null,
      "grid_template_rows": null,
      "height": null,
      "justify_content": null,
      "justify_items": null,
      "left": null,
      "margin": null,
      "max_height": null,
      "max_width": null,
      "min_height": null,
      "min_width": null,
      "object_fit": null,
      "object_position": null,
      "order": null,
      "overflow": null,
      "overflow_x": null,
      "overflow_y": null,
      "padding": null,
      "right": null,
      "top": null,
      "visibility": null,
      "width": null
     }
    },
    "15e34b305b144411a9b13f8f6abff4ff": {
     "model_module": "@jupyter-widgets/controls",
     "model_name": "HBoxModel",
     "state": {
      "_dom_classes": [],
      "_model_module": "@jupyter-widgets/controls",
      "_model_module_version": "1.5.0",
      "_model_name": "HBoxModel",
      "_view_count": null,
      "_view_module": "@jupyter-widgets/controls",
      "_view_module_version": "1.5.0",
      "_view_name": "HBoxView",
      "box_style": "",
      "children": [
       "IPY_MODEL_4998531c01d7493ea37364bc3dd5a32c",
       "IPY_MODEL_de26eecc972f48a09cab1a45ef423879"
      ],
      "layout": "IPY_MODEL_2566e24f264242b98171130fff740f12"
     }
    },
    "244a15f5fc10413bbc862047e850a9e6": {
     "model_module": "@jupyter-widgets/controls",
     "model_name": "ProgressStyleModel",
     "state": {
      "_model_module": "@jupyter-widgets/controls",
      "_model_module_version": "1.5.0",
      "_model_name": "ProgressStyleModel",
      "_view_count": null,
      "_view_module": "@jupyter-widgets/base",
      "_view_module_version": "1.2.0",
      "_view_name": "StyleView",
      "bar_color": null,
      "description_width": "initial"
     }
    },
    "24a39c593d1948b6af9a54f1f6a05853": {
     "model_module": "@jupyter-widgets/controls",
     "model_name": "HBoxModel",
     "state": {
      "_dom_classes": [],
      "_model_module": "@jupyter-widgets/controls",
      "_model_module_version": "1.5.0",
      "_model_name": "HBoxModel",
      "_view_count": null,
      "_view_module": "@jupyter-widgets/controls",
      "_view_module_version": "1.5.0",
      "_view_name": "HBoxView",
      "box_style": "",
      "children": [
       "IPY_MODEL_fbe74a7b0db747d39d0211d453c0a0c4",
       "IPY_MODEL_5489a9368e9846e7946bbb2e2258e8dd"
      ],
      "layout": "IPY_MODEL_61fb7f6928e548d7b37053d606855fad"
     }
    },
    "2566e24f264242b98171130fff740f12": {
     "model_module": "@jupyter-widgets/base",
     "model_name": "LayoutModel",
     "state": {
      "_model_module": "@jupyter-widgets/base",
      "_model_module_version": "1.2.0",
      "_model_name": "LayoutModel",
      "_view_count": null,
      "_view_module": "@jupyter-widgets/base",
      "_view_module_version": "1.2.0",
      "_view_name": "LayoutView",
      "align_content": null,
      "align_items": null,
      "align_self": null,
      "border": null,
      "bottom": null,
      "display": null,
      "flex": null,
      "flex_flow": null,
      "grid_area": null,
      "grid_auto_columns": null,
      "grid_auto_flow": null,
      "grid_auto_rows": null,
      "grid_column": null,
      "grid_gap": null,
      "grid_row": null,
      "grid_template_areas": null,
      "grid_template_columns": null,
      "grid_template_rows": null,
      "height": null,
      "justify_content": null,
      "justify_items": null,
      "left": null,
      "margin": null,
      "max_height": null,
      "max_width": null,
      "min_height": null,
      "min_width": null,
      "object_fit": null,
      "object_position": null,
      "order": null,
      "overflow": null,
      "overflow_x": null,
      "overflow_y": null,
      "padding": null,
      "right": null,
      "top": null,
      "visibility": null,
      "width": null
     }
    },
    "293666e25ba24e0fa9cdfb84731fc6e6": {
     "model_module": "@jupyter-widgets/base",
     "model_name": "LayoutModel",
     "state": {
      "_model_module": "@jupyter-widgets/base",
      "_model_module_version": "1.2.0",
      "_model_name": "LayoutModel",
      "_view_count": null,
      "_view_module": "@jupyter-widgets/base",
      "_view_module_version": "1.2.0",
      "_view_name": "LayoutView",
      "align_content": null,
      "align_items": null,
      "align_self": null,
      "border": null,
      "bottom": null,
      "display": null,
      "flex": null,
      "flex_flow": null,
      "grid_area": null,
      "grid_auto_columns": null,
      "grid_auto_flow": null,
      "grid_auto_rows": null,
      "grid_column": null,
      "grid_gap": null,
      "grid_row": null,
      "grid_template_areas": null,
      "grid_template_columns": null,
      "grid_template_rows": null,
      "height": null,
      "justify_content": null,
      "justify_items": null,
      "left": null,
      "margin": null,
      "max_height": null,
      "max_width": null,
      "min_height": null,
      "min_width": null,
      "object_fit": null,
      "object_position": null,
      "order": null,
      "overflow": null,
      "overflow_x": null,
      "overflow_y": null,
      "padding": null,
      "right": null,
      "top": null,
      "visibility": null,
      "width": null
     }
    },
    "2e61b6204b1943aaabc2a86806617554": {
     "model_module": "@jupyter-widgets/controls",
     "model_name": "ProgressStyleModel",
     "state": {
      "_model_module": "@jupyter-widgets/controls",
      "_model_module_version": "1.5.0",
      "_model_name": "ProgressStyleModel",
      "_view_count": null,
      "_view_module": "@jupyter-widgets/base",
      "_view_module_version": "1.2.0",
      "_view_name": "StyleView",
      "bar_color": null,
      "description_width": "initial"
     }
    },
    "2eb350bbd4d14d94aff8ce87db17e67e": {
     "model_module": "@jupyter-widgets/controls",
     "model_name": "ProgressStyleModel",
     "state": {
      "_model_module": "@jupyter-widgets/controls",
      "_model_module_version": "1.5.0",
      "_model_name": "ProgressStyleModel",
      "_view_count": null,
      "_view_module": "@jupyter-widgets/base",
      "_view_module_version": "1.2.0",
      "_view_name": "StyleView",
      "bar_color": null,
      "description_width": "initial"
     }
    },
    "2fb48f17e2ea41459739fc7d992be40c": {
     "model_module": "@jupyter-widgets/base",
     "model_name": "LayoutModel",
     "state": {
      "_model_module": "@jupyter-widgets/base",
      "_model_module_version": "1.2.0",
      "_model_name": "LayoutModel",
      "_view_count": null,
      "_view_module": "@jupyter-widgets/base",
      "_view_module_version": "1.2.0",
      "_view_name": "LayoutView",
      "align_content": null,
      "align_items": null,
      "align_self": null,
      "border": null,
      "bottom": null,
      "display": null,
      "flex": null,
      "flex_flow": null,
      "grid_area": null,
      "grid_auto_columns": null,
      "grid_auto_flow": null,
      "grid_auto_rows": null,
      "grid_column": null,
      "grid_gap": null,
      "grid_row": null,
      "grid_template_areas": null,
      "grid_template_columns": null,
      "grid_template_rows": null,
      "height": null,
      "justify_content": null,
      "justify_items": null,
      "left": null,
      "margin": null,
      "max_height": null,
      "max_width": null,
      "min_height": null,
      "min_width": null,
      "object_fit": null,
      "object_position": null,
      "order": null,
      "overflow": null,
      "overflow_x": null,
      "overflow_y": null,
      "padding": null,
      "right": null,
      "top": null,
      "visibility": null,
      "width": null
     }
    },
    "330743015f7540f6ae373bde60f30d93": {
     "model_module": "@jupyter-widgets/base",
     "model_name": "LayoutModel",
     "state": {
      "_model_module": "@jupyter-widgets/base",
      "_model_module_version": "1.2.0",
      "_model_name": "LayoutModel",
      "_view_count": null,
      "_view_module": "@jupyter-widgets/base",
      "_view_module_version": "1.2.0",
      "_view_name": "LayoutView",
      "align_content": null,
      "align_items": null,
      "align_self": null,
      "border": null,
      "bottom": null,
      "display": null,
      "flex": null,
      "flex_flow": null,
      "grid_area": null,
      "grid_auto_columns": null,
      "grid_auto_flow": null,
      "grid_auto_rows": null,
      "grid_column": null,
      "grid_gap": null,
      "grid_row": null,
      "grid_template_areas": null,
      "grid_template_columns": null,
      "grid_template_rows": null,
      "height": null,
      "justify_content": null,
      "justify_items": null,
      "left": null,
      "margin": null,
      "max_height": null,
      "max_width": null,
      "min_height": null,
      "min_width": null,
      "object_fit": null,
      "object_position": null,
      "order": null,
      "overflow": null,
      "overflow_x": null,
      "overflow_y": null,
      "padding": null,
      "right": null,
      "top": null,
      "visibility": null,
      "width": null
     }
    },
    "3ca24f6807a940b09f59f99a0e385718": {
     "model_module": "@jupyter-widgets/controls",
     "model_name": "HBoxModel",
     "state": {
      "_dom_classes": [],
      "_model_module": "@jupyter-widgets/controls",
      "_model_module_version": "1.5.0",
      "_model_name": "HBoxModel",
      "_view_count": null,
      "_view_module": "@jupyter-widgets/controls",
      "_view_module_version": "1.5.0",
      "_view_name": "HBoxView",
      "box_style": "",
      "children": [
       "IPY_MODEL_c30ff4aca20e40d1bde3afa198d7001a",
       "IPY_MODEL_9d6b1b121e9d49099cbb75237ac0eec6"
      ],
      "layout": "IPY_MODEL_8bd5c13695164fbebc22dbb2609f119c"
     }
    },
    "45c9e406da7b41ccbbef56561440095b": {
     "model_module": "@jupyter-widgets/controls",
     "model_name": "FloatProgressModel",
     "state": {
      "_dom_classes": [],
      "_model_module": "@jupyter-widgets/controls",
      "_model_module_version": "1.5.0",
      "_model_name": "FloatProgressModel",
      "_view_count": null,
      "_view_module": "@jupyter-widgets/controls",
      "_view_module_version": "1.5.0",
      "_view_name": "ProgressView",
      "bar_style": "danger",
      "description": " 81%",
      "description_tooltip": null,
      "layout": "IPY_MODEL_c868e2d6b1ed47fcb88d83505e1dd081",
      "max": 10000,
      "min": 0,
      "orientation": "horizontal",
      "style": "IPY_MODEL_7202d0f805454d1d849defcbdb3f6ebd",
      "value": 8146
     }
    },
    "480c4ba40afa4a928201277a4f4499af": {
     "model_module": "@jupyter-widgets/controls",
     "model_name": "ProgressStyleModel",
     "state": {
      "_model_module": "@jupyter-widgets/controls",
      "_model_module_version": "1.5.0",
      "_model_name": "ProgressStyleModel",
      "_view_count": null,
      "_view_module": "@jupyter-widgets/base",
      "_view_module_version": "1.2.0",
      "_view_name": "StyleView",
      "bar_color": null,
      "description_width": "initial"
     }
    },
    "48c9d7d74fd642b2be68b69da48f3e32": {
     "model_module": "@jupyter-widgets/controls",
     "model_name": "DescriptionStyleModel",
     "state": {
      "_model_module": "@jupyter-widgets/controls",
      "_model_module_version": "1.5.0",
      "_model_name": "DescriptionStyleModel",
      "_view_count": null,
      "_view_module": "@jupyter-widgets/base",
      "_view_module_version": "1.2.0",
      "_view_name": "StyleView",
      "description_width": ""
     }
    },
    "4998531c01d7493ea37364bc3dd5a32c": {
     "model_module": "@jupyter-widgets/controls",
     "model_name": "FloatProgressModel",
     "state": {
      "_dom_classes": [],
      "_model_module": "@jupyter-widgets/controls",
      "_model_module_version": "1.5.0",
      "_model_name": "FloatProgressModel",
      "_view_count": null,
      "_view_module": "@jupyter-widgets/controls",
      "_view_module_version": "1.5.0",
      "_view_name": "ProgressView",
      "bar_style": "info",
      "description": "",
      "description_tooltip": null,
      "layout": "IPY_MODEL_293666e25ba24e0fa9cdfb84731fc6e6",
      "max": 1,
      "min": 0,
      "orientation": "horizontal",
      "style": "IPY_MODEL_8b4cab80bbb644c5ad009b49ab59233d",
      "value": 1
     }
    },
    "4aa5708f489444a19f91f8011a66e195": {
     "model_module": "@jupyter-widgets/controls",
     "model_name": "HTMLModel",
     "state": {
      "_dom_classes": [],
      "_model_module": "@jupyter-widgets/controls",
      "_model_module_version": "1.5.0",
      "_model_name": "HTMLModel",
      "_view_count": null,
      "_view_module": "@jupyter-widgets/controls",
      "_view_module_version": "1.5.0",
      "_view_name": "HTMLView",
      "description": "",
      "description_tooltip": null,
      "layout": "IPY_MODEL_9d5a33e4cd0b456185596ba3df720917",
      "placeholder": "​",
      "style": "IPY_MODEL_8e3fc72451454244a8b96bcaac8ad728",
      "value": " 1/1 [00:05&lt;00:00,  5.50s/ url]"
     }
    },
    "5489a9368e9846e7946bbb2e2258e8dd": {
     "model_module": "@jupyter-widgets/controls",
     "model_name": "HTMLModel",
     "state": {
      "_dom_classes": [],
      "_model_module": "@jupyter-widgets/controls",
      "_model_module_version": "1.5.0",
      "_model_name": "HTMLModel",
      "_view_count": null,
      "_view_module": "@jupyter-widgets/controls",
      "_view_module_version": "1.5.0",
      "_view_name": "HTMLView",
      "description": "",
      "description_tooltip": null,
      "layout": "IPY_MODEL_8575c428a0234c7f939f3f32e4e0a21d",
      "placeholder": "​",
      "style": "IPY_MODEL_d44d26ac511d470495331bfa386afe50",
      "value": " 10000/0 [00:06&lt;00:00, 1592.36 examples/s]"
     }
    },
    "5a76c44255a84cfb980fcc146dd1dd37": {
     "model_module": "@jupyter-widgets/base",
     "model_name": "LayoutModel",
     "state": {
      "_model_module": "@jupyter-widgets/base",
      "_model_module_version": "1.2.0",
      "_model_name": "LayoutModel",
      "_view_count": null,
      "_view_module": "@jupyter-widgets/base",
      "_view_module_version": "1.2.0",
      "_view_name": "LayoutView",
      "align_content": null,
      "align_items": null,
      "align_self": null,
      "border": null,
      "bottom": null,
      "display": null,
      "flex": null,
      "flex_flow": null,
      "grid_area": null,
      "grid_auto_columns": null,
      "grid_auto_flow": null,
      "grid_auto_rows": null,
      "grid_column": null,
      "grid_gap": null,
      "grid_row": null,
      "grid_template_areas": null,
      "grid_template_columns": null,
      "grid_template_rows": null,
      "height": null,
      "justify_content": null,
      "justify_items": null,
      "left": null,
      "margin": null,
      "max_height": null,
      "max_width": null,
      "min_height": null,
      "min_width": null,
      "object_fit": null,
      "object_position": null,
      "order": null,
      "overflow": null,
      "overflow_x": null,
      "overflow_y": null,
      "padding": null,
      "right": null,
      "top": null,
      "visibility": null,
      "width": null
     }
    },
    "614be1f842b245a28ca8f09f9f99379f": {
     "model_module": "@jupyter-widgets/controls",
     "model_name": "FloatProgressModel",
     "state": {
      "_dom_classes": [],
      "_model_module": "@jupyter-widgets/controls",
      "_model_module_version": "1.5.0",
      "_model_name": "FloatProgressModel",
      "_view_count": null,
      "_view_module": "@jupyter-widgets/controls",
      "_view_module_version": "1.5.0",
      "_view_name": "ProgressView",
      "bar_style": "success",
      "description": "Dl Completed...: 100%",
      "description_tooltip": null,
      "layout": "IPY_MODEL_330743015f7540f6ae373bde60f30d93",
      "max": 1,
      "min": 0,
      "orientation": "horizontal",
      "style": "IPY_MODEL_480c4ba40afa4a928201277a4f4499af",
      "value": 1
     }
    },
    "61fb7f6928e548d7b37053d606855fad": {
     "model_module": "@jupyter-widgets/base",
     "model_name": "LayoutModel",
     "state": {
      "_model_module": "@jupyter-widgets/base",
      "_model_module_version": "1.2.0",
      "_model_name": "LayoutModel",
      "_view_count": null,
      "_view_module": "@jupyter-widgets/base",
      "_view_module_version": "1.2.0",
      "_view_name": "LayoutView",
      "align_content": null,
      "align_items": null,
      "align_self": null,
      "border": null,
      "bottom": null,
      "display": null,
      "flex": null,
      "flex_flow": null,
      "grid_area": null,
      "grid_auto_columns": null,
      "grid_auto_flow": null,
      "grid_auto_rows": null,
      "grid_column": null,
      "grid_gap": null,
      "grid_row": null,
      "grid_template_areas": null,
      "grid_template_columns": null,
      "grid_template_rows": null,
      "height": null,
      "justify_content": null,
      "justify_items": null,
      "left": null,
      "margin": null,
      "max_height": null,
      "max_width": null,
      "min_height": null,
      "min_width": null,
      "object_fit": null,
      "object_position": null,
      "order": null,
      "overflow": null,
      "overflow_x": null,
      "overflow_y": null,
      "padding": null,
      "right": null,
      "top": null,
      "visibility": null,
      "width": null
     }
    },
    "6391713d5cc542f6b0c9bf8f06771c09": {
     "model_module": "@jupyter-widgets/controls",
     "model_name": "DescriptionStyleModel",
     "state": {
      "_model_module": "@jupyter-widgets/controls",
      "_model_module_version": "1.5.0",
      "_model_name": "DescriptionStyleModel",
      "_view_count": null,
      "_view_module": "@jupyter-widgets/base",
      "_view_module_version": "1.2.0",
      "_view_name": "StyleView",
      "description_width": ""
     }
    },
    "6a90e7f842054a4493c30f8343b9cc5c": {
     "model_module": "@jupyter-widgets/base",
     "model_name": "LayoutModel",
     "state": {
      "_model_module": "@jupyter-widgets/base",
      "_model_module_version": "1.2.0",
      "_model_name": "LayoutModel",
      "_view_count": null,
      "_view_module": "@jupyter-widgets/base",
      "_view_module_version": "1.2.0",
      "_view_name": "LayoutView",
      "align_content": null,
      "align_items": null,
      "align_self": null,
      "border": null,
      "bottom": null,
      "display": null,
      "flex": null,
      "flex_flow": null,
      "grid_area": null,
      "grid_auto_columns": null,
      "grid_auto_flow": null,
      "grid_auto_rows": null,
      "grid_column": null,
      "grid_gap": null,
      "grid_row": null,
      "grid_template_areas": null,
      "grid_template_columns": null,
      "grid_template_rows": null,
      "height": null,
      "justify_content": null,
      "justify_items": null,
      "left": null,
      "margin": null,
      "max_height": null,
      "max_width": null,
      "min_height": null,
      "min_width": null,
      "object_fit": null,
      "object_position": null,
      "order": null,
      "overflow": null,
      "overflow_x": null,
      "overflow_y": null,
      "padding": null,
      "right": null,
      "top": null,
      "visibility": null,
      "width": null
     }
    },
    "7202d0f805454d1d849defcbdb3f6ebd": {
     "model_module": "@jupyter-widgets/controls",
     "model_name": "ProgressStyleModel",
     "state": {
      "_model_module": "@jupyter-widgets/controls",
      "_model_module_version": "1.5.0",
      "_model_name": "ProgressStyleModel",
      "_view_count": null,
      "_view_module": "@jupyter-widgets/base",
      "_view_module_version": "1.2.0",
      "_view_name": "StyleView",
      "bar_color": null,
      "description_width": "initial"
     }
    },
    "852a08b0441c4b14a92ee51e60923933": {
     "model_module": "@jupyter-widgets/base",
     "model_name": "LayoutModel",
     "state": {
      "_model_module": "@jupyter-widgets/base",
      "_model_module_version": "1.2.0",
      "_model_name": "LayoutModel",
      "_view_count": null,
      "_view_module": "@jupyter-widgets/base",
      "_view_module_version": "1.2.0",
      "_view_name": "LayoutView",
      "align_content": null,
      "align_items": null,
      "align_self": null,
      "border": null,
      "bottom": null,
      "display": null,
      "flex": null,
      "flex_flow": null,
      "grid_area": null,
      "grid_auto_columns": null,
      "grid_auto_flow": null,
      "grid_auto_rows": null,
      "grid_column": null,
      "grid_gap": null,
      "grid_row": null,
      "grid_template_areas": null,
      "grid_template_columns": null,
      "grid_template_rows": null,
      "height": null,
      "justify_content": null,
      "justify_items": null,
      "left": null,
      "margin": null,
      "max_height": null,
      "max_width": null,
      "min_height": null,
      "min_width": null,
      "object_fit": null,
      "object_position": null,
      "order": null,
      "overflow": null,
      "overflow_x": null,
      "overflow_y": null,
      "padding": null,
      "right": null,
      "top": null,
      "visibility": null,
      "width": null
     }
    },
    "8575c428a0234c7f939f3f32e4e0a21d": {
     "model_module": "@jupyter-widgets/base",
     "model_name": "LayoutModel",
     "state": {
      "_model_module": "@jupyter-widgets/base",
      "_model_module_version": "1.2.0",
      "_model_name": "LayoutModel",
      "_view_count": null,
      "_view_module": "@jupyter-widgets/base",
      "_view_module_version": "1.2.0",
      "_view_name": "LayoutView",
      "align_content": null,
      "align_items": null,
      "align_self": null,
      "border": null,
      "bottom": null,
      "display": null,
      "flex": null,
      "flex_flow": null,
      "grid_area": null,
      "grid_auto_columns": null,
      "grid_auto_flow": null,
      "grid_auto_rows": null,
      "grid_column": null,
      "grid_gap": null,
      "grid_row": null,
      "grid_template_areas": null,
      "grid_template_columns": null,
      "grid_template_rows": null,
      "height": null,
      "justify_content": null,
      "justify_items": null,
      "left": null,
      "margin": null,
      "max_height": null,
      "max_width": null,
      "min_height": null,
      "min_width": null,
      "object_fit": null,
      "object_position": null,
      "order": null,
      "overflow": null,
      "overflow_x": null,
      "overflow_y": null,
      "padding": null,
      "right": null,
      "top": null,
      "visibility": null,
      "width": null
     }
    },
    "86e0caccdd9d421d956781ffc0c5a884": {
     "model_module": "@jupyter-widgets/base",
     "model_name": "LayoutModel",
     "state": {
      "_model_module": "@jupyter-widgets/base",
      "_model_module_version": "1.2.0",
      "_model_name": "LayoutModel",
      "_view_count": null,
      "_view_module": "@jupyter-widgets/base",
      "_view_module_version": "1.2.0",
      "_view_name": "LayoutView",
      "align_content": null,
      "align_items": null,
      "align_self": null,
      "border": null,
      "bottom": null,
      "display": null,
      "flex": null,
      "flex_flow": null,
      "grid_area": null,
      "grid_auto_columns": null,
      "grid_auto_flow": null,
      "grid_auto_rows": null,
      "grid_column": null,
      "grid_gap": null,
      "grid_row": null,
      "grid_template_areas": null,
      "grid_template_columns": null,
      "grid_template_rows": null,
      "height": null,
      "justify_content": null,
      "justify_items": null,
      "left": null,
      "margin": null,
      "max_height": null,
      "max_width": null,
      "min_height": null,
      "min_width": null,
      "object_fit": null,
      "object_position": null,
      "order": null,
      "overflow": null,
      "overflow_x": null,
      "overflow_y": null,
      "padding": null,
      "right": null,
      "top": null,
      "visibility": null,
      "width": null
     }
    },
    "8b4cab80bbb644c5ad009b49ab59233d": {
     "model_module": "@jupyter-widgets/controls",
     "model_name": "ProgressStyleModel",
     "state": {
      "_model_module": "@jupyter-widgets/controls",
      "_model_module_version": "1.5.0",
      "_model_name": "ProgressStyleModel",
      "_view_count": null,
      "_view_module": "@jupyter-widgets/base",
      "_view_module_version": "1.2.0",
      "_view_name": "StyleView",
      "bar_color": null,
      "description_width": "initial"
     }
    },
    "8bd5c13695164fbebc22dbb2609f119c": {
     "model_module": "@jupyter-widgets/base",
     "model_name": "LayoutModel",
     "state": {
      "_model_module": "@jupyter-widgets/base",
      "_model_module_version": "1.2.0",
      "_model_name": "LayoutModel",
      "_view_count": null,
      "_view_module": "@jupyter-widgets/base",
      "_view_module_version": "1.2.0",
      "_view_name": "LayoutView",
      "align_content": null,
      "align_items": null,
      "align_self": null,
      "border": null,
      "bottom": null,
      "display": null,
      "flex": null,
      "flex_flow": null,
      "grid_area": null,
      "grid_auto_columns": null,
      "grid_auto_flow": null,
      "grid_auto_rows": null,
      "grid_column": null,
      "grid_gap": null,
      "grid_row": null,
      "grid_template_areas": null,
      "grid_template_columns": null,
      "grid_template_rows": null,
      "height": null,
      "justify_content": null,
      "justify_items": null,
      "left": null,
      "margin": null,
      "max_height": null,
      "max_width": null,
      "min_height": null,
      "min_width": null,
      "object_fit": null,
      "object_position": null,
      "order": null,
      "overflow": null,
      "overflow_x": null,
      "overflow_y": null,
      "padding": null,
      "right": null,
      "top": null,
      "visibility": null,
      "width": null
     }
    },
    "8e3fc72451454244a8b96bcaac8ad728": {
     "model_module": "@jupyter-widgets/controls",
     "model_name": "DescriptionStyleModel",
     "state": {
      "_model_module": "@jupyter-widgets/controls",
      "_model_module_version": "1.5.0",
      "_model_name": "DescriptionStyleModel",
      "_view_count": null,
      "_view_module": "@jupyter-widgets/base",
      "_view_module_version": "1.2.0",
      "_view_name": "StyleView",
      "description_width": ""
     }
    },
    "971ac2480b164ec7bdd3843fbe5edcdb": {
     "model_module": "@jupyter-widgets/base",
     "model_name": "LayoutModel",
     "state": {
      "_model_module": "@jupyter-widgets/base",
      "_model_module_version": "1.2.0",
      "_model_name": "LayoutModel",
      "_view_count": null,
      "_view_module": "@jupyter-widgets/base",
      "_view_module_version": "1.2.0",
      "_view_name": "LayoutView",
      "align_content": null,
      "align_items": null,
      "align_self": null,
      "border": null,
      "bottom": null,
      "display": null,
      "flex": null,
      "flex_flow": null,
      "grid_area": null,
      "grid_auto_columns": null,
      "grid_auto_flow": null,
      "grid_auto_rows": null,
      "grid_column": null,
      "grid_gap": null,
      "grid_row": null,
      "grid_template_areas": null,
      "grid_template_columns": null,
      "grid_template_rows": null,
      "height": null,
      "justify_content": null,
      "justify_items": null,
      "left": null,
      "margin": null,
      "max_height": null,
      "max_width": null,
      "min_height": null,
      "min_width": null,
      "object_fit": null,
      "object_position": null,
      "order": null,
      "overflow": null,
      "overflow_x": null,
      "overflow_y": null,
      "padding": null,
      "right": null,
      "top": null,
      "visibility": null,
      "width": null
     }
    },
    "9d5a33e4cd0b456185596ba3df720917": {
     "model_module": "@jupyter-widgets/base",
     "model_name": "LayoutModel",
     "state": {
      "_model_module": "@jupyter-widgets/base",
      "_model_module_version": "1.2.0",
      "_model_name": "LayoutModel",
      "_view_count": null,
      "_view_module": "@jupyter-widgets/base",
      "_view_module_version": "1.2.0",
      "_view_name": "LayoutView",
      "align_content": null,
      "align_items": null,
      "align_self": null,
      "border": null,
      "bottom": null,
      "display": null,
      "flex": null,
      "flex_flow": null,
      "grid_area": null,
      "grid_auto_columns": null,
      "grid_auto_flow": null,
      "grid_auto_rows": null,
      "grid_column": null,
      "grid_gap": null,
      "grid_row": null,
      "grid_template_areas": null,
      "grid_template_columns": null,
      "grid_template_rows": null,
      "height": null,
      "justify_content": null,
      "justify_items": null,
      "left": null,
      "margin": null,
      "max_height": null,
      "max_width": null,
      "min_height": null,
      "min_width": null,
      "object_fit": null,
      "object_position": null,
      "order": null,
      "overflow": null,
      "overflow_x": null,
      "overflow_y": null,
      "padding": null,
      "right": null,
      "top": null,
      "visibility": null,
      "width": null
     }
    },
    "9d6b1b121e9d49099cbb75237ac0eec6": {
     "model_module": "@jupyter-widgets/controls",
     "model_name": "HTMLModel",
     "state": {
      "_dom_classes": [],
      "_model_module": "@jupyter-widgets/controls",
      "_model_module_version": "1.5.0",
      "_model_name": "HTMLModel",
      "_view_count": null,
      "_view_module": "@jupyter-widgets/controls",
      "_view_module_version": "1.5.0",
      "_view_name": "HTMLView",
      "description": "",
      "description_tooltip": null,
      "layout": "IPY_MODEL_dd67845e7a824d47b7b696d9a50a7a4a",
      "placeholder": "​",
      "style": "IPY_MODEL_b7e7e5e5ec0740669cbb9e6b8d61b018",
      "value": " 162/162 [00:05&lt;00:00, 29.69 MiB/s]"
     }
    },
    "b342afbffb0f438eb59987835ccb28b0": {
     "model_module": "@jupyter-widgets/base",
     "model_name": "LayoutModel",
     "state": {
      "_model_module": "@jupyter-widgets/base",
      "_model_module_version": "1.2.0",
      "_model_name": "LayoutModel",
      "_view_count": null,
      "_view_module": "@jupyter-widgets/base",
      "_view_module_version": "1.2.0",
      "_view_name": "LayoutView",
      "align_content": null,
      "align_items": null,
      "align_self": null,
      "border": null,
      "bottom": null,
      "display": null,
      "flex": null,
      "flex_flow": null,
      "grid_area": null,
      "grid_auto_columns": null,
      "grid_auto_flow": null,
      "grid_auto_rows": null,
      "grid_column": null,
      "grid_gap": null,
      "grid_row": null,
      "grid_template_areas": null,
      "grid_template_columns": null,
      "grid_template_rows": null,
      "height": null,
      "justify_content": null,
      "justify_items": null,
      "left": null,
      "margin": null,
      "max_height": null,
      "max_width": null,
      "min_height": null,
      "min_width": null,
      "object_fit": null,
      "object_position": null,
      "order": null,
      "overflow": null,
      "overflow_x": null,
      "overflow_y": null,
      "padding": null,
      "right": null,
      "top": null,
      "visibility": null,
      "width": null
     }
    },
    "b612f983b542465188a493492aa211ee": {
     "model_module": "@jupyter-widgets/controls",
     "model_name": "HTMLModel",
     "state": {
      "_dom_classes": [],
      "_model_module": "@jupyter-widgets/controls",
      "_model_module_version": "1.5.0",
      "_model_name": "HTMLModel",
      "_view_count": null,
      "_view_module": "@jupyter-widgets/controls",
      "_view_module_version": "1.5.0",
      "_view_name": "HTMLView",
      "description": "",
      "description_tooltip": null,
      "layout": "IPY_MODEL_b8923a3185f24ccf92c2b61b42dfa843",
      "placeholder": "​",
      "style": "IPY_MODEL_48c9d7d74fd642b2be68b69da48f3e32",
      "value": " 43666/50000 [00:00&lt;03:51, 27.38 examples/s]"
     }
    },
    "b7e7e5e5ec0740669cbb9e6b8d61b018": {
     "model_module": "@jupyter-widgets/controls",
     "model_name": "DescriptionStyleModel",
     "state": {
      "_model_module": "@jupyter-widgets/controls",
      "_model_module_version": "1.5.0",
      "_model_name": "DescriptionStyleModel",
      "_view_count": null,
      "_view_module": "@jupyter-widgets/base",
      "_view_module_version": "1.2.0",
      "_view_name": "StyleView",
      "description_width": ""
     }
    },
    "b8923a3185f24ccf92c2b61b42dfa843": {
     "model_module": "@jupyter-widgets/base",
     "model_name": "LayoutModel",
     "state": {
      "_model_module": "@jupyter-widgets/base",
      "_model_module_version": "1.2.0",
      "_model_name": "LayoutModel",
      "_view_count": null,
      "_view_module": "@jupyter-widgets/base",
      "_view_module_version": "1.2.0",
      "_view_name": "LayoutView",
      "align_content": null,
      "align_items": null,
      "align_self": null,
      "border": null,
      "bottom": null,
      "display": null,
      "flex": null,
      "flex_flow": null,
      "grid_area": null,
      "grid_auto_columns": null,
      "grid_auto_flow": null,
      "grid_auto_rows": null,
      "grid_column": null,
      "grid_gap": null,
      "grid_row": null,
      "grid_template_areas": null,
      "grid_template_columns": null,
      "grid_template_rows": null,
      "height": null,
      "justify_content": null,
      "justify_items": null,
      "left": null,
      "margin": null,
      "max_height": null,
      "max_width": null,
      "min_height": null,
      "min_width": null,
      "object_fit": null,
      "object_position": null,
      "order": null,
      "overflow": null,
      "overflow_x": null,
      "overflow_y": null,
      "padding": null,
      "right": null,
      "top": null,
      "visibility": null,
      "width": null
     }
    },
    "b8d26535743048d2b844b0bdca7155f9": {
     "model_module": "@jupyter-widgets/controls",
     "model_name": "HTMLModel",
     "state": {
      "_dom_classes": [],
      "_model_module": "@jupyter-widgets/controls",
      "_model_module_version": "1.5.0",
      "_model_name": "HTMLModel",
      "_view_count": null,
      "_view_module": "@jupyter-widgets/controls",
      "_view_module_version": "1.5.0",
      "_view_name": "HTMLView",
      "description": "",
      "description_tooltip": null,
      "layout": "IPY_MODEL_f76f299f237f480cb6f6bdcb0b82e2f1",
      "placeholder": "​",
      "style": "IPY_MODEL_cef4438a6b6845598ba50a5391b3f771",
      "value": " 8146/10000 [00:00&lt;00:00, 81458.91 examples/s]"
     }
    },
    "c0385b6c4c0a4056b530dcc2c115f3dc": {
     "model_module": "@jupyter-widgets/controls",
     "model_name": "HBoxModel",
     "state": {
      "_dom_classes": [],
      "_model_module": "@jupyter-widgets/controls",
      "_model_module_version": "1.5.0",
      "_model_name": "HBoxModel",
      "_view_count": null,
      "_view_module": "@jupyter-widgets/controls",
      "_view_module_version": "1.5.0",
      "_view_name": "HBoxView",
      "box_style": "",
      "children": [
       "IPY_MODEL_fb8e4b00355540fbbea9a52d41f3ac58",
       "IPY_MODEL_e469142cffbb41fca088db681fc35c12"
      ],
      "layout": "IPY_MODEL_971ac2480b164ec7bdd3843fbe5edcdb"
     }
    },
    "c30ff4aca20e40d1bde3afa198d7001a": {
     "model_module": "@jupyter-widgets/controls",
     "model_name": "FloatProgressModel",
     "state": {
      "_dom_classes": [],
      "_model_module": "@jupyter-widgets/controls",
      "_model_module_version": "1.5.0",
      "_model_name": "FloatProgressModel",
      "_view_count": null,
      "_view_module": "@jupyter-widgets/controls",
      "_view_module_version": "1.5.0",
      "_view_name": "ProgressView",
      "bar_style": "success",
      "description": "Dl Size...: 100%",
      "description_tooltip": null,
      "layout": "IPY_MODEL_c46e881b520d45c78bc0df7273012d41",
      "max": 1,
      "min": 0,
      "orientation": "horizontal",
      "style": "IPY_MODEL_244a15f5fc10413bbc862047e850a9e6",
      "value": 1
     }
    },
    "c46e881b520d45c78bc0df7273012d41": {
     "model_module": "@jupyter-widgets/base",
     "model_name": "LayoutModel",
     "state": {
      "_model_module": "@jupyter-widgets/base",
      "_model_module_version": "1.2.0",
      "_model_name": "LayoutModel",
      "_view_count": null,
      "_view_module": "@jupyter-widgets/base",
      "_view_module_version": "1.2.0",
      "_view_name": "LayoutView",
      "align_content": null,
      "align_items": null,
      "align_self": null,
      "border": null,
      "bottom": null,
      "display": null,
      "flex": null,
      "flex_flow": null,
      "grid_area": null,
      "grid_auto_columns": null,
      "grid_auto_flow": null,
      "grid_auto_rows": null,
      "grid_column": null,
      "grid_gap": null,
      "grid_row": null,
      "grid_template_areas": null,
      "grid_template_columns": null,
      "grid_template_rows": null,
      "height": null,
      "justify_content": null,
      "justify_items": null,
      "left": null,
      "margin": null,
      "max_height": null,
      "max_width": null,
      "min_height": null,
      "min_width": null,
      "object_fit": null,
      "object_position": null,
      "order": null,
      "overflow": null,
      "overflow_x": null,
      "overflow_y": null,
      "padding": null,
      "right": null,
      "top": null,
      "visibility": null,
      "width": null
     }
    },
    "c868e2d6b1ed47fcb88d83505e1dd081": {
     "model_module": "@jupyter-widgets/base",
     "model_name": "LayoutModel",
     "state": {
      "_model_module": "@jupyter-widgets/base",
      "_model_module_version": "1.2.0",
      "_model_name": "LayoutModel",
      "_view_count": null,
      "_view_module": "@jupyter-widgets/base",
      "_view_module_version": "1.2.0",
      "_view_name": "LayoutView",
      "align_content": null,
      "align_items": null,
      "align_self": null,
      "border": null,
      "bottom": null,
      "display": null,
      "flex": null,
      "flex_flow": null,
      "grid_area": null,
      "grid_auto_columns": null,
      "grid_auto_flow": null,
      "grid_auto_rows": null,
      "grid_column": null,
      "grid_gap": null,
      "grid_row": null,
      "grid_template_areas": null,
      "grid_template_columns": null,
      "grid_template_rows": null,
      "height": null,
      "justify_content": null,
      "justify_items": null,
      "left": null,
      "margin": null,
      "max_height": null,
      "max_width": null,
      "min_height": null,
      "min_width": null,
      "object_fit": null,
      "object_position": null,
      "order": null,
      "overflow": null,
      "overflow_x": null,
      "overflow_y": null,
      "padding": null,
      "right": null,
      "top": null,
      "visibility": null,
      "width": null
     }
    },
    "cef4438a6b6845598ba50a5391b3f771": {
     "model_module": "@jupyter-widgets/controls",
     "model_name": "DescriptionStyleModel",
     "state": {
      "_model_module": "@jupyter-widgets/controls",
      "_model_module_version": "1.5.0",
      "_model_name": "DescriptionStyleModel",
      "_view_count": null,
      "_view_module": "@jupyter-widgets/base",
      "_view_module_version": "1.2.0",
      "_view_name": "StyleView",
      "description_width": ""
     }
    },
    "d44d26ac511d470495331bfa386afe50": {
     "model_module": "@jupyter-widgets/controls",
     "model_name": "DescriptionStyleModel",
     "state": {
      "_model_module": "@jupyter-widgets/controls",
      "_model_module_version": "1.5.0",
      "_model_name": "DescriptionStyleModel",
      "_view_count": null,
      "_view_module": "@jupyter-widgets/base",
      "_view_module_version": "1.2.0",
      "_view_name": "StyleView",
      "description_width": ""
     }
    },
    "d57b327ce03f4d9c9beb3e965bff439c": {
     "model_module": "@jupyter-widgets/controls",
     "model_name": "HBoxModel",
     "state": {
      "_dom_classes": [],
      "_model_module": "@jupyter-widgets/controls",
      "_model_module_version": "1.5.0",
      "_model_name": "HBoxModel",
      "_view_count": null,
      "_view_module": "@jupyter-widgets/controls",
      "_view_module_version": "1.5.0",
      "_view_name": "HBoxView",
      "box_style": "",
      "children": [
       "IPY_MODEL_614be1f842b245a28ca8f09f9f99379f",
       "IPY_MODEL_4aa5708f489444a19f91f8011a66e195"
      ],
      "layout": "IPY_MODEL_86e0caccdd9d421d956781ffc0c5a884"
     }
    },
    "dc7c29e4634d4c0c8ba81f054e9ab47f": {
     "model_module": "@jupyter-widgets/controls",
     "model_name": "ProgressStyleModel",
     "state": {
      "_model_module": "@jupyter-widgets/controls",
      "_model_module_version": "1.5.0",
      "_model_name": "ProgressStyleModel",
      "_view_count": null,
      "_view_module": "@jupyter-widgets/base",
      "_view_module_version": "1.2.0",
      "_view_name": "StyleView",
      "bar_color": null,
      "description_width": "initial"
     }
    },
    "dd67845e7a824d47b7b696d9a50a7a4a": {
     "model_module": "@jupyter-widgets/base",
     "model_name": "LayoutModel",
     "state": {
      "_model_module": "@jupyter-widgets/base",
      "_model_module_version": "1.2.0",
      "_model_name": "LayoutModel",
      "_view_count": null,
      "_view_module": "@jupyter-widgets/base",
      "_view_module_version": "1.2.0",
      "_view_name": "LayoutView",
      "align_content": null,
      "align_items": null,
      "align_self": null,
      "border": null,
      "bottom": null,
      "display": null,
      "flex": null,
      "flex_flow": null,
      "grid_area": null,
      "grid_auto_columns": null,
      "grid_auto_flow": null,
      "grid_auto_rows": null,
      "grid_column": null,
      "grid_gap": null,
      "grid_row": null,
      "grid_template_areas": null,
      "grid_template_columns": null,
      "grid_template_rows": null,
      "height": null,
      "justify_content": null,
      "justify_items": null,
      "left": null,
      "margin": null,
      "max_height": null,
      "max_width": null,
      "min_height": null,
      "min_width": null,
      "object_fit": null,
      "object_position": null,
      "order": null,
      "overflow": null,
      "overflow_x": null,
      "overflow_y": null,
      "padding": null,
      "right": null,
      "top": null,
      "visibility": null,
      "width": null
     }
    },
    "de26eecc972f48a09cab1a45ef423879": {
     "model_module": "@jupyter-widgets/controls",
     "model_name": "HTMLModel",
     "state": {
      "_dom_classes": [],
      "_model_module": "@jupyter-widgets/controls",
      "_model_module_version": "1.5.0",
      "_model_name": "HTMLModel",
      "_view_count": null,
      "_view_module": "@jupyter-widgets/controls",
      "_view_module_version": "1.5.0",
      "_view_name": "HTMLView",
      "description": "",
      "description_tooltip": null,
      "layout": "IPY_MODEL_098dfad291ac460c94e97ac9c0b6e7d5",
      "placeholder": "​",
      "style": "IPY_MODEL_6391713d5cc542f6b0c9bf8f06771c09",
      "value": " 50000/0 [00:32&lt;00:00, 1537.97 examples/s]"
     }
    },
    "e469142cffbb41fca088db681fc35c12": {
     "model_module": "@jupyter-widgets/controls",
     "model_name": "HTMLModel",
     "state": {
      "_dom_classes": [],
      "_model_module": "@jupyter-widgets/controls",
      "_model_module_version": "1.5.0",
      "_model_name": "HTMLModel",
      "_view_count": null,
      "_view_module": "@jupyter-widgets/controls",
      "_view_module_version": "1.5.0",
      "_view_name": "HTMLView",
      "description": "",
      "description_tooltip": null,
      "layout": "IPY_MODEL_5a76c44255a84cfb980fcc146dd1dd37",
      "placeholder": "​",
      "style": "IPY_MODEL_0621cfa6e310468c9ae7e2ddf42d8469",
      "value": " 1/1 [00:05&lt;00:00,  5.42s/ file]"
     }
    },
    "e8a4893701f84c549b9a6293588d37bc": {
     "model_module": "@jupyter-widgets/controls",
     "model_name": "HBoxModel",
     "state": {
      "_dom_classes": [],
      "_model_module": "@jupyter-widgets/controls",
      "_model_module_version": "1.5.0",
      "_model_name": "HBoxModel",
      "_view_count": null,
      "_view_module": "@jupyter-widgets/controls",
      "_view_module_version": "1.5.0",
      "_view_name": "HBoxView",
      "box_style": "",
      "children": [
       "IPY_MODEL_f473f55284284cb7a70e79252caa5caa",
       "IPY_MODEL_b612f983b542465188a493492aa211ee"
      ],
      "layout": "IPY_MODEL_852a08b0441c4b14a92ee51e60923933"
     }
    },
    "f473f55284284cb7a70e79252caa5caa": {
     "model_module": "@jupyter-widgets/controls",
     "model_name": "FloatProgressModel",
     "state": {
      "_dom_classes": [],
      "_model_module": "@jupyter-widgets/controls",
      "_model_module_version": "1.5.0",
      "_model_name": "FloatProgressModel",
      "_view_count": null,
      "_view_module": "@jupyter-widgets/controls",
      "_view_module_version": "1.5.0",
      "_view_name": "ProgressView",
      "bar_style": "danger",
      "description": " 87%",
      "description_tooltip": null,
      "layout": "IPY_MODEL_6a90e7f842054a4493c30f8343b9cc5c",
      "max": 50000,
      "min": 0,
      "orientation": "horizontal",
      "style": "IPY_MODEL_2e61b6204b1943aaabc2a86806617554",
      "value": 43666
     }
    },
    "f76f299f237f480cb6f6bdcb0b82e2f1": {
     "model_module": "@jupyter-widgets/base",
     "model_name": "LayoutModel",
     "state": {
      "_model_module": "@jupyter-widgets/base",
      "_model_module_version": "1.2.0",
      "_model_name": "LayoutModel",
      "_view_count": null,
      "_view_module": "@jupyter-widgets/base",
      "_view_module_version": "1.2.0",
      "_view_name": "LayoutView",
      "align_content": null,
      "align_items": null,
      "align_self": null,
      "border": null,
      "bottom": null,
      "display": null,
      "flex": null,
      "flex_flow": null,
      "grid_area": null,
      "grid_auto_columns": null,
      "grid_auto_flow": null,
      "grid_auto_rows": null,
      "grid_column": null,
      "grid_gap": null,
      "grid_row": null,
      "grid_template_areas": null,
      "grid_template_columns": null,
      "grid_template_rows": null,
      "height": null,
      "justify_content": null,
      "justify_items": null,
      "left": null,
      "margin": null,
      "max_height": null,
      "max_width": null,
      "min_height": null,
      "min_width": null,
      "object_fit": null,
      "object_position": null,
      "order": null,
      "overflow": null,
      "overflow_x": null,
      "overflow_y": null,
      "padding": null,
      "right": null,
      "top": null,
      "visibility": null,
      "width": null
     }
    },
    "fb8e4b00355540fbbea9a52d41f3ac58": {
     "model_module": "@jupyter-widgets/controls",
     "model_name": "FloatProgressModel",
     "state": {
      "_dom_classes": [],
      "_model_module": "@jupyter-widgets/controls",
      "_model_module_version": "1.5.0",
      "_model_name": "FloatProgressModel",
      "_view_count": null,
      "_view_module": "@jupyter-widgets/controls",
      "_view_module_version": "1.5.0",
      "_view_name": "ProgressView",
      "bar_style": "success",
      "description": "Extraction completed...: 100%",
      "description_tooltip": null,
      "layout": "IPY_MODEL_11960020a7064722a01056a6186e5411",
      "max": 1,
      "min": 0,
      "orientation": "horizontal",
      "style": "IPY_MODEL_2eb350bbd4d14d94aff8ce87db17e67e",
      "value": 1
     }
    },
    "fbe74a7b0db747d39d0211d453c0a0c4": {
     "model_module": "@jupyter-widgets/controls",
     "model_name": "FloatProgressModel",
     "state": {
      "_dom_classes": [],
      "_model_module": "@jupyter-widgets/controls",
      "_model_module_version": "1.5.0",
      "_model_name": "FloatProgressModel",
      "_view_count": null,
      "_view_module": "@jupyter-widgets/controls",
      "_view_module_version": "1.5.0",
      "_view_name": "ProgressView",
      "bar_style": "info",
      "description": "",
      "description_tooltip": null,
      "layout": "IPY_MODEL_b342afbffb0f438eb59987835ccb28b0",
      "max": 1,
      "min": 0,
      "orientation": "horizontal",
      "style": "IPY_MODEL_dc7c29e4634d4c0c8ba81f054e9ab47f",
      "value": 1
     }
    }
   }
  }
 },
 "nbformat": 4,
 "nbformat_minor": 1
}
