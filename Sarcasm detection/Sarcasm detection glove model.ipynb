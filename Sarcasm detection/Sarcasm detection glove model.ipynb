{
 "cells": [
  {
   "cell_type": "code",
   "execution_count": 3,
   "metadata": {
    "colab": {},
    "colab_type": "code",
    "id": "Pl1-Bq1GA3Ma"
   },
   "outputs": [
    {
     "name": "stderr",
     "output_type": "stream",
     "text": [
      "Using TensorFlow backend.\n"
     ]
    }
   ],
   "source": [
    "import numpy as np\n",
    "import pandas as pd\n",
    "import seaborn as sns\n",
    "import matplotlib.pyplot as plt\n",
    "import nltk\n",
    "from sklearn.preprocessing import LabelBinarizer\n",
    "from nltk.corpus import stopwords\n",
    "from nltk.stem.porter import PorterStemmer\n",
    "\n",
    "from nltk.stem import WordNetLemmatizer\n",
    "from nltk.tokenize import word_tokenize,sent_tokenize\n",
    "\n",
    "import re,string,unicodedata\n",
    "from tensorflow.keras.preprocessing import text, sequence\n",
    "from sklearn.metrics import classification_report,confusion_matrix,accuracy_score\n",
    "from sklearn.model_selection import train_test_split\n",
    "from string import punctuation\n",
    "import keras\n",
    "from tensorflow.keras.models import Sequential\n",
    "from tensorflow.keras.layers import Dense,Embedding,LSTM,Dropout,Bidirectional,GRU\n",
    "import tensorflow as tf"
   ]
  },
  {
   "cell_type": "code",
   "execution_count": 4,
   "metadata": {
    "colab": {
     "base_uri": "https://localhost:8080/",
     "height": 50
    },
    "colab_type": "code",
    "id": "zaCMcjMQifQc",
    "outputId": "f193aa9f-395f-4f45-9da5-c27d3ca0394d"
   },
   "outputs": [
    {
     "name": "stdout",
     "output_type": "stream",
     "text": [
      "{'my': 1, 'love': 2, 'dog': 3, 'i': 4, 'you': 5, 'cat': 6, 'do': 7, 'think': 8, 'is': 9, 'amazing': 10}\n",
      "[[4, 2, 1, 3], [4, 2, 1, 6], [5, 2, 1, 3], [7, 5, 8, 1, 3, 9, 10]]\n"
     ]
    }
   ],
   "source": [
    "from tensorflow.keras.preprocessing.text import Tokenizer\n",
    "from tensorflow.keras.preprocessing.sequence import pad_sequences\n",
    "# tokenizer lowers the text and cleans up the punctuation\n",
    "\n",
    "sentences = [\n",
    "    'i love my dog',\n",
    "    'I, love my cat',\n",
    "    'You love my dog!',\n",
    "    \"Do you think my dog is amazing?\"\n",
    "]\n",
    "\n",
    "tokenizer = Tokenizer(num_words = 100)\n",
    "tokenizer.fit_on_texts(sentences)\n",
    "word_index = tokenizer.word_index\n",
    "\n",
    "sentences= tokenizer.texts_to_sequences(sentences)\n",
    "print(word_index)\n",
    "print (sentences)"
   ]
  },
  {
   "cell_type": "code",
   "execution_count": 5,
   "metadata": {
    "colab": {
     "base_uri": "https://localhost:8080/",
     "height": 34
    },
    "colab_type": "code",
    "id": "lN0_-rX1nA2i",
    "outputId": "29053854-e498-42d3-c67e-3ed6aa35ebc0"
   },
   "outputs": [
    {
     "name": "stdout",
     "output_type": "stream",
     "text": [
      "[[4, 2, 1, 3], [1, 3, 9, 1]]\n"
     ]
    }
   ],
   "source": [
    "# If you give new data to tokenizer which is not fit_on_texts\n",
    "\n",
    "test_sent=[\"I really love my dog\", \"my dog is my bestie\"]\n",
    "\n",
    "print (tokenizer.texts_to_sequences(test_sent))\n",
    "\n",
    "# you have lost new data like really and bestie because you dont have those words in the fit_on_texts method"
   ]
  },
  {
   "cell_type": "code",
   "execution_count": 6,
   "metadata": {
    "colab": {
     "base_uri": "https://localhost:8080/",
     "height": 50
    },
    "colab_type": "code",
    "id": "aDoXL9KypKbW",
    "outputId": "63d40426-4de7-4b3b-9790-a4adcb0a5fa6"
   },
   "outputs": [
    {
     "name": "stdout",
     "output_type": "stream",
     "text": [
      "{'<OOV>': 1, 'my': 2, 'love': 3, 'dog': 4, 'i': 5, 'you': 6, 'cat': 7, 'do': 8, 'think': 9, 'is': 10, 'amazing': 11}\n",
      "[[5, 3, 2, 4], [5, 3, 2, 7], [6, 3, 2, 4], [8, 6, 9, 2, 4, 10, 11]]\n"
     ]
    }
   ],
   "source": [
    "# So we have to add oov_token (out of vocabulary) in tokenizer\n",
    "sentences = [\n",
    "    'i love my dog',\n",
    "    'I, love my cat',\n",
    "    'You love my dog!',\n",
    "    \"Do you think my dog is amazing?\"\n",
    "]\n",
    "\n",
    "tokenizer = Tokenizer(num_words = 100,oov_token=\"<OOV>\")\n",
    "tokenizer.fit_on_texts(sentences)\n",
    "sentences_token= tokenizer.texts_to_sequences(sentences)\n",
    "print (tokenizer.word_index)\n",
    "print (sentences_token)\n"
   ]
  },
  {
   "cell_type": "code",
   "execution_count": 7,
   "metadata": {
    "colab": {
     "base_uri": "https://localhost:8080/",
     "height": 34
    },
    "colab_type": "code",
    "id": "dW5ShjOnp1uR",
    "outputId": "7a3e0075-ac8a-4544-f8ef-6c846a785569"
   },
   "outputs": [
    {
     "name": "stdout",
     "output_type": "stream",
     "text": [
      "[[5, 1, 3, 2, 4], [2, 4, 10, 2, 1]]\n"
     ]
    }
   ],
   "source": [
    "print (tokenizer.texts_to_sequences(test_sent))"
   ]
  },
  {
   "cell_type": "code",
   "execution_count": 8,
   "metadata": {
    "colab": {
     "base_uri": "https://localhost:8080/",
     "height": 83
    },
    "colab_type": "code",
    "id": "rIWTy3_qqLSY",
    "outputId": "ad31cbc5-431f-4ebd-cf5c-f71bed64f8bc"
   },
   "outputs": [
    {
     "data": {
      "text/plain": [
       "array([[ 5,  3,  2,  4,  0,  0,  0],\n",
       "       [ 5,  3,  2,  7,  0,  0,  0],\n",
       "       [ 6,  3,  2,  4,  0,  0,  0],\n",
       "       [ 8,  6,  9,  2,  4, 10, 11]])"
      ]
     },
     "execution_count": 8,
     "metadata": {},
     "output_type": "execute_result"
    }
   ],
   "source": [
    "sequence=tokenizer.texts_to_sequences(sentences)\n",
    "padded=pad_sequences(sequence, maxlen=len(max((sentences),key=len).split(\" \")),padding=\"post\")\n",
    "padded"
   ]
  },
  {
   "cell_type": "markdown",
   "metadata": {
    "colab_type": "text",
    "id": "pbe7BK_HA1Lm"
   },
   "source": [
    "Using Real data"
   ]
  },
  {
   "cell_type": "code",
   "execution_count": 9,
   "metadata": {
    "colab": {
     "base_uri": "https://localhost:8080/",
     "height": 136
    },
    "colab_type": "code",
    "id": "TM8TOukJr8Ta",
    "outputId": "8fa64506-114b-4a0b-da31-6eb9cc738511"
   },
   "outputs": [
    {
     "name": "stdout",
     "output_type": "stream",
     "text": [
      "29657\n",
      "[  308 15115   679  3337  2298    48   382  2576 15116     6  2577  8434\n",
      "     0     0     0     0     0     0     0     0     0     0     0     0\n",
      "     0     0     0     0     0]\n",
      "(26709, 29)\n"
     ]
    }
   ],
   "source": [
    "# refer https://rishabhmisra.github.io/publications/\n",
    "# refer https://www.kaggle.com/madz2000/sarcasm-detection-with-glove-word2vec-83-accuracy\n",
    "\n",
    "import json\n",
    "\n",
    "with open(\"Sarcasm_Headlines_Dataset.json\", 'r') as f:\n",
    "    datastore = json.load(f)\n",
    "\n",
    "\n",
    "sentences = [] \n",
    "labels = []\n",
    "urls = []\n",
    "for item in datastore:\n",
    "    sentences.append(item['headline'])\n",
    "    labels.append(item['is_sarcastic'])\n",
    "    urls.append(item['article_link'])\n",
    "\n",
    "\n",
    "\n",
    "from tensorflow.keras.preprocessing.text import Tokenizer\n",
    "from tensorflow.keras.preprocessing.sequence import pad_sequences\n",
    "tokenizer = Tokenizer(oov_token=\"<OOV>\")\n",
    "tokenizer.fit_on_texts(sentences)\n",
    "\n",
    "word_index = tokenizer.word_index\n",
    "print(len(word_index))\n",
    "\n",
    "sequences = tokenizer.texts_to_sequences(sentences)\n",
    "padded = pad_sequences(sequences, padding='post',maxlen=len(max((sentences),key=len).split(\" \")))\n",
    "\n",
    "print(padded[0])\n",
    "print(padded.shape)"
   ]
  },
  {
   "cell_type": "code",
   "execution_count": 34,
   "metadata": {
    "colab": {
     "base_uri": "https://localhost:8080/",
     "height": 67
    },
    "colab_type": "code",
    "id": "SG1Dw8y4r8DF",
    "outputId": "6ff455f5-8175-4e4d-866b-06cb334de215"
   },
   "outputs": [
    {
     "data": {
      "text/plain": [
       "{'article_link': 'https://www.huffingtonpost.com/entry/versace-black-code_us_5861fbefe4b0de3a08f600d5',\n",
       " 'headline': \"former versace store clerk sues over secret 'black code' for minority shoppers\",\n",
       " 'is_sarcastic': 0}"
      ]
     },
     "execution_count": 34,
     "metadata": {
      "tags": []
     },
     "output_type": "execute_result"
    }
   ],
   "source": [
    "datastore[0]"
   ]
  },
  {
   "cell_type": "code",
   "execution_count": 37,
   "metadata": {
    "colab": {
     "base_uri": "https://localhost:8080/",
     "height": 34
    },
    "colab_type": "code",
    "id": "qH7Y1fBaF5k8",
    "outputId": "8b7988c3-8ef3-4bdd-cc1b-2ab94466e263"
   },
   "outputs": [
    {
     "data": {
      "text/plain": [
       "(26709, 29)"
      ]
     },
     "execution_count": 37,
     "metadata": {
      "tags": []
     },
     "output_type": "execute_result"
    }
   ],
   "source": [
    "padded.shape"
   ]
  },
  {
   "cell_type": "code",
   "execution_count": 38,
   "metadata": {
    "colab": {
     "base_uri": "https://localhost:8080/",
     "height": 100
    },
    "colab_type": "code",
    "id": "O3OVbs9LGbzj",
    "outputId": "28431b61-9c3a-451e-cd18-9552c45ea10a"
   },
   "outputs": [
    {
     "data": {
      "text/plain": [
       "[\"former versace store clerk sues over secret 'black code' for minority shoppers\",\n",
       " \"the 'roseanne' revival catches up to our thorny political mood, for better and worse\",\n",
       " \"mom starting to fear son's web series closest thing she will have to grandchild\",\n",
       " 'boehner just wants wife to listen, not come up with alternative debt-reduction ideas',\n",
       " 'j.k. rowling wishes snape happy birthday in the most magical way']"
      ]
     },
     "execution_count": 38,
     "metadata": {
      "tags": []
     },
     "output_type": "execute_result"
    }
   ],
   "source": [
    "sentences[:5]"
   ]
  },
  {
   "cell_type": "code",
   "execution_count": 39,
   "metadata": {
    "colab": {
     "base_uri": "https://localhost:8080/",
     "height": 34
    },
    "colab_type": "code",
    "id": "FD1zazbYGcJp",
    "outputId": "7eb97021-0ea6-4df8-9e84-59c65b27c08a"
   },
   "outputs": [
    {
     "data": {
      "text/plain": [
       "26709"
      ]
     },
     "execution_count": 39,
     "metadata": {
      "tags": []
     },
     "output_type": "execute_result"
    }
   ],
   "source": [
    "len(labels)"
   ]
  },
  {
   "cell_type": "code",
   "execution_count": 40,
   "metadata": {
    "colab": {
     "base_uri": "https://localhost:8080/",
     "height": 34
    },
    "colab_type": "code",
    "id": "dwmwXlHwGbjS",
    "outputId": "f6a99303-5272-40c1-ef8b-4f4c34fad2e3"
   },
   "outputs": [
    {
     "data": {
      "text/plain": [
       "11724"
      ]
     },
     "execution_count": 40,
     "metadata": {
      "tags": []
     },
     "output_type": "execute_result"
    }
   ],
   "source": [
    "sum(labels)"
   ]
  },
  {
   "cell_type": "markdown",
   "metadata": {
    "colab_type": "text",
    "id": "3nGeTfiiH848"
   },
   "source": [
    "## **Introduction to GloVe**\n",
    "\n",
    "ref -https://towardsdatascience.com/light-on-math-ml-intuitive-guide-to-understanding-glove-embeddings-b13b4f19c010\n",
    "\n",
    "ref - https://gist.github.com/aparrish/2f562e3737544cf29aaf1af30362f469\n",
    "\n",
    "\n",
    "GloVe method is built on an important idea, You can derive semantic relationships between words from the co-occurrence matrix. Given a corpus having V words, the co-occurrence matrix X will be a V x V matrix, where the i th row and j th column of X, X_ij denotes how many times word i has co-occurred with word j. An example co-occurrence matrix might look as follows.\\\n",
    "The co-occurrence matrix for the sentence “the cat sat on the mat” with a window size of 1. As you probably noticed it is a symmetric matrix. How do we get a metric that measures semantic similarity between words from this? For that, you will need three words at a time. Let me concretely lay down this statement.\n",
    "\n",
    "![img.png](data:image/png;base64,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)"
   ]
  },
  {
   "cell_type": "markdown",
   "metadata": {
    "colab_type": "text",
    "id": "hgbB5ZCrJDLS"
   },
   "source": [
    "![img.png](data:image/png;base64,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)"
   ]
  },
  {
   "cell_type": "code",
   "execution_count": 15,
   "metadata": {
    "colab": {},
    "colab_type": "code",
    "id": "5MWb7uTRHtXa"
   },
   "outputs": [],
   "source": [
    "EMBEDDING_FILE = '/content/glove.6B.300d.txt'"
   ]
  },
  {
   "cell_type": "code",
   "execution_count": 16,
   "metadata": {
    "colab": {},
    "colab_type": "code",
    "id": "ZdE3eA5X7qO0"
   },
   "outputs": [],
   "source": [
    "def get_coefs(word, *arr): \n",
    "    return word, np.asarray(arr, dtype='float32')\n",
    "embeddings_index = dict(get_coefs(*o.rstrip().rsplit(' ')) for o in open(EMBEDDING_FILE))"
   ]
  },
  {
   "cell_type": "code",
   "execution_count": 20,
   "metadata": {
    "colab": {
     "base_uri": "https://localhost:8080/",
     "height": 34
    },
    "colab_type": "code",
    "id": "kGwniVLf7tc5",
    "outputId": "0821fdc1-c3a7-40ca-aa1f-a0741c33f5e8"
   },
   "outputs": [
    {
     "data": {
      "text/plain": [
       "(300,)"
      ]
     },
     "execution_count": 20,
     "metadata": {
      "tags": []
     },
     "output_type": "execute_result"
    }
   ],
   "source": [
    "#example showing the dimension of the vector representation of a word\n",
    "\n",
    "embeddings_index[\"cheese\"].shape"
   ]
  },
  {
   "cell_type": "code",
   "execution_count": 41,
   "metadata": {
    "colab": {},
    "colab_type": "code",
    "id": "oYqMmca476CX"
   },
   "outputs": [],
   "source": [
    "x_train=padded[:int(len(padded)*0.8)]\n",
    "y_train=labels[:int(len(padded)*0.8)]\n",
    "\n",
    "x_test=padded[int(len(padded)*0.8):]\n",
    "y_test=labels[int(len(padded)*0.8):]"
   ]
  },
  {
   "cell_type": "code",
   "execution_count": 42,
   "metadata": {
    "colab": {
     "base_uri": "https://localhost:8080/",
     "height": 34
    },
    "colab_type": "code",
    "id": "BBLbMh1o_9Br",
    "outputId": "f8172547-34a2-46ae-8646-81cf9641222f"
   },
   "outputs": [
    {
     "data": {
      "text/plain": [
       "(21367, 29)"
      ]
     },
     "execution_count": 42,
     "metadata": {
      "tags": []
     },
     "output_type": "execute_result"
    }
   ],
   "source": [
    "x_train.shape"
   ]
  },
  {
   "cell_type": "code",
   "execution_count": 43,
   "metadata": {
    "colab": {
     "base_uri": "https://localhost:8080/",
     "height": 34
    },
    "colab_type": "code",
    "id": "9XGIO-Yz_-9n",
    "outputId": "93ddf376-6db1-487a-a37f-d96809035bcc"
   },
   "outputs": [
    {
     "data": {
      "text/plain": [
       "400000"
      ]
     },
     "execution_count": 43,
     "metadata": {
      "tags": []
     },
     "output_type": "execute_result"
    }
   ],
   "source": [
    "len(embeddings_index)"
   ]
  },
  {
   "cell_type": "code",
   "execution_count": 86,
   "metadata": {
    "colab": {
     "base_uri": "https://localhost:8080/",
     "height": 70
    },
    "colab_type": "code",
    "id": "UFHStcZEAJdU",
    "outputId": "e67cbd1d-2a91-4965-a06b-b5e22a449da2"
   },
   "outputs": [
    {
     "name": "stderr",
     "output_type": "stream",
     "text": [
      "/usr/local/lib/python3.6/dist-packages/IPython/core/interactiveshell.py:2822: FutureWarning: arrays to stack must be passed as a \"sequence\" type such as list or tuple. Support for non-sequence iterables such as generators is deprecated as of NumPy 1.16 and will raise an error in the future.\n",
      "  if self.run_code(code, result):\n"
     ]
    }
   ],
   "source": [
    "all_embs = np.stack(embeddings_index.values())\n",
    "emb_mean,emb_std = all_embs.mean(), all_embs.std()\n",
    "embed_size = all_embs.shape[1]\n",
    "\n",
    "word_index = tokenizer.word_index\n",
    "\n",
    "# Adding 1 because of reserved 0 index\n",
    "# Embedding Layer creates one more vector for \"UNKNOWN\" words, or padded words (0s). This Vector is filled with zeros.\n",
    "# Thus our vocab size increases by 1\n",
    "\n",
    "nb_words =  len(word_index)+1\n",
    "#this line is just to define the embedding matrix to required shape\n",
    "embedding_matrix =  np.random.normal(emb_mean, emb_std, (nb_words, embed_size))\n",
    "\n"
   ]
  },
  {
   "cell_type": "code",
   "execution_count": 88,
   "metadata": {
    "colab": {},
    "colab_type": "code",
    "id": "o61F7g2lB5sw"
   },
   "outputs": [],
   "source": [
    "for word, i in word_index.items():\n",
    "    \n",
    "    embedding_vector = embeddings_index.get(word)\n",
    "    #print (embedding_vector.shape)\n",
    "\n",
    "    if embedding_vector is not None and i<len(word_index): \n",
    "      #print (embedding_vector.shape)\n",
    "      embedding_matrix[i] = embedding_vector"
   ]
  },
  {
   "cell_type": "code",
   "execution_count": 89,
   "metadata": {
    "colab": {
     "base_uri": "https://localhost:8080/",
     "height": 34
    },
    "colab_type": "code",
    "id": "e5P4eIE8D8k3",
    "outputId": "2d47bca6-b79c-4548-965f-04f8b3466cb1"
   },
   "outputs": [
    {
     "data": {
      "text/plain": [
       "(400000, 300)"
      ]
     },
     "execution_count": 89,
     "metadata": {
      "tags": []
     },
     "output_type": "execute_result"
    }
   ],
   "source": [
    "all_embs.shape"
   ]
  },
  {
   "cell_type": "code",
   "execution_count": 92,
   "metadata": {
    "colab": {
     "base_uri": "https://localhost:8080/",
     "height": 34
    },
    "colab_type": "code",
    "id": "l_imuQtAMkku",
    "outputId": "d0749378-042a-44b0-c8a9-cf97bebad523"
   },
   "outputs": [
    {
     "data": {
      "text/plain": [
       "(29658, 300)"
      ]
     },
     "execution_count": 92,
     "metadata": {
      "tags": []
     },
     "output_type": "execute_result"
    }
   ],
   "source": [
    "embedding_matrix.shape"
   ]
  },
  {
   "cell_type": "code",
   "execution_count": 90,
   "metadata": {
    "colab": {},
    "colab_type": "code",
    "id": "OS_vewBJFAO0"
   },
   "outputs": [],
   "source": [
    "batch_size = 128\n",
    "epochs = 2\n",
    "embed_size = all_embs.shape[1]"
   ]
  },
  {
   "cell_type": "code",
   "execution_count": 93,
   "metadata": {
    "colab": {
     "base_uri": "https://localhost:8080/",
     "height": 249
    },
    "colab_type": "code",
    "id": "jGZ3Yx7lE_vD",
    "outputId": "e880695f-b344-4bea-ce99-8ad2db265aab"
   },
   "outputs": [
    {
     "name": "stdout",
     "output_type": "stream",
     "text": [
      "Model: \"sequential_8\"\n",
      "_________________________________________________________________\n",
      "Layer (type)                 Output Shape              Param #   \n",
      "=================================================================\n",
      "embedding_8 (Embedding)      (None, 29, 300)           8897400   \n",
      "_________________________________________________________________\n",
      "bidirectional_7 (Bidirection (None, 256)               439296    \n",
      "_________________________________________________________________\n",
      "dense_7 (Dense)              (None, 1)                 257       \n",
      "=================================================================\n",
      "Total params: 9,336,953\n",
      "Trainable params: 9,336,953\n",
      "Non-trainable params: 0\n",
      "_________________________________________________________________\n"
     ]
    }
   ],
   "source": [
    "\n",
    "#Defining Neural Network\n",
    "model = Sequential()\n",
    "#Non-trainable embedding layer\n",
    "model.add(Embedding(nb_words, output_dim=embed_size, weights=[embedding_matrix], input_length=x_train.shape[1], trainable=True))\n",
    "#LSTM \n",
    "model.add(Bidirectional(LSTM(units=128 , recurrent_dropout = 0.5 , dropout = 0.5)))\n",
    "model.add(Dense(1, activation='sigmoid'))\n",
    "model.compile(optimizer=keras.optimizers.Adam(lr = 0.01), loss='binary_crossentropy', metrics=['acc'])\n",
    "\n",
    "model.summary()"
   ]
  },
  {
   "cell_type": "code",
   "execution_count": 94,
   "metadata": {
    "colab": {
     "base_uri": "https://localhost:8080/",
     "height": 83
    },
    "colab_type": "code",
    "id": "rJ24AafeEu4B",
    "outputId": "b523e318-0e0a-476d-a813-749f62d62aff"
   },
   "outputs": [
    {
     "name": "stdout",
     "output_type": "stream",
     "text": [
      "Epoch 1/2\n",
      "167/167 [==============================] - 106s 636ms/step - loss: 0.4032 - acc: 0.8123 - val_loss: 0.2910 - val_acc: 0.8793\n",
      "Epoch 2/2\n",
      "167/167 [==============================] - 109s 651ms/step - loss: 0.1435 - acc: 0.9466 - val_loss: 0.3509 - val_acc: 0.8746\n"
     ]
    }
   ],
   "source": [
    "history = model.fit(x_train, np.array(y_train), batch_size = batch_size , validation_data = (x_test,np.array(y_test)) , epochs = 2)"
   ]
  },
  {
   "cell_type": "code",
   "execution_count": 97,
   "metadata": {
    "colab": {
     "base_uri": "https://localhost:8080/",
     "height": 100
    },
    "colab_type": "code",
    "id": "ZLL1OR9iIGgG",
    "outputId": "96b8254e-2808-4313-8ab4-aaf8fca1bba1"
   },
   "outputs": [
    {
     "data": {
      "text/plain": [
       "array([[1],\n",
       "       [1],\n",
       "       [1],\n",
       "       [1],\n",
       "       [0]], dtype=int32)"
      ]
     },
     "execution_count": 97,
     "metadata": {
      "tags": []
     },
     "output_type": "execute_result"
    }
   ],
   "source": [
    "pred = (model.predict(x_test) > 0.5).astype(\"int32\")\n",
    "pred[:5]"
   ]
  },
  {
   "cell_type": "code",
   "execution_count": 98,
   "metadata": {
    "colab": {
     "base_uri": "https://localhost:8080/",
     "height": 50
    },
    "colab_type": "code",
    "id": "2RuQMtFYNmrR",
    "outputId": "193fe2b8-5c85-48a7-ecdc-d460d594566b"
   },
   "outputs": [
    {
     "data": {
      "text/plain": [
       "array([[2729,  305],\n",
       "       [ 365, 1943]])"
      ]
     },
     "execution_count": 98,
     "metadata": {
      "tags": []
     },
     "output_type": "execute_result"
    }
   ],
   "source": [
    "cm = confusion_matrix(y_test,pred)\n",
    "cm"
   ]
  },
  {
   "cell_type": "code",
   "execution_count": 99,
   "metadata": {
    "colab": {
     "base_uri": "https://localhost:8080/",
     "height": 608
    },
    "colab_type": "code",
    "id": "sJBDUoiuN4Jm",
    "outputId": "869046ee-1428-46a1-9106-2cd633b6471d"
   },
   "outputs": [
    {
     "data": {
      "text/plain": [
       "<matplotlib.axes._subplots.AxesSubplot at 0x7f9b5793c048>"
      ]
     },
     "execution_count": 99,
     "metadata": {
      "tags": []
     },
     "output_type": "execute_result"
    },
    {
     "data": {
      "image/png": "[encoded data removed]",
      "text/plain": [
       "<Figure size 720x720 with 2 Axes>"
      ]
     },
     "metadata": {
      "needs_background": "light",
      "tags": []
     },
     "output_type": "display_data"
    }
   ],
   "source": [
    "cm = pd.DataFrame(cm , index = ['Not Sarcastic','Sarcastic'] , columns = ['Not Sarcastic','Sarcastic'])\n",
    "plt.figure(figsize = (10,10))\n",
    "sns.heatmap(cm,cmap= \"Blues\", linecolor = 'black' , linewidth = 1 , annot = True, fmt='' , xticklabels = ['Not Sarcastic','Sarcastic'] , yticklabels = ['Not Sarcastic','Sarcastic'])"
   ]
  },
  {
   "cell_type": "code",
   "execution_count": null,
   "metadata": {
    "colab": {},
    "colab_type": "code",
    "id": "SDEjb3diOGwX"
   },
   "outputs": [],
   "source": []
  }
 ],
 "metadata": {
  "colab": {
   "collapsed_sections": [],
   "name": "Course 3 - Week 1 - Lesson 1.ipynb",
   "provenance": [],
   "toc_visible": true
  },
  "kernelspec": {
   "display_name": "Python [conda env:py3tf2]",
   "language": "python",
   "name": "conda-env-py3tf2-py"
  },
  "language_info": {
   "codemirror_mode": {
    "name": "ipython",
    "version": 3
   },
   "file_extension": ".py",
   "mimetype": "text/x-python",
   "name": "python",
   "nbconvert_exporter": "python",
   "pygments_lexer": "ipython3",
   "version": "3.7.7"
  }
 },
 "nbformat": 4,
 "nbformat_minor": 1
}
