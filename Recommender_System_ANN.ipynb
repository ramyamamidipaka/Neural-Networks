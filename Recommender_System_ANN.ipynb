{
  "nbformat": 4,
  "nbformat_minor": 0,
  "metadata": {
    "colab": {
      "name": "TF2.0 Recommender System.ipynb",
      "provenance": []
    },
    "kernelspec": {
      "name": "python3",
      "display_name": "Python 3"
    },
    "accelerator": "GPU"
  },
  "cells": [
    {
      "cell_type": "code",
      "metadata": {
        "id": "G-yELAWj7ZTQ",
        "colab_type": "code",
        "colab": {
          "base_uri": "https://localhost:8080/",
          "height": 116
        },
        "outputId": "d38f069b-68d9-4864-fac4-cecec5a1d518"
      },
      "source": [
        "# Install TensorFlow\n",
        "# !pip install -q tensorflow-gpu==2.0.0-rc0\n",
        "\n",
        "try:\n",
        "  %tensorflow_version 2.x  # Colab only.\n",
        "except Exception:\n",
        "  pass\n",
        "\n",
        "import tensorflow as tf\n",
        "print(tf.__version__)"
      ],
      "execution_count": 1,
      "outputs": [
        {
          "output_type": "stream",
          "text": [
            "`%tensorflow_version` only switches the major version: 1.x or 2.x.\n",
            "You set: `2.x  # Colab only.`. This will be interpreted as: `2.x`.\n",
            "\n",
            "\n",
            "TensorFlow 2.x selected.\n",
            "2.3.0\n"
          ],
          "name": "stdout"
        }
      ]
    },
    {
      "cell_type": "code",
      "metadata": {
        "id": "KmO5csZi7cdr",
        "colab_type": "code",
        "colab": {}
      },
      "source": [
        "# More imports\n",
        "from tensorflow.keras.layers import Input, Dense, Embedding, Flatten, \\\n",
        "  Concatenate\n",
        "from tensorflow.keras.models import Model\n",
        "from tensorflow.keras.optimizers import SGD, Adam\n",
        "\n",
        "from sklearn.utils import shuffle\n",
        "\n",
        "import numpy as np\n",
        "import pandas as pd\n",
        "import matplotlib.pyplot as plt"
      ],
      "execution_count": 2,
      "outputs": []
    },
    {
      "cell_type": "code",
      "metadata": {
        "id": "iXueA5t37Vgp",
        "colab_type": "code",
        "colab": {
          "base_uri": "https://localhost:8080/",
          "height": 199
        },
        "outputId": "b5752d71-47d4-47b1-9240-8685ca9d602b"
      },
      "source": [
        "# data is from: https://grouplens.org/datasets/movielens/\n",
        "# in case the link changes in the future\n",
        "\n",
        "!wget -nc http://files.grouplens.org/datasets/movielens/ml-20m.zip"
      ],
      "execution_count": 3,
      "outputs": [
        {
          "output_type": "stream",
          "text": [
            "--2020-09-08 22:54:21--  http://files.grouplens.org/datasets/movielens/ml-20m.zip\n",
            "Resolving files.grouplens.org (files.grouplens.org)... 128.101.65.152\n",
            "Connecting to files.grouplens.org (files.grouplens.org)|128.101.65.152|:80... connected.\n",
            "HTTP request sent, awaiting response... 200 OK\n",
            "Length: 198702078 (189M) [application/zip]\n",
            "Saving to: ‘ml-20m.zip’\n",
            "\n",
            "ml-20m.zip          100%[===================>] 189.50M  57.1MB/s    in 3.5s    \n",
            "\n",
            "2020-09-08 22:54:24 (54.2 MB/s) - ‘ml-20m.zip’ saved [198702078/198702078]\n",
            "\n"
          ],
          "name": "stdout"
        }
      ]
    },
    {
      "cell_type": "code",
      "metadata": {
        "id": "X0VRDPux7hhb",
        "colab_type": "code",
        "colab": {
          "base_uri": "https://localhost:8080/",
          "height": 166
        },
        "outputId": "aa0564b4-a45d-4ef9-bd91-862f00a0d6af"
      },
      "source": [
        "!unzip -n ml-20m.zip"
      ],
      "execution_count": 4,
      "outputs": [
        {
          "output_type": "stream",
          "text": [
            "Archive:  ml-20m.zip\n",
            "   creating: ml-20m/\n",
            "  inflating: ml-20m/genome-scores.csv  \n",
            "  inflating: ml-20m/genome-tags.csv  \n",
            "  inflating: ml-20m/links.csv        \n",
            "  inflating: ml-20m/movies.csv       \n",
            "  inflating: ml-20m/ratings.csv      \n",
            "  inflating: ml-20m/README.txt       \n",
            "  inflating: ml-20m/tags.csv         \n"
          ],
          "name": "stdout"
        }
      ]
    },
    {
      "cell_type": "code",
      "metadata": {
        "id": "j3si9Qnw_Rnh",
        "colab_type": "code",
        "colab": {
          "base_uri": "https://localhost:8080/",
          "height": 34
        },
        "outputId": "ffb621d7-cf65-4aaa-f2f8-c20853fec55d"
      },
      "source": [
        "!ls"
      ],
      "execution_count": 5,
      "outputs": [
        {
          "output_type": "stream",
          "text": [
            "ml-20m\tml-20m.zip  sample_data\n"
          ],
          "name": "stdout"
        }
      ]
    },
    {
      "cell_type": "code",
      "metadata": {
        "id": "A6h0pEt_7lZC",
        "colab_type": "code",
        "colab": {
          "base_uri": "https://localhost:8080/",
          "height": 194
        },
        "outputId": "c2fa001e-abc0-4ff5-fee4-1ae092795bac"
      },
      "source": [
        "df = pd.read_csv('ml-20m/ratings.csv')\n",
        "df.head()"
      ],
      "execution_count": 6,
      "outputs": [
        {
          "output_type": "execute_result",
          "data": {
            "text/html": [
              "<div>\n",
              "<style scoped>\n",
              "    .dataframe tbody tr th:only-of-type {\n",
              "        vertical-align: middle;\n",
              "    }\n",
              "\n",
              "    .dataframe tbody tr th {\n",
              "        vertical-align: top;\n",
              "    }\n",
              "\n",
              "    .dataframe thead th {\n",
              "        text-align: right;\n",
              "    }\n",
              "</style>\n",
              "<table border=\"1\" class=\"dataframe\">\n",
              "  <thead>\n",
              "    <tr style=\"text-align: right;\">\n",
              "      <th></th>\n",
              "      <th>userId</th>\n",
              "      <th>movieId</th>\n",
              "      <th>rating</th>\n",
              "      <th>timestamp</th>\n",
              "    </tr>\n",
              "  </thead>\n",
              "  <tbody>\n",
              "    <tr>\n",
              "      <th>0</th>\n",
              "      <td>1</td>\n",
              "      <td>2</td>\n",
              "      <td>3.5</td>\n",
              "      <td>1112486027</td>\n",
              "    </tr>\n",
              "    <tr>\n",
              "      <th>1</th>\n",
              "      <td>1</td>\n",
              "      <td>29</td>\n",
              "      <td>3.5</td>\n",
              "      <td>1112484676</td>\n",
              "    </tr>\n",
              "    <tr>\n",
              "      <th>2</th>\n",
              "      <td>1</td>\n",
              "      <td>32</td>\n",
              "      <td>3.5</td>\n",
              "      <td>1112484819</td>\n",
              "    </tr>\n",
              "    <tr>\n",
              "      <th>3</th>\n",
              "      <td>1</td>\n",
              "      <td>47</td>\n",
              "      <td>3.5</td>\n",
              "      <td>1112484727</td>\n",
              "    </tr>\n",
              "    <tr>\n",
              "      <th>4</th>\n",
              "      <td>1</td>\n",
              "      <td>50</td>\n",
              "      <td>3.5</td>\n",
              "      <td>1112484580</td>\n",
              "    </tr>\n",
              "  </tbody>\n",
              "</table>\n",
              "</div>"
            ],
            "text/plain": [
              "   userId  movieId  rating   timestamp\n",
              "0       1        2     3.5  1112486027\n",
              "1       1       29     3.5  1112484676\n",
              "2       1       32     3.5  1112484819\n",
              "3       1       47     3.5  1112484727\n",
              "4       1       50     3.5  1112484580"
            ]
          },
          "metadata": {
            "tags": []
          },
          "execution_count": 6
        }
      ]
    },
    {
      "cell_type": "code",
      "metadata": {
        "id": "XbcWAxwa-ZBO",
        "colab_type": "code",
        "colab": {}
      },
      "source": [
        "# We can't trust the userId and movieId to be numbered 0...N-1\n",
        "# Let's just set our own ids\n",
        "\n",
        "# current_user_id = 0\n",
        "# custom_user_map = {} # old user id > new user id\n",
        "# def map_user_id(row):\n",
        "#   global current_user_id, custom_user_map\n",
        "#   old_user_id = row['userId']\n",
        "#   if old_user_id not in custom_user_map:\n",
        "#     custom_user_map[old_user_id] = current_user_id\n",
        "#     current_user_id += 1\n",
        "#   return custom_user_map[old_user_id]\n",
        "\n",
        "# df['new_user_id'] = df.apply(map_user_id, axis=1)\n",
        "\n",
        "df.userId = pd.Categorical(df.userId)\n",
        "df['new_user_id'] = df.userId.cat.codes"
      ],
      "execution_count": 7,
      "outputs": []
    },
    {
      "cell_type": "code",
      "metadata": {
        "id": "12V9gvBZ7der",
        "colab_type": "code",
        "colab": {
          "base_uri": "https://localhost:8080/",
          "height": 194
        },
        "outputId": "97f114e7-26bf-4cc8-a5f6-b7bd7a03d5d8"
      },
      "source": [
        "df.head()"
      ],
      "execution_count": 8,
      "outputs": [
        {
          "output_type": "execute_result",
          "data": {
            "text/html": [
              "<div>\n",
              "<style scoped>\n",
              "    .dataframe tbody tr th:only-of-type {\n",
              "        vertical-align: middle;\n",
              "    }\n",
              "\n",
              "    .dataframe tbody tr th {\n",
              "        vertical-align: top;\n",
              "    }\n",
              "\n",
              "    .dataframe thead th {\n",
              "        text-align: right;\n",
              "    }\n",
              "</style>\n",
              "<table border=\"1\" class=\"dataframe\">\n",
              "  <thead>\n",
              "    <tr style=\"text-align: right;\">\n",
              "      <th></th>\n",
              "      <th>userId</th>\n",
              "      <th>movieId</th>\n",
              "      <th>rating</th>\n",
              "      <th>timestamp</th>\n",
              "      <th>new_user_id</th>\n",
              "    </tr>\n",
              "  </thead>\n",
              "  <tbody>\n",
              "    <tr>\n",
              "      <th>0</th>\n",
              "      <td>1</td>\n",
              "      <td>2</td>\n",
              "      <td>3.5</td>\n",
              "      <td>1112486027</td>\n",
              "      <td>0</td>\n",
              "    </tr>\n",
              "    <tr>\n",
              "      <th>1</th>\n",
              "      <td>1</td>\n",
              "      <td>29</td>\n",
              "      <td>3.5</td>\n",
              "      <td>1112484676</td>\n",
              "      <td>0</td>\n",
              "    </tr>\n",
              "    <tr>\n",
              "      <th>2</th>\n",
              "      <td>1</td>\n",
              "      <td>32</td>\n",
              "      <td>3.5</td>\n",
              "      <td>1112484819</td>\n",
              "      <td>0</td>\n",
              "    </tr>\n",
              "    <tr>\n",
              "      <th>3</th>\n",
              "      <td>1</td>\n",
              "      <td>47</td>\n",
              "      <td>3.5</td>\n",
              "      <td>1112484727</td>\n",
              "      <td>0</td>\n",
              "    </tr>\n",
              "    <tr>\n",
              "      <th>4</th>\n",
              "      <td>1</td>\n",
              "      <td>50</td>\n",
              "      <td>3.5</td>\n",
              "      <td>1112484580</td>\n",
              "      <td>0</td>\n",
              "    </tr>\n",
              "  </tbody>\n",
              "</table>\n",
              "</div>"
            ],
            "text/plain": [
              "  userId  movieId  rating   timestamp  new_user_id\n",
              "0      1        2     3.5  1112486027            0\n",
              "1      1       29     3.5  1112484676            0\n",
              "2      1       32     3.5  1112484819            0\n",
              "3      1       47     3.5  1112484727            0\n",
              "4      1       50     3.5  1112484580            0"
            ]
          },
          "metadata": {
            "tags": []
          },
          "execution_count": 8
        }
      ]
    },
    {
      "cell_type": "code",
      "metadata": {
        "id": "xqeRbNRN_g7h",
        "colab_type": "code",
        "colab": {}
      },
      "source": [
        "# Now do the same thing for movie ids\n",
        "# current_movie_id = 0\n",
        "# custom_movie_map = {} # old movie id > new movie id\n",
        "# def map_movie_id(row):\n",
        "#   global current_movie_id, custom_movie_map\n",
        "#   old_movie_id = row['movieId']\n",
        "#   if old_movie_id not in custom_movie_map:\n",
        "#     custom_movie_map[old_movie_id] = current_movie_id\n",
        "#     current_movie_id += 1\n",
        "#   return custom_movie_map[old_movie_id]\n",
        "\n",
        "# df['new_movie_id'] = df.apply(map_movie_id, axis=1)\n",
        "\n",
        "df.movieId = pd.Categorical(df.movieId)\n",
        "df['new_movie_id'] = df.movieId.cat.codes"
      ],
      "execution_count": 9,
      "outputs": []
    },
    {
      "cell_type": "code",
      "metadata": {
        "id": "5wGHAszC7kFZ",
        "colab_type": "code",
        "colab": {
          "base_uri": "https://localhost:8080/",
          "height": 194
        },
        "outputId": "cac0556b-e6d2-42d3-8e3c-aa5ac069953b"
      },
      "source": [
        "df.head()"
      ],
      "execution_count": 10,
      "outputs": [
        {
          "output_type": "execute_result",
          "data": {
            "text/html": [
              "<div>\n",
              "<style scoped>\n",
              "    .dataframe tbody tr th:only-of-type {\n",
              "        vertical-align: middle;\n",
              "    }\n",
              "\n",
              "    .dataframe tbody tr th {\n",
              "        vertical-align: top;\n",
              "    }\n",
              "\n",
              "    .dataframe thead th {\n",
              "        text-align: right;\n",
              "    }\n",
              "</style>\n",
              "<table border=\"1\" class=\"dataframe\">\n",
              "  <thead>\n",
              "    <tr style=\"text-align: right;\">\n",
              "      <th></th>\n",
              "      <th>userId</th>\n",
              "      <th>movieId</th>\n",
              "      <th>rating</th>\n",
              "      <th>timestamp</th>\n",
              "      <th>new_user_id</th>\n",
              "      <th>new_movie_id</th>\n",
              "    </tr>\n",
              "  </thead>\n",
              "  <tbody>\n",
              "    <tr>\n",
              "      <th>0</th>\n",
              "      <td>1</td>\n",
              "      <td>2</td>\n",
              "      <td>3.5</td>\n",
              "      <td>1112486027</td>\n",
              "      <td>0</td>\n",
              "      <td>1</td>\n",
              "    </tr>\n",
              "    <tr>\n",
              "      <th>1</th>\n",
              "      <td>1</td>\n",
              "      <td>29</td>\n",
              "      <td>3.5</td>\n",
              "      <td>1112484676</td>\n",
              "      <td>0</td>\n",
              "      <td>28</td>\n",
              "    </tr>\n",
              "    <tr>\n",
              "      <th>2</th>\n",
              "      <td>1</td>\n",
              "      <td>32</td>\n",
              "      <td>3.5</td>\n",
              "      <td>1112484819</td>\n",
              "      <td>0</td>\n",
              "      <td>31</td>\n",
              "    </tr>\n",
              "    <tr>\n",
              "      <th>3</th>\n",
              "      <td>1</td>\n",
              "      <td>47</td>\n",
              "      <td>3.5</td>\n",
              "      <td>1112484727</td>\n",
              "      <td>0</td>\n",
              "      <td>46</td>\n",
              "    </tr>\n",
              "    <tr>\n",
              "      <th>4</th>\n",
              "      <td>1</td>\n",
              "      <td>50</td>\n",
              "      <td>3.5</td>\n",
              "      <td>1112484580</td>\n",
              "      <td>0</td>\n",
              "      <td>49</td>\n",
              "    </tr>\n",
              "  </tbody>\n",
              "</table>\n",
              "</div>"
            ],
            "text/plain": [
              "  userId movieId  rating   timestamp  new_user_id  new_movie_id\n",
              "0      1       2     3.5  1112486027            0             1\n",
              "1      1      29     3.5  1112484676            0            28\n",
              "2      1      32     3.5  1112484819            0            31\n",
              "3      1      47     3.5  1112484727            0            46\n",
              "4      1      50     3.5  1112484580            0            49"
            ]
          },
          "metadata": {
            "tags": []
          },
          "execution_count": 10
        }
      ]
    },
    {
      "cell_type": "code",
      "metadata": {
        "id": "fGaLyZpf7zD3",
        "colab_type": "code",
        "colab": {}
      },
      "source": [
        "# Get user IDs, movie IDs, and ratings as separate arrays\n",
        "user_ids = df['new_user_id'].values\n",
        "movie_ids = df['new_movie_id'].values\n",
        "ratings = df['rating'].values"
      ],
      "execution_count": 11,
      "outputs": []
    },
    {
      "cell_type": "code",
      "metadata": {
        "id": "BGX7sQp48hG5",
        "colab_type": "code",
        "colab": {}
      },
      "source": [
        "# Get number of users and number of movies\n",
        "N = len(set(user_ids))\n",
        "M = len(set(movie_ids))\n",
        "\n",
        "# Set embedding dimension\n",
        "K = 20"
      ],
      "execution_count": 15,
      "outputs": []
    },
    {
      "cell_type": "code",
      "metadata": {
        "id": "IISW0pde7qMf",
        "colab_type": "code",
        "colab": {
          "base_uri": "https://localhost:8080/",
          "height": 34
        },
        "outputId": "af636562-e898-460b-8fd7-8fafdf6d6364"
      },
      "source": [
        "N"
      ],
      "execution_count": 16,
      "outputs": [
        {
          "output_type": "execute_result",
          "data": {
            "text/plain": [
              "138493"
            ]
          },
          "metadata": {
            "tags": []
          },
          "execution_count": 16
        }
      ]
    },
    {
      "cell_type": "code",
      "metadata": {
        "id": "LhybMTgm7re-",
        "colab_type": "code",
        "colab": {
          "base_uri": "https://localhost:8080/",
          "height": 34
        },
        "outputId": "73a6b7db-a552-4259-ebbc-f26ee9070abb"
      },
      "source": [
        "M"
      ],
      "execution_count": 17,
      "outputs": [
        {
          "output_type": "execute_result",
          "data": {
            "text/plain": [
              "26744"
            ]
          },
          "metadata": {
            "tags": []
          },
          "execution_count": 17
        }
      ]
    },
    {
      "cell_type": "code",
      "metadata": {
        "id": "BnF0FH4u7_qg",
        "colab_type": "code",
        "colab": {}
      },
      "source": [
        "# Make a neural network\n",
        "\n",
        "# User input\n",
        "u = Input(shape=(1,))\n",
        "\n",
        "# Movie input\n",
        "m = Input(shape=(1,))\n",
        "\n",
        "# User embedding\n",
        "u_emb = Embedding(N, K)(u) # output is (num_samples, 1, K)\n",
        "\n",
        "# Movie embedding\n",
        "m_emb = Embedding(M, K)(m) # output is (num_samples, 1, K)\n",
        "\n",
        "# Flatten both embeddings\n",
        "u_emb = Flatten()(u_emb) # now it's (num_samples, K)\n",
        "m_emb = Flatten()(m_emb) # now it's (num_samples, K)\n",
        "\n",
        "# Concatenate user-movie embeddings into a feature vector\n",
        "x = Concatenate()([u_emb, m_emb]) # now it's (num_samples, 2K)\n",
        "\n",
        "# Now that we have a feature vector, it's just a regular ANN\n",
        "x = Dense(1024, activation='relu')(x)\n",
        "# x = Dense(400, activation='relu')(x)\n",
        "# x = Dense(400, activation='relu')(x)\n",
        "x = Dense(1)(x)"
      ],
      "execution_count": 18,
      "outputs": []
    },
    {
      "cell_type": "code",
      "metadata": {
        "id": "U8WZjAWF9fx6",
        "colab_type": "code",
        "colab": {}
      },
      "source": [
        "# Build the model and compile\n",
        "model = Model(inputs=[u, m], outputs=x)\n",
        "model.compile(\n",
        "  loss='mse',\n",
        "  optimizer=SGD(lr=0.08, momentum=0.9),\n",
        ")"
      ],
      "execution_count": 19,
      "outputs": []
    },
    {
      "cell_type": "code",
      "metadata": {
        "id": "eYJtZTjz9soz",
        "colab_type": "code",
        "colab": {}
      },
      "source": [
        "# split the data\n",
        "user_ids, movie_ids, ratings = shuffle(user_ids, movie_ids, ratings)\n",
        "Ntrain = int(0.8 * len(ratings))\n",
        "train_user = user_ids[:Ntrain]\n",
        "train_movie = movie_ids[:Ntrain]\n",
        "train_ratings = ratings[:Ntrain]\n",
        "\n",
        "test_user = user_ids[Ntrain:]\n",
        "test_movie = movie_ids[Ntrain:]\n",
        "test_ratings = ratings[Ntrain:]\n",
        "\n",
        "# center the ratings\n",
        "avg_rating = train_ratings.mean()\n",
        "train_ratings = train_ratings - avg_rating\n",
        "test_ratings = test_ratings - avg_rating"
      ],
      "execution_count": 20,
      "outputs": []
    },
    {
      "cell_type": "code",
      "metadata": {
        "id": "C0bY_dCD9k_f",
        "colab_type": "code",
        "colab": {
          "base_uri": "https://localhost:8080/",
          "height": 843
        },
        "outputId": "4413f2f5-f2db-4dfa-ab4b-04b358dd3c66"
      },
      "source": [
        "r = model.fit(\n",
        "  x=[train_user, train_movie],\n",
        "  y=train_ratings,\n",
        "  epochs=25,\n",
        "  batch_size=1024,\n",
        "  verbose=2, # goes a little faster when you don't print the progress bar\n",
        "  validation_data=([test_user, test_movie], test_ratings),\n",
        ")"
      ],
      "execution_count": 21,
      "outputs": [
        {
          "output_type": "stream",
          "text": [
            "Epoch 1/25\n",
            "15626/15626 - 55s - loss: 0.7749 - val_loss: 0.7189\n",
            "Epoch 2/25\n",
            "15626/15626 - 55s - loss: 0.7006 - val_loss: 0.6957\n",
            "Epoch 3/25\n",
            "15626/15626 - 53s - loss: 0.6770 - val_loss: 0.6816\n",
            "Epoch 4/25\n",
            "15626/15626 - 53s - loss: 0.6620 - val_loss: 0.6770\n",
            "Epoch 5/25\n",
            "15626/15626 - 52s - loss: 0.6507 - val_loss: 0.6673\n",
            "Epoch 6/25\n",
            "15626/15626 - 53s - loss: 0.6353 - val_loss: 0.6525\n",
            "Epoch 7/25\n",
            "15626/15626 - 54s - loss: 0.6166 - val_loss: 0.6454\n",
            "Epoch 8/25\n",
            "15626/15626 - 53s - loss: 0.6029 - val_loss: 0.6408\n",
            "Epoch 9/25\n",
            "15626/15626 - 53s - loss: 0.5914 - val_loss: 0.6361\n",
            "Epoch 10/25\n",
            "15626/15626 - 54s - loss: 0.5798 - val_loss: 0.6304\n",
            "Epoch 11/25\n",
            "15626/15626 - 54s - loss: 0.5680 - val_loss: 0.6263\n",
            "Epoch 12/25\n",
            "15626/15626 - 54s - loss: 0.5566 - val_loss: 0.6241\n",
            "Epoch 13/25\n",
            "15626/15626 - 56s - loss: 0.5458 - val_loss: 0.6219\n",
            "Epoch 14/25\n",
            "15626/15626 - 54s - loss: 0.5355 - val_loss: 0.6189\n",
            "Epoch 15/25\n",
            "15626/15626 - 54s - loss: 0.5260 - val_loss: 0.6215\n",
            "Epoch 16/25\n",
            "15626/15626 - 54s - loss: 0.5171 - val_loss: 0.6185\n",
            "Epoch 17/25\n",
            "15626/15626 - 54s - loss: 0.5089 - val_loss: 0.6179\n",
            "Epoch 18/25\n",
            "15626/15626 - 54s - loss: 0.5018 - val_loss: 0.6220\n",
            "Epoch 19/25\n",
            "15626/15626 - 55s - loss: 0.4955 - val_loss: 0.6220\n",
            "Epoch 20/25\n",
            "15626/15626 - 54s - loss: 0.4900 - val_loss: 0.6258\n",
            "Epoch 21/25\n",
            "15626/15626 - 53s - loss: 0.4850 - val_loss: 0.6249\n",
            "Epoch 22/25\n",
            "15626/15626 - 55s - loss: 0.4807 - val_loss: 0.6256\n",
            "Epoch 23/25\n",
            "15626/15626 - 54s - loss: 0.4771 - val_loss: 0.6271\n",
            "Epoch 24/25\n",
            "15626/15626 - 53s - loss: 0.4736 - val_loss: 0.6317\n",
            "Epoch 25/25\n",
            "15626/15626 - 54s - loss: 0.4706 - val_loss: 0.6352\n"
          ],
          "name": "stdout"
        }
      ]
    },
    {
      "cell_type": "code",
      "metadata": {
        "id": "806T1XIoEyxM",
        "colab_type": "code",
        "colab": {
          "base_uri": "https://localhost:8080/",
          "height": 265
        },
        "outputId": "6bcd9f52-45c4-4e52-dd1c-d41766e0ae41"
      },
      "source": [
        "# plot losses\n",
        "plt.plot(r.history['loss'], label=\"train loss\")\n",
        "plt.plot(r.history['val_loss'], label=\"val loss\")\n",
        "plt.legend()\n",
        "plt.show()"
      ],
      "execution_count": 22,
      "outputs": [
        {
          "output_type": "display_data",
          "data": {
            "image/png": "[encoded data removed]",
            "text/plain": [
              "<Figure size 432x288 with 1 Axes>"
            ]
          },
          "metadata": {
            "tags": [],
            "needs_background": "light"
          }
        }
      ]
    },
    {
      "cell_type": "code",
      "metadata": {
        "id": "VlGdCKsveyY6",
        "colab_type": "code",
        "colab": {
          "base_uri": "https://localhost:8080/",
          "height": 34
        },
        "outputId": "f1a6d9ad-ae0c-4852-f1cf-305374b8c76f"
      },
      "source": [
        "# is this on par with other approaches?\n",
        "# https://datascience.stackexchange.com/questions/29740/benchmark-result-for-movielens-dataset\n",
        "np.sqrt(0.6259)"
      ],
      "execution_count": 23,
      "outputs": [
        {
          "output_type": "execute_result",
          "data": {
            "text/plain": [
              "0.7911384202527394"
            ]
          },
          "metadata": {
            "tags": []
          },
          "execution_count": 23
        }
      ]
    },
    {
      "cell_type": "code",
      "metadata": {
        "id": "bW8KRTbCDuqs",
        "colab_type": "code",
        "colab": {}
      },
      "source": [
        ""
      ],
      "execution_count": null,
      "outputs": []
    },
    {
      "cell_type": "markdown",
      "metadata": {
        "id": "Q78jNhN5Dx1X",
        "colab_type": "text"
      },
      "source": [
        "## Recommendations for new_user_id=0"
      ]
    },
    {
      "cell_type": "code",
      "metadata": {
        "id": "emt5hMvD7-lY",
        "colab_type": "code",
        "colab": {
          "base_uri": "https://localhost:8080/",
          "height": 183
        },
        "outputId": "d3fb876c-ea98-44d0-a81a-9fcfb52bb9de"
      },
      "source": [
        "model.predict([test_user[:10], test_movie[:10]])+avg_rating"
      ],
      "execution_count": 25,
      "outputs": [
        {
          "output_type": "execute_result",
          "data": {
            "text/plain": [
              "array([[2.5699334],\n",
              "       [4.2819605],\n",
              "       [3.2238708],\n",
              "       [2.775312 ],\n",
              "       [2.7120025],\n",
              "       [1.3868423],\n",
              "       [2.4791722],\n",
              "       [2.8521895],\n",
              "       [2.4535432],\n",
              "       [2.6507266]], dtype=float32)"
            ]
          },
          "metadata": {
            "tags": []
          },
          "execution_count": 25
        }
      ]
    },
    {
      "cell_type": "code",
      "metadata": {
        "id": "Js66y2LaD-FX",
        "colab_type": "code",
        "colab": {}
      },
      "source": [
        "# we should predict movies which are not rated/seen\n",
        "\n",
        "list_of_unseen_movies=list(set(df[\"new_movie_id\"].unique()).difference(set(df[df.new_user_id==0][\"new_movie_id\"].values)))"
      ],
      "execution_count": 38,
      "outputs": []
    },
    {
      "cell_type": "code",
      "metadata": {
        "id": "vHuOjy06EchR",
        "colab_type": "code",
        "colab": {}
      },
      "source": [
        "list_of_ratings=model.predict([np.array([0]*len(list_of_unseen_movies)), np.array(list_of_unseen_movies)])+avg_rating"
      ],
      "execution_count": 51,
      "outputs": []
    },
    {
      "cell_type": "code",
      "metadata": {
        "id": "bNQLLpGIGuza",
        "colab_type": "code",
        "colab": {
          "base_uri": "https://localhost:8080/",
          "height": 50
        },
        "outputId": "d4cb7053-8cf6-4b42-ea92-fda7c79b6eb4"
      },
      "source": [
        "list_of_ratings.flatten()"
      ],
      "execution_count": 55,
      "outputs": [
        {
          "output_type": "execute_result",
          "data": {
            "text/plain": [
              "array([3.6563458, 3.2955236, 3.4833345, ..., 3.4645815, 3.4075408,\n",
              "       3.5455632], dtype=float32)"
            ]
          },
          "metadata": {
            "tags": []
          },
          "execution_count": 55
        }
      ]
    },
    {
      "cell_type": "code",
      "metadata": {
        "id": "6n1gw_wOG3YO",
        "colab_type": "code",
        "colab": {}
      },
      "source": [
        "list_of_ratings=list_of_ratings.flatten()"
      ],
      "execution_count": 56,
      "outputs": []
    },
    {
      "cell_type": "markdown",
      "metadata": {
        "id": "a3M6WRn_HWCo",
        "colab_type": "text"
      },
      "source": [
        "#### Top 10 recommended movie IDs for new_user_id=0 are as follows:"
      ]
    },
    {
      "cell_type": "code",
      "metadata": {
        "id": "RGV1J6--E1yr",
        "colab_type": "code",
        "colab": {
          "base_uri": "https://localhost:8080/",
          "height": 50
        },
        "outputId": "ef3997d2-3b2a-4a27-a339-8cb4c68221f0"
      },
      "source": [
        "list_of_ratings.argsort()[::-1][:10]"
      ],
      "execution_count": 63,
      "outputs": [
        {
          "output_type": "execute_result",
          "data": {
            "text/plain": [
              "array([ 2486,  3153,  1421,  5179,  1149, 14398,  2404,  2000,  8968,\n",
              "       15367])"
            ]
          },
          "metadata": {
            "tags": []
          },
          "execution_count": 63
        }
      ]
    }
  ]
}