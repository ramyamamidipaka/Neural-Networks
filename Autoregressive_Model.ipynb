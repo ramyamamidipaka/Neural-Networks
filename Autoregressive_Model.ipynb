{
  "nbformat": 4,
  "nbformat_minor": 0,
  "metadata": {
    "colab": {
      "name": "TF2.0 Autoregressive Model.ipynb",
      "provenance": [],
      "collapsed_sections": [],
      "include_colab_link": true
    },
    "kernelspec": {
      "name": "python3",
      "display_name": "Python 3"
    }
  },
  "cells": [
    {
      "cell_type": "markdown",
      "metadata": {
        "id": "view-in-github",
        "colab_type": "text"
      },
      "source": [
        "<a href=\"https://colab.research.google.com/github/ramyamamidipaka/Neural-Networks/blob/master/Autoregressive_Model.ipynb\" target=\"_parent\"><img src=\"https://colab.research.google.com/assets/colab-badge.svg\" alt=\"Open In Colab\"/></a>"
      ]
    },
    {
      "cell_type": "code",
      "metadata": {
        "id": "WJykK-B_rnbw",
        "colab_type": "code",
        "colab": {
          "base_uri": "https://localhost:8080/",
          "height": 116
        },
        "outputId": "dcfd0b76-b2c3-43e5-85b8-bd91cf4b9cba"
      },
      "source": [
        "# Install TensorFlow\n",
        "# !pip install -q tensorflow-gpu==2.0.0-beta1\n",
        "\n",
        "try:\n",
        "  %tensorflow_version 2.x  # Colab only.\n",
        "except Exception:\n",
        "  pass\n",
        "\n",
        "import tensorflow as tf\n",
        "print(tf.__version__)"
      ],
      "execution_count": 1,
      "outputs": [
        {
          "output_type": "stream",
          "text": [
            "`%tensorflow_version` only switches the major version: 1.x or 2.x.\n",
            "You set: `2.x  # Colab only.`. This will be interpreted as: `2.x`.\n",
            "\n",
            "\n",
            "TensorFlow 2.x selected.\n",
            "2.3.0\n"
          ],
          "name": "stdout"
        }
      ]
    },
    {
      "cell_type": "code",
      "metadata": {
        "id": "DkR-FgUGrt3f",
        "colab_type": "code",
        "colab": {}
      },
      "source": [
        "from tensorflow.keras.layers import Input, Dense\n",
        "from tensorflow.keras.models import Model\n",
        "from tensorflow.keras.optimizers import SGD, Adam\n",
        "\n",
        "import numpy as np\n",
        "import pandas as pd\n",
        "import matplotlib.pyplot as plt"
      ],
      "execution_count": 2,
      "outputs": []
    },
    {
      "cell_type": "code",
      "metadata": {
        "id": "NBgpKjxXsBZn",
        "colab_type": "code",
        "colab": {
          "base_uri": "https://localhost:8080/",
          "height": 265
        },
        "outputId": "f9a063ed-634d-489a-c635-1d955fe64e7a"
      },
      "source": [
        "# make the original data\n",
        "series = np.sin(0.1*np.arange(200)) #+ np.random.randn(200)*0.1\n",
        "\n",
        "# plot it\n",
        "plt.plot(series)\n",
        "plt.show()"
      ],
      "execution_count": 6,
      "outputs": [
        {
          "output_type": "display_data",
          "data": {
            "image/png": "[encoded data removed]",
            "text/plain": [
              "<Figure size 432x288 with 1 Axes>"
            ]
          },
          "metadata": {
            "tags": [],
            "needs_background": "light"
          }
        }
      ]
    },
    {
      "cell_type": "code",
      "metadata": {
        "id": "qnR4MAM9sGF1",
        "colab_type": "code",
        "colab": {
          "base_uri": "https://localhost:8080/",
          "height": 34
        },
        "outputId": "5e4af826-4eaf-4dce-b98b-ae23570e88a1"
      },
      "source": [
        "### build the dataset\n",
        "# let's see if we can use T past values to predict the next value\n",
        "T = 10\n",
        "X = []\n",
        "Y = []\n",
        "for t in range(len(series) - T):\n",
        "  x = series[t:t+T]\n",
        "  X.append(x)\n",
        "  y = series[t+T]\n",
        "  Y.append(y)\n",
        "\n",
        "X = np.array(X).reshape(-1, T)\n",
        "Y = np.array(Y)\n",
        "N = len(X)\n",
        "print(\"X.shape\", X.shape, \"Y.shape\", Y.shape)"
      ],
      "execution_count": 8,
      "outputs": [
        {
          "output_type": "stream",
          "text": [
            "X.shape (190, 10) Y.shape (190,)\n"
          ],
          "name": "stdout"
        }
      ]
    },
    {
      "cell_type": "code",
      "metadata": {
        "id": "ZRnVL-nW1ndt",
        "colab_type": "code",
        "colab": {
          "base_uri": "https://localhost:8080/",
          "height": 34
        },
        "outputId": "9631e8e1-9060-423c-d7f3-b9249a6fc517"
      },
      "source": [
        "X[0].shape"
      ],
      "execution_count": 17,
      "outputs": [
        {
          "output_type": "execute_result",
          "data": {
            "text/plain": [
              "(10,)"
            ]
          },
          "metadata": {
            "tags": []
          },
          "execution_count": 17
        }
      ]
    },
    {
      "cell_type": "code",
      "metadata": {
        "id": "EESqey3TsODi",
        "colab_type": "code",
        "colab": {
          "base_uri": "https://localhost:8080/",
          "height": 1000
        },
        "outputId": "3695ed61-a035-483d-f9b1-35f59e32fe67"
      },
      "source": [
        "### try autoregressive linear model\n",
        "i = Input(shape=(T,))\n",
        "x = Dense(1)(i)\n",
        "model = Model(i, x)\n",
        "model.compile(\n",
        "  loss='mse',\n",
        "  optimizer=Adam(lr=0.1),\n",
        ")\n",
        "\n",
        "# train the RNN\n",
        "r = model.fit(\n",
        "  X[:-N//2], Y[:-N//2],\n",
        "  epochs=80,\n",
        "  validation_data=(X[-N//2:], Y[-N//2:]),\n",
        ")"
      ],
      "execution_count": 10,
      "outputs": [
        {
          "output_type": "stream",
          "text": [
            "Epoch 1/80\n",
            "3/3 [==============================] - 0s 32ms/step - loss: 1.4064 - val_loss: 0.2168\n",
            "Epoch 2/80\n",
            "3/3 [==============================] - 0s 8ms/step - loss: 0.5964 - val_loss: 0.8024\n",
            "Epoch 3/80\n",
            "3/3 [==============================] - 0s 8ms/step - loss: 0.6586 - val_loss: 0.2105\n",
            "Epoch 4/80\n",
            "3/3 [==============================] - 0s 7ms/step - loss: 0.0966 - val_loss: 0.1705\n",
            "Epoch 5/80\n",
            "3/3 [==============================] - 0s 7ms/step - loss: 0.2906 - val_loss: 0.2044\n",
            "Epoch 6/80\n",
            "3/3 [==============================] - 0s 8ms/step - loss: 0.1896 - val_loss: 0.0244\n",
            "Epoch 7/80\n",
            "3/3 [==============================] - 0s 7ms/step - loss: 0.0280 - val_loss: 0.0844\n",
            "Epoch 8/80\n",
            "3/3 [==============================] - 0s 7ms/step - loss: 0.1023 - val_loss: 0.0716\n",
            "Epoch 9/80\n",
            "3/3 [==============================] - 0s 9ms/step - loss: 0.0497 - val_loss: 0.0073\n",
            "Epoch 10/80\n",
            "3/3 [==============================] - 0s 8ms/step - loss: 0.0184 - val_loss: 0.0698\n",
            "Epoch 11/80\n",
            "3/3 [==============================] - 0s 7ms/step - loss: 0.0552 - val_loss: 0.0428\n",
            "Epoch 12/80\n",
            "3/3 [==============================] - 0s 8ms/step - loss: 0.0169 - val_loss: 0.0084\n",
            "Epoch 13/80\n",
            "3/3 [==============================] - 0s 8ms/step - loss: 0.0158 - val_loss: 0.0222\n",
            "Epoch 14/80\n",
            "3/3 [==============================] - 0s 8ms/step - loss: 0.0203 - val_loss: 0.0046\n",
            "Epoch 15/80\n",
            "3/3 [==============================] - 0s 8ms/step - loss: 0.0034 - val_loss: 0.0056\n",
            "Epoch 16/80\n",
            "3/3 [==============================] - 0s 7ms/step - loss: 0.0099 - val_loss: 0.0047\n",
            "Epoch 17/80\n",
            "3/3 [==============================] - 0s 7ms/step - loss: 0.0036 - val_loss: 7.6689e-04\n",
            "Epoch 18/80\n",
            "3/3 [==============================] - 0s 7ms/step - loss: 0.0025 - val_loss: 0.0043\n",
            "Epoch 19/80\n",
            "3/3 [==============================] - 0s 7ms/step - loss: 0.0035 - val_loss: 2.7430e-04\n",
            "Epoch 20/80\n",
            "3/3 [==============================] - 0s 6ms/step - loss: 6.5559e-04 - val_loss: 0.0027\n",
            "Epoch 21/80\n",
            "3/3 [==============================] - 0s 8ms/step - loss: 0.0025 - val_loss: 0.0013\n",
            "Epoch 22/80\n",
            "3/3 [==============================] - 0s 7ms/step - loss: 6.5475e-04 - val_loss: 7.3006e-04\n",
            "Epoch 23/80\n",
            "3/3 [==============================] - 0s 7ms/step - loss: 0.0011 - val_loss: 0.0011\n",
            "Epoch 24/80\n",
            "3/3 [==============================] - 0s 8ms/step - loss: 6.2162e-04 - val_loss: 1.7319e-04\n",
            "Epoch 25/80\n",
            "3/3 [==============================] - 0s 7ms/step - loss: 4.6209e-04 - val_loss: 4.4590e-04\n",
            "Epoch 26/80\n",
            "3/3 [==============================] - 0s 7ms/step - loss: 3.7018e-04 - val_loss: 1.7792e-05\n",
            "Epoch 27/80\n",
            "3/3 [==============================] - 0s 7ms/step - loss: 1.4811e-04 - val_loss: 2.5811e-04\n",
            "Epoch 28/80\n",
            "3/3 [==============================] - 0s 8ms/step - loss: 2.2140e-04 - val_loss: 4.7289e-05\n",
            "Epoch 29/80\n",
            "3/3 [==============================] - 0s 7ms/step - loss: 8.6412e-05 - val_loss: 2.6309e-04\n",
            "Epoch 30/80\n",
            "3/3 [==============================] - 0s 7ms/step - loss: 1.5935e-04 - val_loss: 4.6862e-05\n",
            "Epoch 31/80\n",
            "3/3 [==============================] - 0s 7ms/step - loss: 3.6778e-05 - val_loss: 8.6553e-05\n",
            "Epoch 32/80\n",
            "3/3 [==============================] - 0s 8ms/step - loss: 8.4492e-05 - val_loss: 2.5559e-05\n",
            "Epoch 33/80\n",
            "3/3 [==============================] - 0s 7ms/step - loss: 1.9075e-05 - val_loss: 2.8409e-05\n",
            "Epoch 34/80\n",
            "3/3 [==============================] - 0s 7ms/step - loss: 3.9178e-05 - val_loss: 4.0181e-06\n",
            "Epoch 35/80\n",
            "3/3 [==============================] - 0s 8ms/step - loss: 5.0045e-06 - val_loss: 1.5888e-05\n",
            "Epoch 36/80\n",
            "3/3 [==============================] - 0s 9ms/step - loss: 1.9160e-05 - val_loss: 3.5422e-06\n",
            "Epoch 37/80\n",
            "3/3 [==============================] - 0s 8ms/step - loss: 5.4006e-06 - val_loss: 1.4017e-05\n",
            "Epoch 38/80\n",
            "3/3 [==============================] - 0s 8ms/step - loss: 1.1506e-05 - val_loss: 3.1568e-06\n",
            "Epoch 39/80\n",
            "3/3 [==============================] - 0s 8ms/step - loss: 2.9038e-06 - val_loss: 7.1555e-06\n",
            "Epoch 40/80\n",
            "3/3 [==============================] - 0s 7ms/step - loss: 5.4400e-06 - val_loss: 2.1605e-06\n",
            "Epoch 41/80\n",
            "3/3 [==============================] - 0s 7ms/step - loss: 1.5186e-06 - val_loss: 2.1834e-06\n",
            "Epoch 42/80\n",
            "3/3 [==============================] - 0s 8ms/step - loss: 2.6323e-06 - val_loss: 1.1356e-07\n",
            "Epoch 43/80\n",
            "3/3 [==============================] - 0s 6ms/step - loss: 6.5166e-07 - val_loss: 1.6127e-06\n",
            "Epoch 44/80\n",
            "3/3 [==============================] - 0s 8ms/step - loss: 1.6872e-06 - val_loss: 7.4991e-07\n",
            "Epoch 45/80\n",
            "3/3 [==============================] - 0s 8ms/step - loss: 1.0285e-06 - val_loss: 2.0443e-06\n",
            "Epoch 46/80\n",
            "3/3 [==============================] - 0s 7ms/step - loss: 9.6277e-07 - val_loss: 1.1818e-07\n",
            "Epoch 47/80\n",
            "3/3 [==============================] - 0s 7ms/step - loss: 5.4805e-07 - val_loss: 8.3042e-07\n",
            "Epoch 48/80\n",
            "3/3 [==============================] - 0s 7ms/step - loss: 3.6691e-07 - val_loss: 1.0620e-07\n",
            "Epoch 49/80\n",
            "3/3 [==============================] - 0s 7ms/step - loss: 3.3083e-07 - val_loss: 2.1635e-07\n",
            "Epoch 50/80\n",
            "3/3 [==============================] - 0s 8ms/step - loss: 1.4424e-07 - val_loss: 1.3587e-07\n",
            "Epoch 51/80\n",
            "3/3 [==============================] - 0s 9ms/step - loss: 2.3407e-07 - val_loss: 8.9637e-08\n",
            "Epoch 52/80\n",
            "3/3 [==============================] - 0s 7ms/step - loss: 9.0552e-08 - val_loss: 1.7764e-07\n",
            "Epoch 53/80\n",
            "3/3 [==============================] - 0s 7ms/step - loss: 1.4557e-07 - val_loss: 2.6639e-08\n",
            "Epoch 54/80\n",
            "3/3 [==============================] - 0s 7ms/step - loss: 2.4792e-08 - val_loss: 1.0517e-07\n",
            "Epoch 55/80\n",
            "3/3 [==============================] - 0s 7ms/step - loss: 7.1949e-08 - val_loss: 1.1593e-08\n",
            "Epoch 56/80\n",
            "3/3 [==============================] - 0s 7ms/step - loss: 2.8028e-08 - val_loss: 3.6874e-08\n",
            "Epoch 57/80\n",
            "3/3 [==============================] - 0s 9ms/step - loss: 2.8689e-08 - val_loss: 7.5834e-09\n",
            "Epoch 58/80\n",
            "3/3 [==============================] - 0s 6ms/step - loss: 2.2425e-08 - val_loss: 1.5776e-08\n",
            "Epoch 59/80\n",
            "3/3 [==============================] - 0s 7ms/step - loss: 1.2445e-08 - val_loss: 1.7427e-08\n",
            "Epoch 60/80\n",
            "3/3 [==============================] - 0s 7ms/step - loss: 1.4839e-08 - val_loss: 2.2463e-09\n",
            "Epoch 61/80\n",
            "3/3 [==============================] - 0s 7ms/step - loss: 3.0875e-09 - val_loss: 1.2537e-08\n",
            "Epoch 62/80\n",
            "3/3 [==============================] - 0s 7ms/step - loss: 7.8764e-09 - val_loss: 1.5402e-09\n",
            "Epoch 63/80\n",
            "3/3 [==============================] - 0s 8ms/step - loss: 3.8109e-09 - val_loss: 3.9597e-09\n",
            "Epoch 64/80\n",
            "3/3 [==============================] - 0s 7ms/step - loss: 2.5439e-09 - val_loss: 1.5685e-09\n",
            "Epoch 65/80\n",
            "3/3 [==============================] - 0s 6ms/step - loss: 2.7145e-09 - val_loss: 8.0342e-10\n",
            "Epoch 66/80\n",
            "3/3 [==============================] - 0s 7ms/step - loss: 8.4769e-10 - val_loss: 1.8184e-09\n",
            "Epoch 67/80\n",
            "3/3 [==============================] - 0s 7ms/step - loss: 1.3106e-09 - val_loss: 1.6021e-11\n",
            "Epoch 68/80\n",
            "3/3 [==============================] - 0s 7ms/step - loss: 5.6025e-10 - val_loss: 1.1259e-09\n",
            "Epoch 69/80\n",
            "3/3 [==============================] - 0s 7ms/step - loss: 5.5119e-10 - val_loss: 2.6258e-10\n",
            "Epoch 70/80\n",
            "3/3 [==============================] - 0s 8ms/step - loss: 6.1423e-10 - val_loss: 2.5447e-10\n",
            "Epoch 71/80\n",
            "3/3 [==============================] - 0s 9ms/step - loss: 2.1887e-10 - val_loss: 3.9537e-10\n",
            "Epoch 72/80\n",
            "3/3 [==============================] - 0s 8ms/step - loss: 3.8597e-10 - val_loss: 9.6902e-11\n",
            "Epoch 73/80\n",
            "3/3 [==============================] - 0s 8ms/step - loss: 1.6953e-10 - val_loss: 1.9175e-10\n",
            "Epoch 74/80\n",
            "3/3 [==============================] - 0s 8ms/step - loss: 7.0895e-11 - val_loss: 1.2307e-10\n",
            "Epoch 75/80\n",
            "3/3 [==============================] - 0s 7ms/step - loss: 1.2877e-10 - val_loss: 9.0576e-11\n",
            "Epoch 76/80\n",
            "3/3 [==============================] - 0s 9ms/step - loss: 6.2864e-11 - val_loss: 7.5367e-11\n",
            "Epoch 77/80\n",
            "3/3 [==============================] - 0s 7ms/step - loss: 5.6006e-11 - val_loss: 1.2807e-11\n",
            "Epoch 78/80\n",
            "3/3 [==============================] - 0s 7ms/step - loss: 4.3084e-11 - val_loss: 1.5015e-11\n",
            "Epoch 79/80\n",
            "3/3 [==============================] - 0s 8ms/step - loss: 1.9489e-11 - val_loss: 3.2764e-11\n",
            "Epoch 80/80\n",
            "3/3 [==============================] - 0s 7ms/step - loss: 2.1233e-11 - val_loss: 3.3155e-12\n"
          ],
          "name": "stdout"
        }
      ]
    },
    {
      "cell_type": "code",
      "metadata": {
        "id": "2BA0rLqrsw7i",
        "colab_type": "code",
        "colab": {
          "base_uri": "https://localhost:8080/",
          "height": 282
        },
        "outputId": "47721727-d05d-4d49-e5f4-0ff41da6a3b2"
      },
      "source": [
        "# Plot loss per iteration\n",
        "import matplotlib.pyplot as plt\n",
        "plt.plot(r.history['loss'], label='loss')\n",
        "plt.plot(r.history['val_loss'], label='val_loss')\n",
        "plt.legend()"
      ],
      "execution_count": 11,
      "outputs": [
        {
          "output_type": "execute_result",
          "data": {
            "text/plain": [
              "<matplotlib.legend.Legend at 0x7f21ea79d6a0>"
            ]
          },
          "metadata": {
            "tags": []
          },
          "execution_count": 11
        },
        {
          "output_type": "display_data",
          "data": {
            "image/png": "[encoded data removed]",
            "text/plain": [
              "<Figure size 432x288 with 1 Axes>"
            ]
          },
          "metadata": {
            "tags": [],
            "needs_background": "light"
          }
        }
      ]
    },
    {
      "cell_type": "code",
      "metadata": {
        "id": "DyyEx1Gx4Q7t",
        "colab_type": "code",
        "colab": {}
      },
      "source": [
        "# \"Wrong\" forecast using true targets\n",
        "\n",
        "validation_target = Y[-N//2:]\n",
        "validation_predictions = []\n",
        "\n",
        "# index of first validation input\n",
        "i = -N//2\n",
        "\n",
        "while len(validation_predictions) < len(validation_target):\n",
        "  p = model.predict(X[i].reshape(1, -1))[0,0] # 1x1 array -> scalar\n",
        "  i += 1\n",
        "  \n",
        "  # update the predictions list\n",
        "  validation_predictions.append(p)"
      ],
      "execution_count": 12,
      "outputs": []
    },
    {
      "cell_type": "code",
      "metadata": {
        "id": "hb18Dr0O4ec9",
        "colab_type": "code",
        "colab": {
          "base_uri": "https://localhost:8080/",
          "height": 282
        },
        "outputId": "d328c300-6982-4e6a-a706-e1e178a6e6ad"
      },
      "source": [
        "plt.plot(validation_target, label='forecast target')\n",
        "plt.plot(validation_predictions, label='forecast prediction')\n",
        "plt.legend()"
      ],
      "execution_count": 13,
      "outputs": [
        {
          "output_type": "execute_result",
          "data": {
            "text/plain": [
              "<matplotlib.legend.Legend at 0x7f21ea43d978>"
            ]
          },
          "metadata": {
            "tags": []
          },
          "execution_count": 13
        },
        {
          "output_type": "display_data",
          "data": {
            "image/png": "[encoded data removed]",
            "text/plain": [
              "<Figure size 432x288 with 1 Axes>"
            ]
          },
          "metadata": {
            "tags": [],
            "needs_background": "light"
          }
        }
      ]
    },
    {
      "cell_type": "code",
      "metadata": {
        "id": "j9Idhr4ss3g_",
        "colab_type": "code",
        "colab": {}
      },
      "source": [
        "# Forecast future values (use only self-predictions for making future predictions)\n",
        "\n",
        "validation_target = Y[-N//2:]\n",
        "validation_predictions = []\n",
        "\n",
        "# first validation input\n",
        "last_x = X[-N//2] # 1-D array of length T\n",
        "\n",
        "while len(validation_predictions) < len(validation_target):\n",
        "  p = model.predict(last_x.reshape(1, -1))[0,0] # 1x1 array -> scalar\n",
        "  \n",
        "  # update the predictions list\n",
        "  validation_predictions.append(p)\n",
        "  \n",
        "  # make the new input\n",
        "  last_x = np.roll(last_x, -1)\n",
        "  last_x[-1] = p"
      ],
      "execution_count": 14,
      "outputs": []
    },
    {
      "cell_type": "code",
      "metadata": {
        "id": "i0QEZgwV3WPI",
        "colab_type": "code",
        "colab": {
          "base_uri": "https://localhost:8080/",
          "height": 282
        },
        "outputId": "367491e6-4156-43ab-cd82-b2821fb6c843"
      },
      "source": [
        "plt.plot(validation_target, label='forecast target')\n",
        "plt.plot(validation_predictions, label='forecast prediction')\n",
        "plt.legend()"
      ],
      "execution_count": 15,
      "outputs": [
        {
          "output_type": "execute_result",
          "data": {
            "text/plain": [
              "<matplotlib.legend.Legend at 0x7f21ea6fdd68>"
            ]
          },
          "metadata": {
            "tags": []
          },
          "execution_count": 15
        },
        {
          "output_type": "display_data",
          "data": {
            "image/png": "[encoded data removed]",
            "text/plain": [
              "<Figure size 432x288 with 1 Axes>"
            ]
          },
          "metadata": {
            "tags": [],
            "needs_background": "light"
          }
        }
      ]
    },
    {
      "cell_type": "code",
      "metadata": {
        "id": "Hqq-OqrD1dCp",
        "colab_type": "code",
        "colab": {}
      },
      "source": [
        ""
      ],
      "execution_count": null,
      "outputs": []
    }
  ]
}