{
 "cells": [
  {
   "cell_type": "markdown",
   "metadata": {},
   "source": [
    "## CLASSIFICATION OF IRIS DATASET WITH DEEP LEARNING"
   ]
  },
  {
   "cell_type": "code",
   "execution_count": 1,
   "metadata": {},
   "outputs": [],
   "source": [
    "import pandas as pd\n",
    "import numpy as np\n",
    "import tensorflow as tf"
   ]
  },
  {
   "cell_type": "code",
   "execution_count": 2,
   "metadata": {},
   "outputs": [
    {
     "data": {
      "text/plain": [
       "'2.2.0'"
      ]
     },
     "execution_count": 2,
     "metadata": {},
     "output_type": "execute_result"
    }
   ],
   "source": [
    "tf.__version__"
   ]
  },
  {
   "cell_type": "code",
   "execution_count": 3,
   "metadata": {},
   "outputs": [],
   "source": [
    "from sklearn.datasets import load_iris"
   ]
  },
  {
   "cell_type": "code",
   "execution_count": 4,
   "metadata": {},
   "outputs": [],
   "source": [
    "\n",
    "data = load_iris()"
   ]
  },
  {
   "cell_type": "code",
   "execution_count": 5,
   "metadata": {},
   "outputs": [],
   "source": [
    "from sklearn.model_selection import train_test_split"
   ]
  },
  {
   "cell_type": "code",
   "execution_count": 6,
   "metadata": {},
   "outputs": [],
   "source": [
    "X_train, X_test, y_train, y_test = train_test_split(data.data, data.target, test_size=0.25)"
   ]
  },
  {
   "cell_type": "code",
   "execution_count": 7,
   "metadata": {},
   "outputs": [
    {
     "data": {
      "text/plain": [
       "(112, 4)"
      ]
     },
     "execution_count": 7,
     "metadata": {},
     "output_type": "execute_result"
    }
   ],
   "source": [
    "X_train.shape"
   ]
  },
  {
   "cell_type": "code",
   "execution_count": 8,
   "metadata": {},
   "outputs": [
    {
     "data": {
      "text/plain": [
       "112"
      ]
     },
     "execution_count": 8,
     "metadata": {},
     "output_type": "execute_result"
    }
   ],
   "source": [
    "len(X_train)"
   ]
  },
  {
   "cell_type": "code",
   "execution_count": 9,
   "metadata": {},
   "outputs": [
    {
     "data": {
      "text/plain": [
       "38"
      ]
     },
     "execution_count": 9,
     "metadata": {},
     "output_type": "execute_result"
    }
   ],
   "source": [
    "len(X_test)"
   ]
  },
  {
   "cell_type": "code",
   "execution_count": 10,
   "metadata": {},
   "outputs": [],
   "source": [
    "#Scaling the data\n",
    "from sklearn.preprocessing import StandardScaler\n",
    "\n",
    "scaler = StandardScaler()\n",
    "X_train = scaler.fit_transform(X_train)\n",
    "X_test = scaler.transform(X_test)"
   ]
  },
  {
   "cell_type": "code",
   "execution_count": 11,
   "metadata": {},
   "outputs": [],
   "source": [
    " N,D=X_train.shape"
   ]
  },
  {
   "cell_type": "code",
   "execution_count": 12,
   "metadata": {},
   "outputs": [],
   "source": [
    "model = tf.keras.models.Sequential([\n",
    "  tf.keras.layers.Input(shape=(D,)),\n",
    "    tf.keras.layers.Dense(30, activation='sigmoid'),\n",
    "  tf.keras.layers.Dense(30, activation='softmax'),\n",
    "     \n",
    "])"
   ]
  },
  {
   "cell_type": "code",
   "execution_count": 19,
   "metadata": {},
   "outputs": [],
   "source": [
    "from tensorflow.keras.callbacks import EarlyStopping\n",
    "es = EarlyStopping(monitor='val_loss', mode='min', verbose=1,min_delta=0.001)"
   ]
  },
  {
   "cell_type": "code",
   "execution_count": 20,
   "metadata": {},
   "outputs": [
    {
     "name": "stdout",
     "output_type": "stream",
     "text": [
      "Epoch 1/7000\n",
      "4/4 [==============================] - 0s 69ms/step - loss: 0.7642 - accuracy: 0.8750 - val_loss: 0.7808 - val_accuracy: 0.7895\n",
      "Epoch 2/7000\n",
      "4/4 [==============================] - 0s 24ms/step - loss: 0.7446 - accuracy: 0.8750 - val_loss: 0.7630 - val_accuracy: 0.8158\n",
      "Epoch 3/7000\n",
      "4/4 [==============================] - 0s 22ms/step - loss: 0.7270 - accuracy: 0.8750 - val_loss: 0.7455 - val_accuracy: 0.8158\n",
      "Epoch 4/7000\n",
      "4/4 [==============================] - 0s 23ms/step - loss: 0.7103 - accuracy: 0.8750 - val_loss: 0.7289 - val_accuracy: 0.8158\n",
      "Epoch 5/7000\n",
      "4/4 [==============================] - 0s 24ms/step - loss: 0.6942 - accuracy: 0.8750 - val_loss: 0.7132 - val_accuracy: 0.8158\n",
      "Epoch 6/7000\n",
      "4/4 [==============================] - 0s 26ms/step - loss: 0.6791 - accuracy: 0.8750 - val_loss: 0.6987 - val_accuracy: 0.8158\n",
      "Epoch 7/7000\n",
      "4/4 [==============================] - 0s 21ms/step - loss: 0.6649 - accuracy: 0.8929 - val_loss: 0.6849 - val_accuracy: 0.8158\n",
      "Epoch 8/7000\n",
      "4/4 [==============================] - 0s 22ms/step - loss: 0.6517 - accuracy: 0.8929 - val_loss: 0.6718 - val_accuracy: 0.8158\n",
      "Epoch 9/7000\n",
      "4/4 [==============================] - 0s 22ms/step - loss: 0.6390 - accuracy: 0.8929 - val_loss: 0.6598 - val_accuracy: 0.8158\n",
      "Epoch 10/7000\n",
      "4/4 [==============================] - 0s 29ms/step - loss: 0.6271 - accuracy: 0.8929 - val_loss: 0.6484 - val_accuracy: 0.8158\n",
      "Epoch 11/7000\n",
      "4/4 [==============================] - 0s 44ms/step - loss: 0.6160 - accuracy: 0.8929 - val_loss: 0.6374 - val_accuracy: 0.8421\n",
      "Epoch 12/7000\n",
      "4/4 [==============================] - 0s 37ms/step - loss: 0.6053 - accuracy: 0.8929 - val_loss: 0.6271 - val_accuracy: 0.8421\n",
      "Epoch 13/7000\n",
      "4/4 [==============================] - 0s 31ms/step - loss: 0.5952 - accuracy: 0.8839 - val_loss: 0.6174 - val_accuracy: 0.8158\n",
      "Epoch 14/7000\n",
      "4/4 [==============================] - 0s 24ms/step - loss: 0.5852 - accuracy: 0.8839 - val_loss: 0.6080 - val_accuracy: 0.8421\n",
      "Epoch 15/7000\n",
      "4/4 [==============================] - 0s 33ms/step - loss: 0.5759 - accuracy: 0.9018 - val_loss: 0.5990 - val_accuracy: 0.8421\n",
      "Epoch 16/7000\n",
      "4/4 [==============================] - 0s 24ms/step - loss: 0.5672 - accuracy: 0.9018 - val_loss: 0.5903 - val_accuracy: 0.8421\n",
      "Epoch 17/7000\n",
      "4/4 [==============================] - 0s 23ms/step - loss: 0.5584 - accuracy: 0.8929 - val_loss: 0.5821 - val_accuracy: 0.8421\n",
      "Epoch 18/7000\n",
      "4/4 [==============================] - 0s 24ms/step - loss: 0.5504 - accuracy: 0.8929 - val_loss: 0.5740 - val_accuracy: 0.8421\n",
      "Epoch 19/7000\n",
      "4/4 [==============================] - 0s 22ms/step - loss: 0.5425 - accuracy: 0.8929 - val_loss: 0.5666 - val_accuracy: 0.8158\n",
      "Epoch 20/7000\n",
      "4/4 [==============================] - 0s 22ms/step - loss: 0.5348 - accuracy: 0.8929 - val_loss: 0.5594 - val_accuracy: 0.8421\n",
      "Epoch 21/7000\n",
      "4/4 [==============================] - 0s 23ms/step - loss: 0.5279 - accuracy: 0.8929 - val_loss: 0.5526 - val_accuracy: 0.8421\n",
      "Epoch 22/7000\n",
      "4/4 [==============================] - 0s 25ms/step - loss: 0.5204 - accuracy: 0.9018 - val_loss: 0.5459 - val_accuracy: 0.8421\n",
      "Epoch 23/7000\n",
      "4/4 [==============================] - 0s 23ms/step - loss: 0.5138 - accuracy: 0.9018 - val_loss: 0.5394 - val_accuracy: 0.8421\n",
      "Epoch 24/7000\n",
      "4/4 [==============================] - 0s 24ms/step - loss: 0.5071 - accuracy: 0.8929 - val_loss: 0.5333 - val_accuracy: 0.8421\n",
      "Epoch 25/7000\n",
      "4/4 [==============================] - 0s 21ms/step - loss: 0.5013 - accuracy: 0.8839 - val_loss: 0.5277 - val_accuracy: 0.8158\n",
      "Epoch 26/7000\n",
      "4/4 [==============================] - 0s 23ms/step - loss: 0.4951 - accuracy: 0.8839 - val_loss: 0.5220 - val_accuracy: 0.8421\n",
      "Epoch 27/7000\n",
      "4/4 [==============================] - 0s 23ms/step - loss: 0.4889 - accuracy: 0.8929 - val_loss: 0.5164 - val_accuracy: 0.8421\n",
      "Epoch 28/7000\n",
      "4/4 [==============================] - 0s 24ms/step - loss: 0.4833 - accuracy: 0.8929 - val_loss: 0.5110 - val_accuracy: 0.8421\n",
      "Epoch 29/7000\n",
      "4/4 [==============================] - 0s 23ms/step - loss: 0.4780 - accuracy: 0.8929 - val_loss: 0.5055 - val_accuracy: 0.8421\n",
      "Epoch 30/7000\n",
      "4/4 [==============================] - 0s 23ms/step - loss: 0.4726 - accuracy: 0.9018 - val_loss: 0.5002 - val_accuracy: 0.8421\n",
      "Epoch 31/7000\n",
      "4/4 [==============================] - 0s 30ms/step - loss: 0.4672 - accuracy: 0.9018 - val_loss: 0.4952 - val_accuracy: 0.8421\n",
      "Epoch 32/7000\n",
      "4/4 [==============================] - 0s 22ms/step - loss: 0.4621 - accuracy: 0.9018 - val_loss: 0.4904 - val_accuracy: 0.8421\n",
      "Epoch 33/7000\n",
      "4/4 [==============================] - 0s 92ms/step - loss: 0.4573 - accuracy: 0.9018 - val_loss: 0.4857 - val_accuracy: 0.8158\n",
      "Epoch 34/7000\n",
      "4/4 [==============================] - 0s 38ms/step - loss: 0.4527 - accuracy: 0.8929 - val_loss: 0.4811 - val_accuracy: 0.8158\n",
      "Epoch 35/7000\n",
      "4/4 [==============================] - 0s 31ms/step - loss: 0.4479 - accuracy: 0.8839 - val_loss: 0.4766 - val_accuracy: 0.8158\n",
      "Epoch 36/7000\n",
      "4/4 [==============================] - 0s 28ms/step - loss: 0.4436 - accuracy: 0.8839 - val_loss: 0.4721 - val_accuracy: 0.8158\n",
      "Epoch 37/7000\n",
      "4/4 [==============================] - 0s 28ms/step - loss: 0.4389 - accuracy: 0.9018 - val_loss: 0.4681 - val_accuracy: 0.8421\n",
      "Epoch 38/7000\n",
      "4/4 [==============================] - 0s 24ms/step - loss: 0.4350 - accuracy: 0.9018 - val_loss: 0.4645 - val_accuracy: 0.8421\n",
      "Epoch 39/7000\n",
      "4/4 [==============================] - 0s 24ms/step - loss: 0.4308 - accuracy: 0.9018 - val_loss: 0.4609 - val_accuracy: 0.8421\n",
      "Epoch 40/7000\n",
      "4/4 [==============================] - 0s 22ms/step - loss: 0.4268 - accuracy: 0.9018 - val_loss: 0.4572 - val_accuracy: 0.8421\n",
      "Epoch 41/7000\n",
      "4/4 [==============================] - 0s 22ms/step - loss: 0.4231 - accuracy: 0.9018 - val_loss: 0.4536 - val_accuracy: 0.8421\n",
      "Epoch 42/7000\n",
      "4/4 [==============================] - 0s 22ms/step - loss: 0.4193 - accuracy: 0.9018 - val_loss: 0.4499 - val_accuracy: 0.8421\n",
      "Epoch 43/7000\n",
      "4/4 [==============================] - 0s 23ms/step - loss: 0.4153 - accuracy: 0.9018 - val_loss: 0.4461 - val_accuracy: 0.8421\n",
      "Epoch 44/7000\n",
      "4/4 [==============================] - 0s 21ms/step - loss: 0.4115 - accuracy: 0.9018 - val_loss: 0.4422 - val_accuracy: 0.8421\n",
      "Epoch 45/7000\n",
      "4/4 [==============================] - 0s 22ms/step - loss: 0.4082 - accuracy: 0.9018 - val_loss: 0.4385 - val_accuracy: 0.8421\n",
      "Epoch 46/7000\n",
      "4/4 [==============================] - 0s 23ms/step - loss: 0.4047 - accuracy: 0.9018 - val_loss: 0.4350 - val_accuracy: 0.8158\n",
      "Epoch 47/7000\n",
      "4/4 [==============================] - 0s 22ms/step - loss: 0.4013 - accuracy: 0.9018 - val_loss: 0.4317 - val_accuracy: 0.8158\n",
      "Epoch 48/7000\n",
      "4/4 [==============================] - 0s 24ms/step - loss: 0.3980 - accuracy: 0.9018 - val_loss: 0.4286 - val_accuracy: 0.8158\n",
      "Epoch 49/7000\n",
      "4/4 [==============================] - 0s 26ms/step - loss: 0.3946 - accuracy: 0.9018 - val_loss: 0.4255 - val_accuracy: 0.8158\n",
      "Epoch 50/7000\n",
      "4/4 [==============================] - 0s 22ms/step - loss: 0.3917 - accuracy: 0.9018 - val_loss: 0.4223 - val_accuracy: 0.8421\n",
      "Epoch 51/7000\n",
      "4/4 [==============================] - 0s 22ms/step - loss: 0.3884 - accuracy: 0.8839 - val_loss: 0.4192 - val_accuracy: 0.8421\n",
      "Epoch 52/7000\n",
      "4/4 [==============================] - 0s 22ms/step - loss: 0.3854 - accuracy: 0.8839 - val_loss: 0.4162 - val_accuracy: 0.8421\n",
      "Epoch 53/7000\n",
      "4/4 [==============================] - 0s 26ms/step - loss: 0.3822 - accuracy: 0.8929 - val_loss: 0.4134 - val_accuracy: 0.8421\n",
      "Epoch 54/7000\n",
      "4/4 [==============================] - 0s 36ms/step - loss: 0.3792 - accuracy: 0.9018 - val_loss: 0.4106 - val_accuracy: 0.8421\n",
      "Epoch 55/7000\n",
      "4/4 [==============================] - 0s 47ms/step - loss: 0.3766 - accuracy: 0.9018 - val_loss: 0.4082 - val_accuracy: 0.8421\n",
      "Epoch 56/7000\n",
      "4/4 [==============================] - 0s 50ms/step - loss: 0.3735 - accuracy: 0.9018 - val_loss: 0.4057 - val_accuracy: 0.8421\n",
      "Epoch 57/7000\n",
      "4/4 [==============================] - 0s 36ms/step - loss: 0.3707 - accuracy: 0.9018 - val_loss: 0.4030 - val_accuracy: 0.8421\n",
      "Epoch 58/7000\n",
      "4/4 [==============================] - 0s 33ms/step - loss: 0.3681 - accuracy: 0.9018 - val_loss: 0.4005 - val_accuracy: 0.8421\n"
     ]
    },
    {
     "name": "stdout",
     "output_type": "stream",
     "text": [
      "Epoch 59/7000\n",
      "4/4 [==============================] - 0s 33ms/step - loss: 0.3655 - accuracy: 0.9018 - val_loss: 0.3981 - val_accuracy: 0.8421\n",
      "Epoch 60/7000\n",
      "4/4 [==============================] - 0s 37ms/step - loss: 0.3630 - accuracy: 0.9018 - val_loss: 0.3956 - val_accuracy: 0.8421\n",
      "Epoch 61/7000\n",
      "4/4 [==============================] - 0s 23ms/step - loss: 0.3605 - accuracy: 0.9018 - val_loss: 0.3931 - val_accuracy: 0.8421\n",
      "Epoch 62/7000\n",
      "4/4 [==============================] - 0s 26ms/step - loss: 0.3579 - accuracy: 0.9018 - val_loss: 0.3909 - val_accuracy: 0.8421\n",
      "Epoch 63/7000\n",
      "4/4 [==============================] - 0s 23ms/step - loss: 0.3556 - accuracy: 0.9107 - val_loss: 0.3884 - val_accuracy: 0.8421\n",
      "Epoch 64/7000\n",
      "4/4 [==============================] - 0s 22ms/step - loss: 0.3529 - accuracy: 0.9018 - val_loss: 0.3859 - val_accuracy: 0.8421\n",
      "Epoch 65/7000\n",
      "4/4 [==============================] - 0s 23ms/step - loss: 0.3506 - accuracy: 0.9107 - val_loss: 0.3836 - val_accuracy: 0.8421\n",
      "Epoch 66/7000\n",
      "4/4 [==============================] - 0s 26ms/step - loss: 0.3483 - accuracy: 0.9107 - val_loss: 0.3814 - val_accuracy: 0.8421\n",
      "Epoch 67/7000\n",
      "4/4 [==============================] - 0s 23ms/step - loss: 0.3460 - accuracy: 0.9107 - val_loss: 0.3791 - val_accuracy: 0.8421\n",
      "Epoch 68/7000\n",
      "4/4 [==============================] - 0s 21ms/step - loss: 0.3439 - accuracy: 0.9107 - val_loss: 0.3768 - val_accuracy: 0.8684\n",
      "Epoch 69/7000\n",
      "4/4 [==============================] - 0s 21ms/step - loss: 0.3415 - accuracy: 0.9107 - val_loss: 0.3747 - val_accuracy: 0.8684\n",
      "Epoch 70/7000\n",
      "4/4 [==============================] - 0s 23ms/step - loss: 0.3392 - accuracy: 0.9107 - val_loss: 0.3725 - val_accuracy: 0.8684\n",
      "Epoch 71/7000\n",
      "4/4 [==============================] - 0s 23ms/step - loss: 0.3372 - accuracy: 0.9107 - val_loss: 0.3701 - val_accuracy: 0.8684\n",
      "Epoch 72/7000\n",
      "4/4 [==============================] - 0s 22ms/step - loss: 0.3348 - accuracy: 0.9107 - val_loss: 0.3679 - val_accuracy: 0.8684\n",
      "Epoch 73/7000\n",
      "4/4 [==============================] - 0s 25ms/step - loss: 0.3329 - accuracy: 0.9018 - val_loss: 0.3656 - val_accuracy: 0.8684\n",
      "Epoch 74/7000\n",
      "4/4 [==============================] - 0s 30ms/step - loss: 0.3308 - accuracy: 0.9018 - val_loss: 0.3636 - val_accuracy: 0.8684\n",
      "Epoch 75/7000\n",
      "4/4 [==============================] - 0s 29ms/step - loss: 0.3287 - accuracy: 0.9018 - val_loss: 0.3614 - val_accuracy: 0.8684\n",
      "Epoch 76/7000\n",
      "4/4 [==============================] - 0s 41ms/step - loss: 0.3269 - accuracy: 0.9018 - val_loss: 0.3595 - val_accuracy: 0.8684\n",
      "Epoch 77/7000\n",
      "4/4 [==============================] - 0s 37ms/step - loss: 0.3245 - accuracy: 0.9018 - val_loss: 0.3573 - val_accuracy: 0.8684\n",
      "Epoch 78/7000\n",
      "4/4 [==============================] - 0s 40ms/step - loss: 0.3227 - accuracy: 0.9107 - val_loss: 0.3551 - val_accuracy: 0.8947\n",
      "Epoch 79/7000\n",
      "4/4 [==============================] - 0s 37ms/step - loss: 0.3210 - accuracy: 0.9107 - val_loss: 0.3530 - val_accuracy: 0.9211\n",
      "Epoch 80/7000\n",
      "4/4 [==============================] - 0s 22ms/step - loss: 0.3194 - accuracy: 0.9018 - val_loss: 0.3510 - val_accuracy: 0.8947\n",
      "Epoch 81/7000\n",
      "4/4 [==============================] - 0s 23ms/step - loss: 0.3173 - accuracy: 0.9018 - val_loss: 0.3490 - val_accuracy: 0.9211\n",
      "Epoch 82/7000\n",
      "4/4 [==============================] - 0s 23ms/step - loss: 0.3153 - accuracy: 0.9107 - val_loss: 0.3471 - val_accuracy: 0.8947\n",
      "Epoch 83/7000\n",
      "4/4 [==============================] - 0s 23ms/step - loss: 0.3140 - accuracy: 0.9196 - val_loss: 0.3454 - val_accuracy: 0.8684\n",
      "Epoch 84/7000\n",
      "4/4 [==============================] - 0s 23ms/step - loss: 0.3117 - accuracy: 0.9196 - val_loss: 0.3435 - val_accuracy: 0.8684\n",
      "Epoch 85/7000\n",
      "4/4 [==============================] - 0s 23ms/step - loss: 0.3098 - accuracy: 0.9196 - val_loss: 0.3419 - val_accuracy: 0.8684\n",
      "Epoch 86/7000\n",
      "4/4 [==============================] - 0s 22ms/step - loss: 0.3083 - accuracy: 0.9196 - val_loss: 0.3402 - val_accuracy: 0.8684\n",
      "Epoch 87/7000\n",
      "4/4 [==============================] - 0s 23ms/step - loss: 0.3066 - accuracy: 0.9196 - val_loss: 0.3383 - val_accuracy: 0.8684\n",
      "Epoch 88/7000\n",
      "4/4 [==============================] - 0s 22ms/step - loss: 0.3047 - accuracy: 0.9196 - val_loss: 0.3368 - val_accuracy: 0.8684\n",
      "Epoch 89/7000\n",
      "4/4 [==============================] - 0s 27ms/step - loss: 0.3030 - accuracy: 0.9196 - val_loss: 0.3351 - val_accuracy: 0.8684\n",
      "Epoch 90/7000\n",
      "4/4 [==============================] - 0s 24ms/step - loss: 0.3014 - accuracy: 0.9196 - val_loss: 0.3333 - val_accuracy: 0.8684\n",
      "Epoch 91/7000\n",
      "4/4 [==============================] - 0s 22ms/step - loss: 0.2997 - accuracy: 0.9196 - val_loss: 0.3316 - val_accuracy: 0.8947\n",
      "Epoch 92/7000\n",
      "4/4 [==============================] - 0s 23ms/step - loss: 0.2980 - accuracy: 0.9196 - val_loss: 0.3298 - val_accuracy: 0.8947\n",
      "Epoch 93/7000\n",
      "4/4 [==============================] - 0s 23ms/step - loss: 0.2964 - accuracy: 0.9196 - val_loss: 0.3281 - val_accuracy: 0.8947\n",
      "Epoch 94/7000\n",
      "4/4 [==============================] - 0s 28ms/step - loss: 0.2949 - accuracy: 0.9196 - val_loss: 0.3264 - val_accuracy: 0.8947\n",
      "Epoch 95/7000\n",
      "4/4 [==============================] - 0s 23ms/step - loss: 0.2932 - accuracy: 0.9196 - val_loss: 0.3247 - val_accuracy: 0.8947\n",
      "Epoch 96/7000\n",
      "4/4 [==============================] - 0s 21ms/step - loss: 0.2921 - accuracy: 0.9196 - val_loss: 0.3231 - val_accuracy: 0.8947\n",
      "Epoch 97/7000\n",
      "4/4 [==============================] - 0s 25ms/step - loss: 0.2900 - accuracy: 0.9196 - val_loss: 0.3212 - val_accuracy: 0.8947\n",
      "Epoch 98/7000\n",
      "4/4 [==============================] - 0s 22ms/step - loss: 0.2884 - accuracy: 0.9196 - val_loss: 0.3193 - val_accuracy: 0.8947\n",
      "Epoch 99/7000\n",
      "4/4 [==============================] - 0s 37ms/step - loss: 0.2872 - accuracy: 0.9196 - val_loss: 0.3175 - val_accuracy: 0.9474\n",
      "Epoch 100/7000\n",
      "4/4 [==============================] - 0s 39ms/step - loss: 0.2857 - accuracy: 0.9196 - val_loss: 0.3158 - val_accuracy: 0.9474\n",
      "Epoch 101/7000\n",
      "4/4 [==============================] - 0s 34ms/step - loss: 0.2843 - accuracy: 0.9107 - val_loss: 0.3142 - val_accuracy: 0.9474\n",
      "Epoch 102/7000\n",
      "4/4 [==============================] - 0s 39ms/step - loss: 0.2828 - accuracy: 0.9196 - val_loss: 0.3126 - val_accuracy: 0.9474\n",
      "Epoch 103/7000\n",
      "4/4 [==============================] - 0s 22ms/step - loss: 0.2813 - accuracy: 0.9196 - val_loss: 0.3110 - val_accuracy: 0.9474\n",
      "Epoch 104/7000\n",
      "4/4 [==============================] - 0s 24ms/step - loss: 0.2799 - accuracy: 0.9196 - val_loss: 0.3093 - val_accuracy: 0.9474\n",
      "Epoch 105/7000\n",
      "4/4 [==============================] - 0s 33ms/step - loss: 0.2786 - accuracy: 0.9196 - val_loss: 0.3077 - val_accuracy: 0.9474\n",
      "Epoch 106/7000\n",
      "4/4 [==============================] - 0s 34ms/step - loss: 0.2771 - accuracy: 0.9196 - val_loss: 0.3062 - val_accuracy: 0.9474\n",
      "Epoch 107/7000\n",
      "4/4 [==============================] - 0s 34ms/step - loss: 0.2757 - accuracy: 0.9196 - val_loss: 0.3046 - val_accuracy: 0.9474\n",
      "Epoch 108/7000\n",
      "4/4 [==============================] - 0s 34ms/step - loss: 0.2744 - accuracy: 0.9196 - val_loss: 0.3031 - val_accuracy: 0.9474\n",
      "Epoch 109/7000\n",
      "4/4 [==============================] - 0s 22ms/step - loss: 0.2730 - accuracy: 0.9196 - val_loss: 0.3016 - val_accuracy: 0.9474\n",
      "Epoch 110/7000\n",
      "4/4 [==============================] - 0s 28ms/step - loss: 0.2717 - accuracy: 0.9196 - val_loss: 0.3001 - val_accuracy: 0.9474\n",
      "Epoch 111/7000\n",
      "4/4 [==============================] - 0s 23ms/step - loss: 0.2700 - accuracy: 0.9196 - val_loss: 0.2986 - val_accuracy: 0.9474\n",
      "Epoch 112/7000\n",
      "4/4 [==============================] - 0s 22ms/step - loss: 0.2690 - accuracy: 0.9286 - val_loss: 0.2973 - val_accuracy: 0.9474\n",
      "Epoch 113/7000\n",
      "4/4 [==============================] - 0s 23ms/step - loss: 0.2672 - accuracy: 0.9286 - val_loss: 0.2959 - val_accuracy: 0.9474\n",
      "Epoch 114/7000\n",
      "4/4 [==============================] - 0s 23ms/step - loss: 0.2659 - accuracy: 0.9286 - val_loss: 0.2945 - val_accuracy: 0.9474\n",
      "Epoch 115/7000\n",
      "4/4 [==============================] - 0s 23ms/step - loss: 0.2646 - accuracy: 0.9286 - val_loss: 0.2930 - val_accuracy: 0.9474\n",
      "Epoch 116/7000\n"
     ]
    },
    {
     "name": "stdout",
     "output_type": "stream",
     "text": [
      "4/4 [==============================] - 0s 21ms/step - loss: 0.2632 - accuracy: 0.9286 - val_loss: 0.2915 - val_accuracy: 0.9474\n",
      "Epoch 117/7000\n",
      "4/4 [==============================] - 0s 24ms/step - loss: 0.2620 - accuracy: 0.9286 - val_loss: 0.2900 - val_accuracy: 0.9474\n",
      "Epoch 118/7000\n",
      "4/4 [==============================] - 0s 25ms/step - loss: 0.2606 - accuracy: 0.9286 - val_loss: 0.2885 - val_accuracy: 0.9474\n",
      "Epoch 119/7000\n",
      "4/4 [==============================] - 0s 30ms/step - loss: 0.2593 - accuracy: 0.9286 - val_loss: 0.2870 - val_accuracy: 0.9474\n",
      "Epoch 120/7000\n",
      "4/4 [==============================] - 0s 36ms/step - loss: 0.2580 - accuracy: 0.9286 - val_loss: 0.2855 - val_accuracy: 0.9474\n",
      "Epoch 121/7000\n",
      "4/4 [==============================] - 0s 37ms/step - loss: 0.2568 - accuracy: 0.9286 - val_loss: 0.2840 - val_accuracy: 0.9474\n",
      "Epoch 122/7000\n",
      "4/4 [==============================] - 0s 39ms/step - loss: 0.2555 - accuracy: 0.9286 - val_loss: 0.2825 - val_accuracy: 0.9474\n",
      "Epoch 123/7000\n",
      "4/4 [==============================] - 0s 30ms/step - loss: 0.2542 - accuracy: 0.9286 - val_loss: 0.2811 - val_accuracy: 0.9474\n",
      "Epoch 124/7000\n",
      "4/4 [==============================] - 0s 25ms/step - loss: 0.2532 - accuracy: 0.9286 - val_loss: 0.2798 - val_accuracy: 0.9474\n",
      "Epoch 125/7000\n",
      "4/4 [==============================] - 0s 23ms/step - loss: 0.2518 - accuracy: 0.9286 - val_loss: 0.2783 - val_accuracy: 0.9474\n",
      "Epoch 126/7000\n",
      "4/4 [==============================] - 0s 24ms/step - loss: 0.2508 - accuracy: 0.9286 - val_loss: 0.2768 - val_accuracy: 0.9474\n",
      "Epoch 127/7000\n",
      "4/4 [==============================] - 0s 21ms/step - loss: 0.2494 - accuracy: 0.9286 - val_loss: 0.2754 - val_accuracy: 0.9474\n",
      "Epoch 128/7000\n",
      "4/4 [==============================] - 0s 23ms/step - loss: 0.2483 - accuracy: 0.9286 - val_loss: 0.2741 - val_accuracy: 0.9474\n",
      "Epoch 129/7000\n",
      "4/4 [==============================] - 0s 22ms/step - loss: 0.2470 - accuracy: 0.9286 - val_loss: 0.2727 - val_accuracy: 0.9474\n",
      "Epoch 130/7000\n",
      "4/4 [==============================] - 0s 22ms/step - loss: 0.2458 - accuracy: 0.9286 - val_loss: 0.2714 - val_accuracy: 0.9474\n",
      "Epoch 131/7000\n",
      "4/4 [==============================] - 0s 24ms/step - loss: 0.2447 - accuracy: 0.9286 - val_loss: 0.2701 - val_accuracy: 0.9474\n",
      "Epoch 132/7000\n",
      "4/4 [==============================] - 0s 22ms/step - loss: 0.2436 - accuracy: 0.9286 - val_loss: 0.2687 - val_accuracy: 0.9474\n",
      "Epoch 133/7000\n",
      "4/4 [==============================] - 0s 21ms/step - loss: 0.2423 - accuracy: 0.9286 - val_loss: 0.2673 - val_accuracy: 0.9474\n",
      "Epoch 134/7000\n",
      "4/4 [==============================] - 0s 23ms/step - loss: 0.2412 - accuracy: 0.9286 - val_loss: 0.2660 - val_accuracy: 0.9474\n",
      "Epoch 135/7000\n",
      "4/4 [==============================] - 0s 23ms/step - loss: 0.2401 - accuracy: 0.9286 - val_loss: 0.2647 - val_accuracy: 0.9474\n",
      "Epoch 136/7000\n",
      "4/4 [==============================] - 0s 21ms/step - loss: 0.2389 - accuracy: 0.9286 - val_loss: 0.2633 - val_accuracy: 0.9474\n",
      "Epoch 137/7000\n",
      "4/4 [==============================] - 0s 21ms/step - loss: 0.2378 - accuracy: 0.9286 - val_loss: 0.2620 - val_accuracy: 0.9737\n",
      "Epoch 138/7000\n",
      "4/4 [==============================] - 0s 22ms/step - loss: 0.2367 - accuracy: 0.9196 - val_loss: 0.2606 - val_accuracy: 0.9737\n",
      "Epoch 139/7000\n",
      "4/4 [==============================] - 0s 22ms/step - loss: 0.2356 - accuracy: 0.9196 - val_loss: 0.2594 - val_accuracy: 0.9737\n",
      "Epoch 140/7000\n",
      "4/4 [==============================] - 0s 27ms/step - loss: 0.2344 - accuracy: 0.9196 - val_loss: 0.2580 - val_accuracy: 0.9737\n",
      "Epoch 141/7000\n",
      "4/4 [==============================] - 0s 25ms/step - loss: 0.2334 - accuracy: 0.9196 - val_loss: 0.2567 - val_accuracy: 0.9737\n",
      "Epoch 142/7000\n",
      "4/4 [==============================] - 0s 22ms/step - loss: 0.2323 - accuracy: 0.9196 - val_loss: 0.2555 - val_accuracy: 0.9737\n",
      "Epoch 143/7000\n",
      "4/4 [==============================] - 0s 31ms/step - loss: 0.2312 - accuracy: 0.9286 - val_loss: 0.2542 - val_accuracy: 0.9737\n",
      "Epoch 144/7000\n",
      "4/4 [==============================] - 0s 34ms/step - loss: 0.2301 - accuracy: 0.9286 - val_loss: 0.2529 - val_accuracy: 0.9737\n",
      "Epoch 145/7000\n",
      "4/4 [==============================] - 0s 38ms/step - loss: 0.2290 - accuracy: 0.9286 - val_loss: 0.2516 - val_accuracy: 0.9737\n",
      "Epoch 146/7000\n",
      "4/4 [==============================] - 0s 38ms/step - loss: 0.2280 - accuracy: 0.9286 - val_loss: 0.2503 - val_accuracy: 0.9737\n",
      "Epoch 147/7000\n",
      "4/4 [==============================] - 0s 35ms/step - loss: 0.2268 - accuracy: 0.9286 - val_loss: 0.2490 - val_accuracy: 0.9737\n",
      "Epoch 148/7000\n",
      "4/4 [==============================] - 0s 26ms/step - loss: 0.2257 - accuracy: 0.9286 - val_loss: 0.2477 - val_accuracy: 0.9737\n",
      "Epoch 149/7000\n",
      "4/4 [==============================] - 0s 23ms/step - loss: 0.2247 - accuracy: 0.9286 - val_loss: 0.2465 - val_accuracy: 0.9737\n",
      "Epoch 150/7000\n",
      "4/4 [==============================] - 0s 21ms/step - loss: 0.2237 - accuracy: 0.9286 - val_loss: 0.2453 - val_accuracy: 0.9737\n",
      "Epoch 151/7000\n",
      "4/4 [==============================] - 0s 23ms/step - loss: 0.2226 - accuracy: 0.9286 - val_loss: 0.2441 - val_accuracy: 0.9737\n",
      "Epoch 152/7000\n",
      "4/4 [==============================] - 0s 28ms/step - loss: 0.2215 - accuracy: 0.9286 - val_loss: 0.2428 - val_accuracy: 0.9737\n",
      "Epoch 153/7000\n",
      "4/4 [==============================] - 0s 28ms/step - loss: 0.2206 - accuracy: 0.9286 - val_loss: 0.2415 - val_accuracy: 0.9737\n",
      "Epoch 154/7000\n",
      "4/4 [==============================] - 0s 40ms/step - loss: 0.2194 - accuracy: 0.9286 - val_loss: 0.2403 - val_accuracy: 0.9737\n",
      "Epoch 155/7000\n",
      "4/4 [==============================] - 0s 36ms/step - loss: 0.2187 - accuracy: 0.9286 - val_loss: 0.2390 - val_accuracy: 0.9737\n",
      "Epoch 156/7000\n",
      "4/4 [==============================] - 0s 33ms/step - loss: 0.2174 - accuracy: 0.9286 - val_loss: 0.2378 - val_accuracy: 0.9737\n",
      "Epoch 157/7000\n",
      "4/4 [==============================] - 0s 32ms/step - loss: 0.2166 - accuracy: 0.9286 - val_loss: 0.2366 - val_accuracy: 0.9737\n",
      "Epoch 158/7000\n",
      "4/4 [==============================] - 0s 28ms/step - loss: 0.2155 - accuracy: 0.9286 - val_loss: 0.2354 - val_accuracy: 0.9737\n",
      "Epoch 159/7000\n",
      "4/4 [==============================] - 0s 28ms/step - loss: 0.2146 - accuracy: 0.9286 - val_loss: 0.2342 - val_accuracy: 0.9737\n",
      "Epoch 160/7000\n",
      "4/4 [==============================] - 0s 27ms/step - loss: 0.2138 - accuracy: 0.9464 - val_loss: 0.2331 - val_accuracy: 0.9737\n",
      "Epoch 161/7000\n",
      "4/4 [==============================] - 0s 21ms/step - loss: 0.2125 - accuracy: 0.9464 - val_loss: 0.2319 - val_accuracy: 0.9737\n",
      "Epoch 162/7000\n",
      "4/4 [==============================] - 0s 22ms/step - loss: 0.2116 - accuracy: 0.9464 - val_loss: 0.2307 - val_accuracy: 0.9737\n",
      "Epoch 163/7000\n",
      "4/4 [==============================] - 0s 34ms/step - loss: 0.2106 - accuracy: 0.9464 - val_loss: 0.2295 - val_accuracy: 0.9737\n",
      "Epoch 164/7000\n",
      "4/4 [==============================] - 0s 35ms/step - loss: 0.2097 - accuracy: 0.9464 - val_loss: 0.2284 - val_accuracy: 0.9737\n",
      "Epoch 165/7000\n",
      "4/4 [==============================] - 0s 41ms/step - loss: 0.2086 - accuracy: 0.9464 - val_loss: 0.2272 - val_accuracy: 0.9737\n",
      "Epoch 166/7000\n",
      "4/4 [==============================] - 0s 34ms/step - loss: 0.2078 - accuracy: 0.9464 - val_loss: 0.2260 - val_accuracy: 0.9737\n",
      "Epoch 167/7000\n",
      "4/4 [==============================] - 0s 32ms/step - loss: 0.2068 - accuracy: 0.9464 - val_loss: 0.2249 - val_accuracy: 0.9737\n",
      "Epoch 168/7000\n",
      "4/4 [==============================] - 0s 22ms/step - loss: 0.2058 - accuracy: 0.9464 - val_loss: 0.2237 - val_accuracy: 0.9737\n",
      "Epoch 169/7000\n",
      "4/4 [==============================] - 0s 79ms/step - loss: 0.2049 - accuracy: 0.9464 - val_loss: 0.2226 - val_accuracy: 0.9737\n",
      "Epoch 170/7000\n",
      "4/4 [==============================] - 0s 21ms/step - loss: 0.2040 - accuracy: 0.9464 - val_loss: 0.2214 - val_accuracy: 0.9737\n",
      "Epoch 171/7000\n",
      "4/4 [==============================] - 0s 21ms/step - loss: 0.2030 - accuracy: 0.9464 - val_loss: 0.2203 - val_accuracy: 0.9737\n",
      "Epoch 172/7000\n",
      "4/4 [==============================] - 0s 23ms/step - loss: 0.2022 - accuracy: 0.9464 - val_loss: 0.2193 - val_accuracy: 0.9737\n",
      "Epoch 173/7000\n"
     ]
    },
    {
     "name": "stdout",
     "output_type": "stream",
     "text": [
      "4/4 [==============================] - 0s 23ms/step - loss: 0.2013 - accuracy: 0.9464 - val_loss: 0.2181 - val_accuracy: 0.9737\n",
      "Epoch 174/7000\n",
      "4/4 [==============================] - 0s 22ms/step - loss: 0.2002 - accuracy: 0.9375 - val_loss: 0.2169 - val_accuracy: 0.9737\n",
      "Epoch 175/7000\n",
      "4/4 [==============================] - 0s 24ms/step - loss: 0.1994 - accuracy: 0.9375 - val_loss: 0.2158 - val_accuracy: 0.9737\n",
      "Epoch 176/7000\n",
      "4/4 [==============================] - 0s 21ms/step - loss: 0.1985 - accuracy: 0.9375 - val_loss: 0.2147 - val_accuracy: 0.9737\n",
      "Epoch 177/7000\n",
      "4/4 [==============================] - 0s 23ms/step - loss: 0.1977 - accuracy: 0.9375 - val_loss: 0.2135 - val_accuracy: 0.9737\n",
      "Epoch 178/7000\n",
      "4/4 [==============================] - 0s 21ms/step - loss: 0.1967 - accuracy: 0.9375 - val_loss: 0.2124 - val_accuracy: 0.9737\n",
      "Epoch 179/7000\n",
      "4/4 [==============================] - 0s 24ms/step - loss: 0.1959 - accuracy: 0.9375 - val_loss: 0.2113 - val_accuracy: 0.9737\n",
      "Epoch 180/7000\n",
      "4/4 [==============================] - 0s 24ms/step - loss: 0.1950 - accuracy: 0.9375 - val_loss: 0.2102 - val_accuracy: 0.9737\n",
      "Epoch 181/7000\n",
      "4/4 [==============================] - 0s 27ms/step - loss: 0.1941 - accuracy: 0.9375 - val_loss: 0.2092 - val_accuracy: 0.9737\n",
      "Epoch 182/7000\n",
      "4/4 [==============================] - 0s 30ms/step - loss: 0.1933 - accuracy: 0.9375 - val_loss: 0.2082 - val_accuracy: 0.9737\n",
      "Epoch 00182: early stopping\n",
      "4/4 [==============================] - 0s 3ms/step - loss: 0.1926 - accuracy: 0.9375\n",
      "Train score: [0.19256870448589325, 0.9375]\n",
      "2/2 [==============================] - 0s 3ms/step - loss: 0.2082 - accuracy: 0.9737\n",
      "Test score: [0.20824413001537323, 0.9736841917037964]\n"
     ]
    }
   ],
   "source": [
    "model.compile(optimizer='adam',\n",
    "              loss='sparse_categorical_crossentropy',\n",
    "              metrics=['accuracy'])\n",
    "\n",
    "# Train the model\n",
    "r = model.fit(X_train, y_train, validation_data=(X_test, y_test), epochs=7000,callbacks=[es])\n",
    "\n",
    "\n",
    "# Evaluate the model - evaluate() returns loss and accuracy\n",
    "print(\"Train score:\", model.evaluate(X_train, y_train))\n",
    "print(\"Test score:\", model.evaluate(X_test, y_test))"
   ]
  },
  {
   "cell_type": "code",
   "execution_count": 21,
   "metadata": {},
   "outputs": [
    {
     "data": {
      "text/plain": [
       "<matplotlib.legend.Legend at 0x2072bf44588>"
      ]
     },
     "execution_count": 21,
     "metadata": {},
     "output_type": "execute_result"
    },
    {
     "data": {
      "image/png": "[encoded data removed]",
      "text/plain": [
       "<Figure size 432x288 with 1 Axes>"
      ]
     },
     "metadata": {
      "needs_background": "light"
     },
     "output_type": "display_data"
    }
   ],
   "source": [
    "# Plot loss per iteration\n",
    "import matplotlib.pyplot as plt\n",
    "plt.plot(r.history['loss'], label='loss')\n",
    "plt.plot(r.history['val_loss'], label='val_loss')\n",
    "plt.legend()"
   ]
  },
  {
   "cell_type": "code",
   "execution_count": 22,
   "metadata": {},
   "outputs": [
    {
     "name": "stdout",
     "output_type": "stream",
     "text": [
      "2/2 [==============================] - 0s 4ms/step - loss: 0.2082 - accuracy: 0.9737\n",
      "[0.20824413001537323, 0.9736841917037964]\n"
     ]
    }
   ],
   "source": [
    "print(model.evaluate(X_test, y_test))"
   ]
  },
  {
   "cell_type": "code",
   "execution_count": 28,
   "metadata": {},
   "outputs": [
    {
     "data": {
      "text/plain": [
       "array([[14,  0,  0],\n",
       "       [ 0, 12,  0],\n",
       "       [ 0,  1, 11]], dtype=int64)"
      ]
     },
     "execution_count": 28,
     "metadata": {},
     "output_type": "execute_result"
    }
   ],
   "source": [
    "from sklearn.metrics import confusion_matrix\n",
    "\n",
    "p_test = model.predict(X_test).argmax(axis=1)\n",
    "cm = confusion_matrix(y_test, p_test)\n",
    "cm"
   ]
  },
  {
   "cell_type": "markdown",
   "metadata": {},
   "source": [
    "## CLASSIFICATION OF IRIS DATASET WITH ML"
   ]
  },
  {
   "cell_type": "code",
   "execution_count": 25,
   "metadata": {},
   "outputs": [
    {
     "name": "stdout",
     "output_type": "stream",
     "text": [
      "Accuracy score: 0.97\n",
      "Mean squared error: 0.03\n",
      "Variance score: 0.96\n",
      "Accuracy score: 0.97\n"
     ]
    }
   ],
   "source": [
    "from sklearn import linear_model\n",
    "from sklearn.metrics import mean_squared_error, explained_variance_score, accuracy_score\n",
    "\n",
    "#train the model with training data\n",
    "regr = linear_model.LogisticRegression()\n",
    "regr.fit(X_train,y_train)\n",
    "\n",
    "#Predict our test data\n",
    "sklearn_predict = regr.predict(X_test)\n",
    "\n",
    "# Accuracy score\n",
    "print(\"Accuracy score: %.2f\" % accuracy_score(sklearn_predict, y_test))\n",
    "# The mean squared error\n",
    "print(\"Mean squared error: %.2f\" % mean_squared_error(sklearn_predict, y_test))\n",
    "# Explained variance score: 1 is perfect prediction\n",
    "print('Variance score: %.2f' % explained_variance_score(y_test, sklearn_predict))\n",
    "\n",
    "\n",
    "# Accuracy score\n",
    "print(\"Accuracy score: %.2f\" % accuracy_score(sklearn_predict, y_test))\n",
    "# The mean squared error\n"
   ]
  },
  {
   "cell_type": "code",
   "execution_count": 30,
   "metadata": {},
   "outputs": [
    {
     "data": {
      "text/plain": [
       "array([[14,  0,  0],\n",
       "       [ 0, 12,  0],\n",
       "       [ 0,  1, 11]], dtype=int64)"
      ]
     },
     "execution_count": 30,
     "metadata": {},
     "output_type": "execute_result"
    }
   ],
   "source": [
    "from sklearn.metrics import confusion_matrix\n",
    "\n",
    "p_test = regr.predict(X_test)\n",
    "cm = confusion_matrix(y_test, p_test)\n",
    "cm"
   ]
  },
  {
   "cell_type": "code",
   "execution_count": null,
   "metadata": {},
   "outputs": [],
   "source": []
  }
 ],
 "metadata": {
  "kernelspec": {
   "display_name": "Python [conda env:py3tf2]",
   "language": "python",
   "name": "conda-env-py3tf2-py"
  },
  "language_info": {
   "codemirror_mode": {
    "name": "ipython",
    "version": 3
   },
   "file_extension": ".py",
   "mimetype": "text/x-python",
   "name": "python",
   "nbconvert_exporter": "python",
   "pygments_lexer": "ipython3",
   "version": "3.7.7"
  }
 },
 "nbformat": 4,
 "nbformat_minor": 4
}
